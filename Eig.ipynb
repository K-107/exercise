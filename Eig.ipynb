{
  "nbformat": 4,
  "nbformat_minor": 0,
  "metadata": {
    "colab": {
      "name": "Eig.ipynb",
      "provenance": [],
      "authorship_tag": "ABX9TyPlgLVqHs/R0SQPWOtITU9Y",
      "include_colab_link": true
    },
    "kernelspec": {
      "name": "python3",
      "display_name": "Python 3"
    },
    "language_info": {
      "name": "python"
    }
  },
  "cells": [
    {
      "cell_type": "markdown",
      "metadata": {
        "id": "view-in-github",
        "colab_type": "text"
      },
      "source": [
        "<a href=\"https://colab.research.google.com/github/K-107/exercise/blob/main/Eig.ipynb\" target=\"_parent\"><img src=\"https://colab.research.google.com/assets/colab-badge.svg\" alt=\"Open In Colab\"/></a>"
      ]
    },
    {
      "cell_type": "markdown",
      "metadata": {
        "id": "Ks64zAy_PiXN"
      },
      "source": [
        "# 고유값분해\n",
        "\n",
        "https://post.naver.com/viewer/postView.naver?volumeNo=28714805&memberNo=21815"
      ]
    },
    {
      "cell_type": "code",
      "metadata": {
        "colab": {
          "base_uri": "https://localhost:8080/"
        },
        "id": "BSwwDFPMIuQf",
        "outputId": "20e8c498-43f6-4cc9-a9c3-17082cf072e3"
      },
      "source": [
        "# numpy의 svd 모듈 import\n",
        "import numpy as np\n",
        "\n",
        "# [A, B] = [[A&흑, A&백],[B&흑, B&백]] 행렬곱 [흑, 백]\n",
        "matrix = [[0.05, 0.45],[0.1, 0.4]]\n",
        "A = np.array(matrix)\n",
        "A"
      ],
      "execution_count": 37,
      "outputs": [
        {
          "output_type": "execute_result",
          "data": {
            "text/plain": [
              "array([[0.05, 0.45],\n",
              "       [0.1 , 0.4 ]])"
            ]
          },
          "metadata": {},
          "execution_count": 37
        }
      ]
    },
    {
      "cell_type": "code",
      "metadata": {
        "colab": {
          "base_uri": "https://localhost:8080/"
        },
        "id": "FWHz_J7-LsT0",
        "outputId": "1a426fbc-c4d6-4072-8024-606e3cefd444"
      },
      "source": [
        "eigenvalue, eigenvector = np.linalg.eig(matrix)\n",
        "eigenvalue, eigenvector"
      ],
      "execution_count": 38,
      "outputs": [
        {
          "output_type": "execute_result",
          "data": {
            "text/plain": [
              "(array([-0.05,  0.5 ]), array([[-0.97618706, -0.70710678],\n",
              "        [ 0.21693046, -0.70710678]]))"
            ]
          },
          "metadata": {},
          "execution_count": 38
        }
      ]
    },
    {
      "cell_type": "code",
      "metadata": {
        "colab": {
          "base_uri": "https://localhost:8080/"
        },
        "id": "p-8hSshiJg2U",
        "outputId": "f88ea2b5-ab21-4381-d9bd-2fb676fbb3a0"
      },
      "source": [
        "eigenvalue = np.round(eigenvalue, 5) # 소수점 5자리로 반올림\n",
        "eigenvector = np.round(eigenvector, 5) # 소수점 5자리로 반올림\n",
        "print(\"Eigen Value: \")\n",
        "print(eigenvalue)\n",
        "print()"
      ],
      "execution_count": 39,
      "outputs": [
        {
          "output_type": "stream",
          "name": "stdout",
          "text": [
            "Eigen Value: \n",
            "[-0.05  0.5 ]\n",
            "\n"
          ]
        }
      ]
    },
    {
      "cell_type": "code",
      "metadata": {
        "colab": {
          "base_uri": "https://localhost:8080/"
        },
        "id": "atvlc7R4Jgz6",
        "outputId": "ef99b2d3-c7ec-44a9-a654-073e538cbfc2"
      },
      "source": [
        "print(\"Eigen Value Diagonal Matrix \\u039B(lambda): \")\n",
        "eigenvalue = np.array([[eigenvalue[0], 0], [0, eigenvalue[1]]])\n",
        "print(eigenvalue)\n",
        "print()"
      ],
      "execution_count": 40,
      "outputs": [
        {
          "output_type": "stream",
          "name": "stdout",
          "text": [
            "Eigen Value Diagonal Matrix Λ(lambda): \n",
            "[[-0.05  0.  ]\n",
            " [ 0.    0.5 ]]\n",
            "\n"
          ]
        }
      ]
    },
    {
      "cell_type": "code",
      "metadata": {
        "colab": {
          "base_uri": "https://localhost:8080/"
        },
        "id": "TXv4iUoMJgxO",
        "outputId": "11417990-42ec-4ccc-a58c-492055341a47"
      },
      "source": [
        "print(\"Eigen Vector Matix P: \")\n",
        "print(eigenvector)\n",
        "print()"
      ],
      "execution_count": 41,
      "outputs": [
        {
          "output_type": "stream",
          "name": "stdout",
          "text": [
            "Eigen Vector Matix P: \n",
            "[[-0.97619 -0.70711]\n",
            " [ 0.21693 -0.70711]]\n",
            "\n"
          ]
        }
      ]
    },
    {
      "cell_type": "code",
      "metadata": {
        "colab": {
          "base_uri": "https://localhost:8080/"
        },
        "id": "O-xT3nrHMkaQ",
        "outputId": "57cb213c-9279-4dbd-aee2-6ae491cea2cb"
      },
      "source": [
        "print(\"AP = \")\n",
        "print(np.round(A@eigenvector, 3))\n",
        "print()"
      ],
      "execution_count": 44,
      "outputs": [
        {
          "output_type": "stream",
          "name": "stdout",
          "text": [
            "AP = \n",
            "[[ 0.049 -0.354]\n",
            " [-0.011 -0.354]]\n",
            "\n"
          ]
        }
      ]
    },
    {
      "cell_type": "code",
      "metadata": {
        "colab": {
          "base_uri": "https://localhost:8080/"
        },
        "id": "uhOzonzkM3ed",
        "outputId": "535ed543-462f-4a86-fe63-ab800fbbb9cd"
      },
      "source": [
        "print(\"P\\u039B =\")\n",
        "print(np.round(eigenvector@eigenvalue, 3))"
      ],
      "execution_count": 45,
      "outputs": [
        {
          "output_type": "stream",
          "name": "stdout",
          "text": [
            "PΛ =\n",
            "[[ 0.049 -0.354]\n",
            " [-0.011 -0.354]]\n"
          ]
        }
      ]
    },
    {
      "cell_type": "code",
      "metadata": {
        "colab": {
          "base_uri": "https://localhost:8080/"
        },
        "id": "cnmaVqHWM8NP",
        "outputId": "bf7ce6b6-fd70-4741-cc4c-e0c321b2e067"
      },
      "source": [
        "print(\"P\\u039BP^-1 =\")\n",
        "print(np.round(eigenvector@eigenvalue@np.linalg.inv(eigenvector),3))\n",
        "print('A =\\n', A)"
      ],
      "execution_count": 49,
      "outputs": [
        {
          "output_type": "stream",
          "name": "stdout",
          "text": [
            "PΛP^-1 =\n",
            "[[0.05 0.45]\n",
            " [0.1  0.4 ]]\n",
            "A =\n",
            " [[0.05 0.45]\n",
            " [0.1  0.4 ]]\n"
          ]
        }
      ]
    },
    {
      "cell_type": "code",
      "metadata": {
        "colab": {
          "base_uri": "https://localhost:8080/"
        },
        "id": "FDhv1OS-Osb0",
        "outputId": "6a5eb8ef-85af-4dc1-ef7b-61caf2a3df86"
      },
      "source": [
        "print(\"PP^-1 =\")\n",
        "print(np.round(eigenvector@np.linalg.inv(eigenvector),3))"
      ],
      "execution_count": 51,
      "outputs": [
        {
          "output_type": "stream",
          "name": "stdout",
          "text": [
            "PP^-1 =\n",
            "[[ 1. -0.]\n",
            " [-0.  1.]]\n"
          ]
        }
      ]
    },
    {
      "cell_type": "code",
      "metadata": {
        "colab": {
          "base_uri": "https://localhost:8080/"
        },
        "id": "h_x-GjCEO3IC",
        "outputId": "a6b8fcca-0911-48c4-d735-d26c4c8f8230"
      },
      "source": [
        "eigenvalue**10000\n",
        "# 이건 제곱하면 0으로 수렴한다."
      ],
      "execution_count": 52,
      "outputs": [
        {
          "output_type": "execute_result",
          "data": {
            "text/plain": [
              "array([[0., 0.],\n",
              "       [0., 0.]])"
            ]
          },
          "metadata": {},
          "execution_count": 52
        }
      ]
    }
  ]
}