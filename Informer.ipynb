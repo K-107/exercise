{
  "nbformat": 4,
  "nbformat_minor": 0,
  "metadata": {
    "colab": {
      "name": "Informer.ipynb",
      "provenance": [],
      "collapsed_sections": [],
      "include_colab_link": true
    },
    "kernelspec": {
      "name": "python3",
      "display_name": "Python 3"
    },
    "accelerator": "GPU"
  },
  "cells": [
    {
      "cell_type": "markdown",
      "metadata": {
        "id": "view-in-github",
        "colab_type": "text"
      },
      "source": [
        "<a href=\"https://colab.research.google.com/github/K-107/exercise/blob/main/Informer.ipynb\" target=\"_parent\"><img src=\"https://colab.research.google.com/assets/colab-badge.svg\" alt=\"Open In Colab\"/></a>"
      ]
    },
    {
      "cell_type": "markdown",
      "metadata": {
        "id": "5IM6CZzW_CH0"
      },
      "source": [
        "# Informer Demo"
      ]
    },
    {
      "cell_type": "markdown",
      "metadata": {
        "id": "kdaIHYx4_ECL"
      },
      "source": [
        "## Download code and dataset"
      ]
    },
    {
      "cell_type": "code",
      "metadata": {
        "colab": {
          "base_uri": "https://localhost:8080/"
        },
        "id": "SA_i2gbl-rn-",
        "outputId": "2b7932ff-2286-45a0-da31-0a8afa502d9b"
      },
      "source": [
        "!git clone https://github.com/zhouhaoyi/Informer2020.git\n",
        "!git clone https://github.com/zhouhaoyi/ETDataset.git\n",
        "!ls"
      ],
      "execution_count": 1,
      "outputs": [
        {
          "output_type": "stream",
          "name": "stdout",
          "text": [
            "Cloning into 'Informer2020'...\n",
            "remote: Enumerating objects: 538, done.\u001b[K\n",
            "remote: Counting objects: 100% (3/3), done.\u001b[K\n",
            "remote: Compressing objects: 100% (3/3), done.\u001b[K\n",
            "remote: Total 538 (delta 0), reused 0 (delta 0), pack-reused 535\u001b[K\n",
            "Receiving objects: 100% (538/538), 6.48 MiB | 12.31 MiB/s, done.\n",
            "Resolving deltas: 100% (306/306), done.\n",
            "Cloning into 'ETDataset'...\n",
            "remote: Enumerating objects: 187, done.\u001b[K\n",
            "remote: Counting objects: 100% (187/187), done.\u001b[K\n",
            "remote: Compressing objects: 100% (184/184), done.\u001b[K\n",
            "remote: Total 187 (delta 66), reused 13 (delta 2), pack-reused 0\u001b[K\n",
            "Receiving objects: 100% (187/187), 3.85 MiB | 11.54 MiB/s, done.\n",
            "Resolving deltas: 100% (66/66), done.\n",
            "ETDataset  Informer2020  sample_data\n"
          ]
        }
      ]
    },
    {
      "cell_type": "code",
      "metadata": {
        "id": "b5GFng7v7Eq0"
      },
      "source": [
        "import sys\n",
        "if not 'Informer2020' in sys.path:\n",
        "    sys.path += ['Informer2020']"
      ],
      "execution_count": 2,
      "outputs": []
    },
    {
      "cell_type": "code",
      "metadata": {
        "id": "2KqgmIyoN5wO",
        "colab": {
          "base_uri": "https://localhost:8080/"
        },
        "outputId": "f137e951-9d73-4ed1-e531-92f370125d89"
      },
      "source": [
        "sys.path"
      ],
      "execution_count": 3,
      "outputs": [
        {
          "output_type": "execute_result",
          "data": {
            "text/plain": [
              "['',\n",
              " '/content',\n",
              " '/env/python',\n",
              " '/usr/lib/python37.zip',\n",
              " '/usr/lib/python3.7',\n",
              " '/usr/lib/python3.7/lib-dynload',\n",
              " '/usr/local/lib/python3.7/dist-packages',\n",
              " '/usr/lib/python3/dist-packages',\n",
              " '/usr/local/lib/python3.7/dist-packages/IPython/extensions',\n",
              " '/root/.ipython',\n",
              " 'Informer2020']"
            ]
          },
          "metadata": {},
          "execution_count": 3
        }
      ]
    },
    {
      "cell_type": "code",
      "metadata": {
        "id": "hJTYEoZfN7RB",
        "colab": {
          "base_uri": "https://localhost:8080/"
        },
        "outputId": "3f177c85-9c30-4492-a8b7-3377c57ab972"
      },
      "source": [
        "!pwd"
      ],
      "execution_count": 4,
      "outputs": [
        {
          "output_type": "stream",
          "name": "stdout",
          "text": [
            "/content\n"
          ]
        }
      ]
    },
    {
      "cell_type": "code",
      "metadata": {
        "id": "2hkHxZqRN-zh",
        "colab": {
          "base_uri": "https://localhost:8080/"
        },
        "outputId": "4133f93a-f85c-4bb2-8b7d-ed6e04f50101"
      },
      "source": [
        "!ls"
      ],
      "execution_count": 5,
      "outputs": [
        {
          "output_type": "stream",
          "name": "stdout",
          "text": [
            "ETDataset  Informer2020  sample_data\n"
          ]
        }
      ]
    },
    {
      "cell_type": "code",
      "metadata": {
        "id": "YW9TS6jp_YXc",
        "colab": {
          "base_uri": "https://localhost:8080/",
          "height": 1000
        },
        "outputId": "cdeb8606-28ac-42f8-ac0b-e48c44696b66"
      },
      "source": [
        "!pip install -r ./Informer2020/requirements.txt"
      ],
      "execution_count": 6,
      "outputs": [
        {
          "output_type": "stream",
          "name": "stdout",
          "text": [
            "Collecting matplotlib==3.1.1\n",
            "  Downloading matplotlib-3.1.1-cp37-cp37m-manylinux1_x86_64.whl (13.1 MB)\n",
            "\u001b[K     |████████████████████████████████| 13.1 MB 7.1 kB/s \n",
            "\u001b[?25hCollecting numpy==1.19.4\n",
            "  Downloading numpy-1.19.4-cp37-cp37m-manylinux2010_x86_64.whl (14.5 MB)\n",
            "\u001b[K     |████████████████████████████████| 14.5 MB 80 kB/s \n",
            "\u001b[?25hCollecting pandas==0.25.1\n",
            "  Downloading pandas-0.25.1-cp37-cp37m-manylinux1_x86_64.whl (10.4 MB)\n",
            "\u001b[K     |████████████████████████████████| 10.4 MB 46.4 MB/s \n",
            "\u001b[?25hCollecting scikit_learn==0.21.3\n",
            "  Downloading scikit_learn-0.21.3-cp37-cp37m-manylinux1_x86_64.whl (6.7 MB)\n",
            "\u001b[K     |████████████████████████████████| 6.7 MB 20.7 MB/s \n",
            "\u001b[?25hCollecting torch==1.8.0\n",
            "  Downloading torch-1.8.0-cp37-cp37m-manylinux1_x86_64.whl (735.5 MB)\n",
            "\u001b[K     |████████████████████████████████| 735.5 MB 15 kB/s \n",
            "\u001b[?25hRequirement already satisfied: kiwisolver>=1.0.1 in /usr/local/lib/python3.7/dist-packages (from matplotlib==3.1.1->-r ./Informer2020/requirements.txt (line 1)) (1.3.2)\n",
            "Requirement already satisfied: pyparsing!=2.0.4,!=2.1.2,!=2.1.6,>=2.0.1 in /usr/local/lib/python3.7/dist-packages (from matplotlib==3.1.1->-r ./Informer2020/requirements.txt (line 1)) (2.4.7)\n",
            "Requirement already satisfied: cycler>=0.10 in /usr/local/lib/python3.7/dist-packages (from matplotlib==3.1.1->-r ./Informer2020/requirements.txt (line 1)) (0.10.0)\n",
            "Requirement already satisfied: python-dateutil>=2.1 in /usr/local/lib/python3.7/dist-packages (from matplotlib==3.1.1->-r ./Informer2020/requirements.txt (line 1)) (2.8.2)\n",
            "Requirement already satisfied: pytz>=2017.2 in /usr/local/lib/python3.7/dist-packages (from pandas==0.25.1->-r ./Informer2020/requirements.txt (line 3)) (2018.9)\n",
            "Requirement already satisfied: joblib>=0.11 in /usr/local/lib/python3.7/dist-packages (from scikit_learn==0.21.3->-r ./Informer2020/requirements.txt (line 4)) (1.0.1)\n",
            "Requirement already satisfied: scipy>=0.17.0 in /usr/local/lib/python3.7/dist-packages (from scikit_learn==0.21.3->-r ./Informer2020/requirements.txt (line 4)) (1.4.1)\n",
            "Requirement already satisfied: typing-extensions in /usr/local/lib/python3.7/dist-packages (from torch==1.8.0->-r ./Informer2020/requirements.txt (line 5)) (3.7.4.3)\n",
            "Requirement already satisfied: six in /usr/local/lib/python3.7/dist-packages (from cycler>=0.10->matplotlib==3.1.1->-r ./Informer2020/requirements.txt (line 1)) (1.15.0)\n",
            "Installing collected packages: numpy, torch, scikit-learn, pandas, matplotlib\n",
            "  Attempting uninstall: numpy\n",
            "    Found existing installation: numpy 1.19.5\n",
            "    Uninstalling numpy-1.19.5:\n",
            "      Successfully uninstalled numpy-1.19.5\n",
            "  Attempting uninstall: torch\n",
            "    Found existing installation: torch 1.9.0+cu111\n",
            "    Uninstalling torch-1.9.0+cu111:\n",
            "      Successfully uninstalled torch-1.9.0+cu111\n",
            "  Attempting uninstall: scikit-learn\n",
            "    Found existing installation: scikit-learn 0.22.2.post1\n",
            "    Uninstalling scikit-learn-0.22.2.post1:\n",
            "      Successfully uninstalled scikit-learn-0.22.2.post1\n",
            "  Attempting uninstall: pandas\n",
            "    Found existing installation: pandas 1.1.5\n",
            "    Uninstalling pandas-1.1.5:\n",
            "      Successfully uninstalled pandas-1.1.5\n",
            "  Attempting uninstall: matplotlib\n",
            "    Found existing installation: matplotlib 3.2.2\n",
            "    Uninstalling matplotlib-3.2.2:\n",
            "      Successfully uninstalled matplotlib-3.2.2\n",
            "\u001b[31mERROR: pip's dependency resolver does not currently take into account all the packages that are installed. This behaviour is the source of the following dependency conflicts.\n",
            "xarray 0.18.2 requires pandas>=1.0, but you have pandas 0.25.1 which is incompatible.\n",
            "torchvision 0.10.0+cu111 requires torch==1.9.0, but you have torch 1.8.0 which is incompatible.\n",
            "torchtext 0.10.0 requires torch==1.9.0, but you have torch 1.8.0 which is incompatible.\n",
            "google-colab 1.0.0 requires pandas~=1.1.0; python_version >= \"3.0\", but you have pandas 0.25.1 which is incompatible.\n",
            "fbprophet 0.7.1 requires pandas>=1.0.4, but you have pandas 0.25.1 which is incompatible.\n",
            "datascience 0.10.6 requires folium==0.2.1, but you have folium 0.8.3 which is incompatible.\n",
            "albumentations 0.1.12 requires imgaug<0.2.7,>=0.2.5, but you have imgaug 0.2.9 which is incompatible.\u001b[0m\n",
            "Successfully installed matplotlib-3.1.1 numpy-1.19.4 pandas-0.25.1 scikit-learn-0.21.3 torch-1.8.0\n"
          ]
        },
        {
          "output_type": "display_data",
          "data": {
            "application/vnd.colab-display-data+json": {
              "pip_warning": {
                "packages": [
                  "matplotlib",
                  "mpl_toolkits",
                  "numpy",
                  "pandas"
                ]
              }
            }
          },
          "metadata": {}
        }
      ]
    },
    {
      "cell_type": "markdown",
      "metadata": {
        "id": "0L7KUX61LEek"
      },
      "source": [
        "## Experiments: Train and Test"
      ]
    },
    {
      "cell_type": "code",
      "metadata": {
        "id": "unKdi_TCLFo_"
      },
      "source": [
        "from utils.tools import dotdict\n",
        "from exp.exp_informer import Exp_Informer\n",
        "import torch"
      ],
      "execution_count": 10,
      "outputs": []
    },
    {
      "cell_type": "code",
      "metadata": {
        "id": "LcqNjYcMLFmP"
      },
      "source": [
        "args = dotdict()\n",
        "\n",
        "args.model = 'informer' # model of experiment, options: [informer, informerstack, informerlight(TBD)]\n",
        "\n",
        "args.data = 'custom' # data\n",
        "args.root_path = './ETDataset/ETT-small/' # root path of data file\n",
        "args.data_path = 'ETTh1.csv' # data file\n",
        "args.features = 'MS' # forecasting task, options:[M, S, MS]; M:multivariate predict multivariate, S:univariate predict univariate, MS:multivariate predict univariate\n",
        "args.target = 'OT' # target feature in S or MS task\n",
        "args.freq = 'h' # freq for time features encoding, options:[s:secondly, t:minutely, h:hourly, d:daily, b:business days, w:weekly, m:monthly], you can also use more detailed freq like 15min or 3h\n",
        "args.checkpoints = './informer_checkpoints' # location of model checkpoints\n",
        "\n",
        "args.seq_len = 96 # input sequence length of Informer encoder\n",
        "args.label_len = 48 # start token length of Informer decoder\n",
        "args.pred_len = 24 # prediction sequence length\n",
        "# Informer decoder input: concat[start token series(label_len), zero padding series(pred_len)]\n",
        "\n",
        "args.enc_in = 7 # encoder input size\n",
        "args.dec_in = 7 # decoder input size\n",
        "args.c_out = 1 # output size\n",
        "args.factor = 5 # probsparse attn factor\n",
        "args.d_model = 512 # dimension of model\n",
        "args.n_heads = 8 # num of heads\n",
        "args.e_layers = 2 # num of encoder layers\n",
        "args.d_layers = 1 # num of decoder layers\n",
        "args.d_ff = 2048 # dimension of fcn in model\n",
        "args.dropout = 0.05 # dropout\n",
        "args.attn = 'prob' # attention used in encoder, options:[prob, full]\n",
        "args.embed = 'timeF' # time features encoding, options:[timeF, fixed, learned]\n",
        "args.activation = 'gelu' # activation\n",
        "args.do_predict= True # 이걸로 예측한다!\n",
        "args.distil = True # whether to use distilling in encoder\n",
        "args.output_attention = False # whether to output attention in ecoder\n",
        "args.mix = True\n",
        "args.padding = 0\n",
        "args.freq = 'h'\n",
        "\n",
        "args.batch_size = 32 \n",
        "args.learning_rate = 0.0001\n",
        "args.loss = 'mse'\n",
        "args.lradj = 'type1'\n",
        "args.use_amp = False # whether to use automatic mixed precision training\n",
        "\n",
        "args.num_workers = 0\n",
        "args.itr = 1\n",
        "args.train_epochs = 3\n",
        "args.patience = 3\n",
        "args.des = 'exp'\n",
        "args.inverse = True # 이걸로 standardscaler 되돌려 놓는다!\n",
        "\n",
        "\n",
        "args.use_gpu = True if torch.cuda.is_available() else False\n",
        "args.gpu = 0\n",
        "\n",
        "args.use_multi_gpu = False\n",
        "args.devices = '0,1,2,3'\n"
      ],
      "execution_count": 82,
      "outputs": []
    },
    {
      "cell_type": "code",
      "metadata": {
        "id": "GZkjqOlrLFkA"
      },
      "source": [
        "args.use_gpu = True if torch.cuda.is_available() and args.use_gpu else False\n",
        "\n",
        "if args.use_gpu and args.use_multi_gpu:\n",
        "    args.devices = args.devices.replace(' ','')\n",
        "    device_ids = args.devices.split(',')\n",
        "    args.device_ids = [int(id_) for id_ in device_ids]\n",
        "    args.gpu = args.device_ids[0]"
      ],
      "execution_count": 83,
      "outputs": []
    },
    {
      "cell_type": "code",
      "metadata": {
        "id": "0aGEAfbkLFho"
      },
      "source": [
        "# Set augments by using data name\n",
        "data_parser = {\n",
        "    'ETTh1':{'data':'ETTh1.csv','T':'OT','M':[7,7,7],'S':[1,1,1],'MS':[7,7,1]},\n",
        "    'ETTh2':{'data':'ETTh2.csv','T':'OT','M':[7,7,7],'S':[1,1,1],'MS':[7,7,1]},\n",
        "    'ETTm1':{'data':'ETTm1.csv','T':'OT','M':[7,7,7],'S':[1,1,1],'MS':[7,7,1]},\n",
        "    'ETTm2':{'data':'ETTm2.csv','T':'OT','M':[7,7,7],'S':[1,1,1],'MS':[7,7,1]},\n",
        "}\n",
        "if args.data in data_parser.keys():\n",
        "    data_info = data_parser[args.data]\n",
        "    args.data_path = data_info['data']\n",
        "    args.target = data_info['T']\n",
        "    args.enc_in, args.dec_in, args.c_out = data_info[args.features]"
      ],
      "execution_count": 84,
      "outputs": []
    },
    {
      "cell_type": "code",
      "metadata": {
        "id": "c1RKcF2LLFfH"
      },
      "source": [
        "args.detail_freq = args.freq\n",
        "args.freq = args.freq[-1:]"
      ],
      "execution_count": 85,
      "outputs": []
    },
    {
      "cell_type": "code",
      "metadata": {
        "id": "h_KbQ2boLi1J",
        "outputId": "8fd6c8ab-ae31-45bd-f381-2128637f95f6",
        "colab": {
          "base_uri": "https://localhost:8080/"
        }
      },
      "source": [
        "print('Args in experiment:')\n",
        "print(args)"
      ],
      "execution_count": 86,
      "outputs": [
        {
          "output_type": "stream",
          "name": "stdout",
          "text": [
            "Args in experiment:\n",
            "{'model': 'informer', 'data': 'custom', 'root_path': './ETDataset/ETT-small/', 'data_path': 'ETTh1.csv', 'features': 'MS', 'target': 'OT', 'freq': 'h', 'checkpoints': './informer_checkpoints', 'seq_len': 96, 'label_len': 48, 'pred_len': 24, 'enc_in': 7, 'dec_in': 7, 'c_out': 1, 'factor': 5, 'd_model': 512, 'n_heads': 8, 'e_layers': 2, 'd_layers': 1, 'd_ff': 2048, 'dropout': 0.05, 'attn': 'prob', 'embed': 'timeF', 'activation': 'gelu', 'do_predict': True, 'distil': True, 'output_attention': False, 'mix': True, 'padding': 0, 'batch_size': 32, 'learning_rate': 0.0001, 'loss': 'mse', 'lradj': 'type1', 'use_amp': False, 'num_workers': 0, 'itr': 1, 'train_epochs': 3, 'patience': 3, 'des': 'exp', 'inverse': True, 'use_gpu': True, 'gpu': 0, 'use_multi_gpu': False, 'devices': '0,1,2,3', 'detail_freq': 'h'}\n"
          ]
        }
      ]
    },
    {
      "cell_type": "code",
      "metadata": {
        "id": "ynZUE-eHLiyk"
      },
      "source": [
        "Exp = Exp_Informer"
      ],
      "execution_count": 87,
      "outputs": []
    },
    {
      "cell_type": "code",
      "metadata": {
        "id": "TghKgyadL765",
        "outputId": "42725b26-0558-4c27-a7f4-4e33df303ab9",
        "colab": {
          "base_uri": "https://localhost:8080/",
          "height": 757
        }
      },
      "source": [
        "!pip uninstall numpy -y\n",
        "!pip install numpy==1.20.1\n",
        "\n",
        "!pip uninstall pandas -y\n",
        "!pip install pandas==1.2.2"
      ],
      "execution_count": 21,
      "outputs": [
        {
          "output_type": "stream",
          "name": "stdout",
          "text": [
            "Found existing installation: numpy 1.19.4\n",
            "Uninstalling numpy-1.19.4:\n",
            "  Successfully uninstalled numpy-1.19.4\n",
            "Collecting numpy==1.20.1\n",
            "  Downloading numpy-1.20.1-cp37-cp37m-manylinux2010_x86_64.whl (15.3 MB)\n",
            "\u001b[K     |████████████████████████████████| 15.3 MB 107 kB/s \n",
            "\u001b[?25hInstalling collected packages: numpy\n",
            "\u001b[31mERROR: pip's dependency resolver does not currently take into account all the packages that are installed. This behaviour is the source of the following dependency conflicts.\n",
            "xarray 0.18.2 requires pandas>=1.0, but you have pandas 0.25.1 which is incompatible.\n",
            "torchvision 0.10.0+cu111 requires torch==1.9.0, but you have torch 1.8.0 which is incompatible.\n",
            "torchtext 0.10.0 requires torch==1.9.0, but you have torch 1.8.0 which is incompatible.\n",
            "tensorflow 2.6.0 requires numpy~=1.19.2, but you have numpy 1.20.1 which is incompatible.\n",
            "google-colab 1.0.0 requires pandas~=1.1.0; python_version >= \"3.0\", but you have pandas 0.25.1 which is incompatible.\n",
            "fbprophet 0.7.1 requires pandas>=1.0.4, but you have pandas 0.25.1 which is incompatible.\n",
            "datascience 0.10.6 requires folium==0.2.1, but you have folium 0.8.3 which is incompatible.\n",
            "albumentations 0.1.12 requires imgaug<0.2.7,>=0.2.5, but you have imgaug 0.2.9 which is incompatible.\u001b[0m\n",
            "Successfully installed numpy-1.20.1\n"
          ]
        },
        {
          "output_type": "display_data",
          "data": {
            "application/vnd.colab-display-data+json": {
              "pip_warning": {
                "packages": [
                  "numpy"
                ]
              }
            }
          },
          "metadata": {}
        },
        {
          "output_type": "stream",
          "name": "stdout",
          "text": [
            "Found existing installation: pandas 0.25.1\n",
            "Uninstalling pandas-0.25.1:\n",
            "  Successfully uninstalled pandas-0.25.1\n",
            "Collecting pandas==1.2.2\n",
            "  Downloading pandas-1.2.2-cp37-cp37m-manylinux1_x86_64.whl (9.9 MB)\n",
            "\u001b[K     |████████████████████████████████| 9.9 MB 3.9 MB/s \n",
            "\u001b[?25hRequirement already satisfied: python-dateutil>=2.7.3 in /usr/local/lib/python3.7/dist-packages (from pandas==1.2.2) (2.8.2)\n",
            "Requirement already satisfied: numpy>=1.16.5 in /usr/local/lib/python3.7/dist-packages (from pandas==1.2.2) (1.20.1)\n",
            "Requirement already satisfied: pytz>=2017.3 in /usr/local/lib/python3.7/dist-packages (from pandas==1.2.2) (2018.9)\n",
            "Requirement already satisfied: six>=1.5 in /usr/local/lib/python3.7/dist-packages (from python-dateutil>=2.7.3->pandas==1.2.2) (1.15.0)\n",
            "Installing collected packages: pandas\n",
            "\u001b[31mERROR: pip's dependency resolver does not currently take into account all the packages that are installed. This behaviour is the source of the following dependency conflicts.\n",
            "google-colab 1.0.0 requires pandas~=1.1.0; python_version >= \"3.0\", but you have pandas 1.2.2 which is incompatible.\u001b[0m\n",
            "Successfully installed pandas-1.2.2\n"
          ]
        },
        {
          "output_type": "display_data",
          "data": {
            "application/vnd.colab-display-data+json": {
              "pip_warning": {
                "packages": [
                  "pandas"
                ]
              }
            }
          },
          "metadata": {}
        }
      ]
    },
    {
      "cell_type": "code",
      "metadata": {
        "id": "RAh_P6oaLiwH",
        "outputId": "1793ffb3-9b74-4f10-ff35-fd98f88e2212",
        "colab": {
          "base_uri": "https://localhost:8080/"
        }
      },
      "source": [
        "for ii in range(args.itr):\n",
        "    # setting record of experiments\n",
        "    setting = '{}_{}_ft{}_sl{}_ll{}_pl{}_dm{}_nh{}_el{}_dl{}_df{}_at{}_fc{}_eb{}_dt{}_mx{}_{}_{}'.format(args.model, args.data, args.features, \n",
        "                args.seq_len, args.label_len, args.pred_len,\n",
        "                args.d_model, args.n_heads, args.e_layers, args.d_layers, args.d_ff, args.attn, args.factor, args.embed, args.distil, args.mix, args.des, ii)\n",
        "\n",
        "    # set experiments\n",
        "    exp = Exp(args)\n",
        "    \n",
        "    # train\n",
        "    print('>>>>>>>start training : {}>>>>>>>>>>>>>>>>>>>>>>>>>>'.format(setting))\n",
        "    exp.train(setting)\n",
        "    \n",
        "    # test\n",
        "    print('>>>>>>>testing : {}<<<<<<<<<<<<<<<<<<<<<<<<<<<<<<<<<'.format(setting))\n",
        "    exp.test(setting)\n",
        "\n",
        "    torch.cuda.empty_cache()"
      ],
      "execution_count": 88,
      "outputs": [
        {
          "output_type": "stream",
          "name": "stdout",
          "text": [
            "Use GPU: cuda:0\n",
            ">>>>>>>start training : informer_custom_ftMS_sl96_ll48_pl24_dm512_nh8_el2_dl1_df2048_atprob_fc5_ebtimeF_dtTrue_mxTrue_exp_0>>>>>>>>>>>>>>>>>>>>>>>>>>\n",
            "train 12075\n",
            "val 1719\n",
            "test 3461\n",
            "\titers: 100, epoch: 1 | loss: 144.6929016\n",
            "\tspeed: 0.2011s/iter; left time: 207.5761s\n",
            "\titers: 200, epoch: 1 | loss: 118.1593704\n",
            "\tspeed: 0.2007s/iter; left time: 187.0361s\n",
            "\titers: 300, epoch: 1 | loss: 135.3813019\n",
            "\tspeed: 0.2006s/iter; left time: 166.9148s\n",
            "Epoch: 1 cost time: 75.80700588226318\n",
            "Epoch: 1, Steps: 377 | Train Loss: 144.1642620 Vali Loss: 36.4549713 Test Loss: 46.0798759\n",
            "Validation loss decreased (inf --> 36.454971).  Saving model ...\n",
            "Updating learning rate to 0.0001\n",
            "\titers: 100, epoch: 2 | loss: 121.9568481\n",
            "\tspeed: 0.4999s/iter; left time: 327.4295s\n",
            "\titers: 200, epoch: 2 | loss: 136.9001617\n",
            "\tspeed: 0.2008s/iter; left time: 111.4436s\n",
            "\titers: 300, epoch: 2 | loss: 116.3308792\n",
            "\tspeed: 0.2008s/iter; left time: 91.3852s\n",
            "Epoch: 2 cost time: 75.66017389297485\n",
            "Epoch: 2, Steps: 377 | Train Loss: 140.8105470 Vali Loss: 39.9104462 Test Loss: 47.4266014\n",
            "EarlyStopping counter: 1 out of 3\n",
            "Updating learning rate to 5e-05\n",
            "\titers: 100, epoch: 3 | loss: 132.3940887\n",
            "\tspeed: 0.4979s/iter; left time: 138.4063s\n",
            "\titers: 200, epoch: 3 | loss: 171.1252441\n",
            "\tspeed: 0.2008s/iter; left time: 35.7385s\n",
            "\titers: 300, epoch: 3 | loss: 124.1080780\n",
            "\tspeed: 0.2008s/iter; left time: 15.6608s\n",
            "Epoch: 3 cost time: 75.60443615913391\n",
            "Epoch: 3, Steps: 377 | Train Loss: 139.6061635 Vali Loss: 35.2178535 Test Loss: 44.3477745\n",
            "Validation loss decreased (36.454971 --> 35.217854).  Saving model ...\n",
            "Updating learning rate to 2.5e-05\n",
            ">>>>>>>testing : informer_custom_ftMS_sl96_ll48_pl24_dm512_nh8_el2_dl1_df2048_atprob_fc5_ebtimeF_dtTrue_mxTrue_exp_0<<<<<<<<<<<<<<<<<<<<<<<<<<<<<<<<<\n",
            "test 3461\n",
            "test shape: (108, 32, 24, 7) (108, 32, 24, 1)\n",
            "test shape: (3456, 24, 7) (3456, 24, 1)\n",
            "mse:44.336727142333984, mae:5.4974188804626465\n"
          ]
        }
      ]
    },
    {
      "cell_type": "markdown",
      "metadata": {
        "id": "4NjJMCbUWJnU"
      },
      "source": [
        "## 시각화"
      ]
    },
    {
      "cell_type": "code",
      "metadata": {
        "id": "UNOwwv1FWIwH",
        "outputId": "b650868b-54e3-4c07-8f39-ba0a812e1d8f",
        "colab": {
          "base_uri": "https://localhost:8080/"
        }
      },
      "source": [
        "# When we finished exp.train(setting) and exp.test(setting), we will get a trained model and the results of test experiment\n",
        "# The results of test experiment will be saved in ./results/{setting}/pred.npy (prediction of test dataset) and ./results/{setting}/true.npy (groundtruth of test dataset)\n",
        "\n",
        "preds = np.load('./results/'+setting+'/pred.npy')\n",
        "trues = np.load('./results/'+setting+'/true.npy')\n",
        "\n",
        "# [samples, pred_len, dimensions]\n",
        "preds.shape, trues.shape"
      ],
      "execution_count": 89,
      "outputs": [
        {
          "output_type": "execute_result",
          "data": {
            "text/plain": [
              "((3456, 24, 7), (3456, 24, 1))"
            ]
          },
          "metadata": {},
          "execution_count": 89
        }
      ]
    },
    {
      "cell_type": "code",
      "metadata": {
        "id": "UtT40RfZWItk"
      },
      "source": [
        "import matplotlib.pyplot as plt\n",
        "import seaborn as sns"
      ],
      "execution_count": 90,
      "outputs": []
    },
    {
      "cell_type": "code",
      "metadata": {
        "id": "15lay26PWIrU",
        "outputId": "521c3640-932e-4187-fb18-52cf748ebeef",
        "colab": {
          "base_uri": "https://localhost:8080/",
          "height": 265
        }
      },
      "source": [
        "# draw OT prediction\n",
        "plt.figure()\n",
        "plt.plot(trues[0,:,-1], label='GroundTruth')\n",
        "plt.plot(preds[0,:,-1], label='Prediction')\n",
        "plt.legend()\n",
        "plt.show()"
      ],
      "execution_count": 91,
      "outputs": [
        {
          "output_type": "display_data",
          "data": {
            "image/png": "[encoded data removed]",
            "text/plain": [
              "<Figure size 432x288 with 1 Axes>"
            ]
          },
          "metadata": {
            "needs_background": "light"
          }
        }
      ]
    },
    {
      "cell_type": "code",
      "metadata": {
        "id": "j_2Or25UWIoU"
      },
      "source": [
        ""
      ],
      "execution_count": null,
      "outputs": []
    },
    {
      "cell_type": "code",
      "metadata": {
        "id": "Kkbh3O9uLiuU"
      },
      "source": [
        ""
      ],
      "execution_count": null,
      "outputs": []
    },
    {
      "cell_type": "code",
      "metadata": {
        "id": "qbEhyVxhLiry",
        "outputId": "9be17d33-d2e4-46fc-d004-4cfb6c6ac738",
        "colab": {
          "base_uri": "https://localhost:8080/"
        }
      },
      "source": [
        "import pandas as pd\n",
        "import numpy as np\n",
        "\n",
        "args.root_path = './ETDataset/ETT-small/'\n",
        "args.data_path = 'ETTh2.csv'\n",
        "\n",
        "df = pd.read_csv(os.path.join(args.root_path, args.data_path))\n",
        "print(df.head())"
      ],
      "execution_count": 27,
      "outputs": [
        {
          "output_type": "stream",
          "name": "stdout",
          "text": [
            "                  date       HUFL    HULL  ...   LUFL   LULL         OT\n",
            "0  2016-07-01 00:00:00  41.130001  12.481  ...  4.424  1.311  38.661999\n",
            "1  2016-07-01 01:00:00  37.528000  10.136  ...  4.435  1.215  37.124001\n",
            "2  2016-07-01 02:00:00  37.946999  11.309  ...  2.100  0.000  36.465000\n",
            "3  2016-07-01 03:00:00  38.952000  11.895  ...  3.380  1.215  33.608501\n",
            "4  2016-07-01 04:00:00  38.113998  11.476  ...  2.036  0.000  31.850500\n",
            "\n",
            "[5 rows x 8 columns]\n"
          ]
        }
      ]
    },
    {
      "cell_type": "code",
      "metadata": {
        "id": "VVySqvHxLiox",
        "outputId": "af3dcaa4-773e-466c-eaca-7981526b17c7",
        "colab": {
          "base_uri": "https://localhost:8080/",
          "height": 646
        }
      },
      "source": [
        "df.OT = 0\n",
        "df"
      ],
      "execution_count": 28,
      "outputs": [
        {
          "output_type": "error",
          "ename": "AttributeError",
          "evalue": "ignored",
          "traceback": [
            "\u001b[0;31m---------------------------------------------------------------------------\u001b[0m",
            "\u001b[0;31mAttributeError\u001b[0m                            Traceback (most recent call last)",
            "\u001b[0;32m/usr/local/lib/python3.7/dist-packages/IPython/core/formatters.py\u001b[0m in \u001b[0;36m__call__\u001b[0;34m(self, obj)\u001b[0m\n\u001b[1;32m    336\u001b[0m             \u001b[0mmethod\u001b[0m \u001b[0;34m=\u001b[0m \u001b[0mget_real_method\u001b[0m\u001b[0;34m(\u001b[0m\u001b[0mobj\u001b[0m\u001b[0;34m,\u001b[0m \u001b[0mself\u001b[0m\u001b[0;34m.\u001b[0m\u001b[0mprint_method\u001b[0m\u001b[0;34m)\u001b[0m\u001b[0;34m\u001b[0m\u001b[0;34m\u001b[0m\u001b[0m\n\u001b[1;32m    337\u001b[0m             \u001b[0;32mif\u001b[0m \u001b[0mmethod\u001b[0m \u001b[0;32mis\u001b[0m \u001b[0;32mnot\u001b[0m \u001b[0;32mNone\u001b[0m\u001b[0;34m:\u001b[0m\u001b[0;34m\u001b[0m\u001b[0;34m\u001b[0m\u001b[0m\n\u001b[0;32m--> 338\u001b[0;31m                 \u001b[0;32mreturn\u001b[0m \u001b[0mmethod\u001b[0m\u001b[0;34m(\u001b[0m\u001b[0;34m)\u001b[0m\u001b[0;34m\u001b[0m\u001b[0;34m\u001b[0m\u001b[0m\n\u001b[0m\u001b[1;32m    339\u001b[0m             \u001b[0;32mreturn\u001b[0m \u001b[0;32mNone\u001b[0m\u001b[0;34m\u001b[0m\u001b[0;34m\u001b[0m\u001b[0m\n\u001b[1;32m    340\u001b[0m         \u001b[0;32melse\u001b[0m\u001b[0;34m:\u001b[0m\u001b[0;34m\u001b[0m\u001b[0;34m\u001b[0m\u001b[0m\n",
            "\u001b[0;32m/usr/local/lib/python3.7/dist-packages/pandas/core/frame.py\u001b[0m in \u001b[0;36m_repr_html_\u001b[0;34m(self)\u001b[0m\n\u001b[1;32m    796\u001b[0m         \u001b[0mmax_cols\u001b[0m \u001b[0;34m=\u001b[0m \u001b[0mget_option\u001b[0m\u001b[0;34m(\u001b[0m\u001b[0;34m\"display.max_columns\"\u001b[0m\u001b[0;34m)\u001b[0m\u001b[0;34m\u001b[0m\u001b[0;34m\u001b[0m\u001b[0m\n\u001b[1;32m    797\u001b[0m         \u001b[0mmax_colwidth\u001b[0m \u001b[0;34m=\u001b[0m \u001b[0mget_option\u001b[0m\u001b[0;34m(\u001b[0m\u001b[0;34m\"display.max_colwidth\"\u001b[0m\u001b[0;34m)\u001b[0m\u001b[0;34m\u001b[0m\u001b[0;34m\u001b[0m\u001b[0m\n\u001b[0;32m--> 798\u001b[0;31m         \u001b[0mshow_dimensions\u001b[0m \u001b[0;34m=\u001b[0m \u001b[0mget_option\u001b[0m\u001b[0;34m(\u001b[0m\u001b[0;34m\"display.show_dimensions\"\u001b[0m\u001b[0;34m)\u001b[0m\u001b[0;34m\u001b[0m\u001b[0;34m\u001b[0m\u001b[0m\n\u001b[0m\u001b[1;32m    799\u001b[0m         \u001b[0;32mif\u001b[0m \u001b[0mget_option\u001b[0m\u001b[0;34m(\u001b[0m\u001b[0;34m\"display.expand_frame_repr\"\u001b[0m\u001b[0;34m)\u001b[0m\u001b[0;34m:\u001b[0m\u001b[0;34m\u001b[0m\u001b[0;34m\u001b[0m\u001b[0m\n\u001b[1;32m    800\u001b[0m             \u001b[0mwidth\u001b[0m\u001b[0;34m,\u001b[0m \u001b[0m_\u001b[0m \u001b[0;34m=\u001b[0m \u001b[0mconsole\u001b[0m\u001b[0;34m.\u001b[0m\u001b[0mget_console_size\u001b[0m\u001b[0;34m(\u001b[0m\u001b[0;34m)\u001b[0m\u001b[0;34m\u001b[0m\u001b[0;34m\u001b[0m\u001b[0m\n",
            "\u001b[0;32m/usr/local/lib/python3.7/dist-packages/pandas/io/formats/format.py\u001b[0m in \u001b[0;36mto_html\u001b[0;34m(self, buf, encoding, classes, notebook, border)\u001b[0m\n\u001b[1;32m    986\u001b[0m         \u001b[0mnotebook\u001b[0m \u001b[0;34m:\u001b[0m \u001b[0;34m{\u001b[0m\u001b[0;32mTrue\u001b[0m\u001b[0;34m,\u001b[0m \u001b[0;32mFalse\u001b[0m\u001b[0;34m}\u001b[0m\u001b[0;34m,\u001b[0m \u001b[0moptional\u001b[0m\u001b[0;34m,\u001b[0m \u001b[0mdefault\u001b[0m \u001b[0;32mFalse\u001b[0m\u001b[0;34m\u001b[0m\u001b[0;34m\u001b[0m\u001b[0m\n\u001b[1;32m    987\u001b[0m             \u001b[0mWhether\u001b[0m \u001b[0mthe\u001b[0m \u001b[0mgenerated\u001b[0m \u001b[0mHTML\u001b[0m \u001b[0;32mis\u001b[0m \u001b[0;32mfor\u001b[0m \u001b[0mIPython\u001b[0m \u001b[0mNotebook\u001b[0m\u001b[0;34m.\u001b[0m\u001b[0;34m\u001b[0m\u001b[0;34m\u001b[0m\u001b[0m\n\u001b[0;32m--> 988\u001b[0;31m         \u001b[0mborder\u001b[0m \u001b[0;34m:\u001b[0m \u001b[0mint\u001b[0m\u001b[0;34m\u001b[0m\u001b[0;34m\u001b[0m\u001b[0m\n\u001b[0m\u001b[1;32m    989\u001b[0m             \u001b[0mA\u001b[0m\u001b[0;31m \u001b[0m\u001b[0;31m`\u001b[0m\u001b[0;31m`\u001b[0m\u001b[0mborder\u001b[0m\u001b[0;34m=\u001b[0m\u001b[0mborder\u001b[0m\u001b[0;31m`\u001b[0m\u001b[0;31m`\u001b[0m \u001b[0mattribute\u001b[0m \u001b[0;32mis\u001b[0m \u001b[0mincluded\u001b[0m \u001b[0;32min\u001b[0m \u001b[0mthe\u001b[0m \u001b[0mopening\u001b[0m\u001b[0;34m\u001b[0m\u001b[0;34m\u001b[0m\u001b[0m\n\u001b[1;32m    990\u001b[0m             \u001b[0;31m`\u001b[0m\u001b[0;31m`\u001b[0m\u001b[0;34m<\u001b[0m\u001b[0mtable\u001b[0m\u001b[0;34m>\u001b[0m\u001b[0;31m`\u001b[0m\u001b[0;31m`\u001b[0m \u001b[0mtag\u001b[0m\u001b[0;34m.\u001b[0m \u001b[0mDefault\u001b[0m\u001b[0;31m \u001b[0m\u001b[0;31m`\u001b[0m\u001b[0;31m`\u001b[0m\u001b[0mpd\u001b[0m\u001b[0;34m.\u001b[0m\u001b[0moptions\u001b[0m\u001b[0;34m.\u001b[0m\u001b[0mdisplay\u001b[0m\u001b[0;34m.\u001b[0m\u001b[0mhtml\u001b[0m\u001b[0;34m.\u001b[0m\u001b[0mborder\u001b[0m\u001b[0;31m`\u001b[0m\u001b[0;31m`\u001b[0m\u001b[0;34m.\u001b[0m\u001b[0;34m\u001b[0m\u001b[0;34m\u001b[0m\u001b[0m\n",
            "\u001b[0;31mAttributeError\u001b[0m: 'NotebookFormatter' object has no attribute 'get_result'"
          ]
        },
        {
          "output_type": "execute_result",
          "data": {
            "text/plain": [
              "                      date       HUFL    HULL  ...    LUFL   LULL  OT\n",
              "0      2016-07-01 00:00:00  41.130001  12.481  ...   4.424  1.311   0\n",
              "1      2016-07-01 01:00:00  37.528000  10.136  ...   4.435  1.215   0\n",
              "2      2016-07-01 02:00:00  37.946999  11.309  ...   2.100  0.000   0\n",
              "3      2016-07-01 03:00:00  38.952000  11.895  ...   3.380  1.215   0\n",
              "4      2016-07-01 04:00:00  38.113998  11.476  ...   2.036  0.000   0\n",
              "...                    ...        ...     ...  ...     ...    ...  ..\n",
              "17415  2018-06-26 15:00:00  39.202999  11.392  ... -10.331 -1.258   0\n",
              "17416  2018-06-26 16:00:00  38.113998  10.974  ... -10.331 -1.290   0\n",
              "17417  2018-06-26 17:00:00  39.622002  10.974  ... -11.557 -1.418   0\n",
              "17418  2018-06-26 18:00:00  43.643002  13.403  ... -10.299 -1.418   0\n",
              "17419  2018-06-26 19:00:00  38.868000  10.052  ... -11.525 -1.418   0\n",
              "\n",
              "[17420 rows x 8 columns]"
            ]
          },
          "metadata": {},
          "execution_count": 28
        }
      ]
    },
    {
      "cell_type": "code",
      "metadata": {
        "id": "_mMjGiRLO8lb"
      },
      "source": [
        ""
      ],
      "execution_count": null,
      "outputs": []
    },
    {
      "cell_type": "code",
      "metadata": {
        "id": "xfaLv34yPBKh",
        "outputId": "68176c57-0682-4542-d61a-dc5f1072509f",
        "colab": {
          "base_uri": "https://localhost:8080/",
          "height": 468
        }
      },
      "source": [
        "!pip uninstall pandas\n",
        "!pip install pandas==1.1.5"
      ],
      "execution_count": 30,
      "outputs": [
        {
          "output_type": "stream",
          "name": "stdout",
          "text": [
            "Found existing installation: pandas 1.2.2\n",
            "Uninstalling pandas-1.2.2:\n",
            "  Would remove:\n",
            "    /usr/local/lib/python3.7/dist-packages/pandas-1.2.2.dist-info/*\n",
            "    /usr/local/lib/python3.7/dist-packages/pandas/*\n",
            "Proceed (y/n)? ㅛ\n",
            "Your response ('ㅛ') was not one of the expected responses: y, n\n",
            "Proceed (y/n)? ㅛ\n",
            "Your response ('ㅛ') was not one of the expected responses: y, n\n",
            "Proceed (y/n)? y\n",
            "  Successfully uninstalled pandas-1.2.2\n",
            "Collecting pandas==1.1.5\n",
            "  Downloading pandas-1.1.5-cp37-cp37m-manylinux1_x86_64.whl (9.5 MB)\n",
            "\u001b[K     |████████████████████████████████| 9.5 MB 4.2 MB/s \n",
            "\u001b[?25hRequirement already satisfied: pytz>=2017.2 in /usr/local/lib/python3.7/dist-packages (from pandas==1.1.5) (2018.9)\n",
            "Requirement already satisfied: python-dateutil>=2.7.3 in /usr/local/lib/python3.7/dist-packages (from pandas==1.1.5) (2.8.2)\n",
            "Requirement already satisfied: numpy>=1.15.4 in /usr/local/lib/python3.7/dist-packages (from pandas==1.1.5) (1.20.1)\n",
            "Requirement already satisfied: six>=1.5 in /usr/local/lib/python3.7/dist-packages (from python-dateutil>=2.7.3->pandas==1.1.5) (1.15.0)\n",
            "Installing collected packages: pandas\n",
            "Successfully installed pandas-1.1.5\n"
          ]
        },
        {
          "output_type": "display_data",
          "data": {
            "application/vnd.colab-display-data+json": {
              "pip_warning": {
                "packages": [
                  "pandas"
                ]
              }
            }
          },
          "metadata": {}
        }
      ]
    },
    {
      "cell_type": "code",
      "metadata": {
        "id": "fVc-wU6QSnbJ",
        "outputId": "52bad8b2-4e3e-47ee-9960-d58eccd4fcc2",
        "colab": {
          "base_uri": "https://localhost:8080/"
        }
      },
      "source": [
        "df_0 = df.iloc[0]\n",
        "df_0"
      ],
      "execution_count": 48,
      "outputs": [
        {
          "output_type": "execute_result",
          "data": {
            "text/plain": [
              "date    2016-07-01 00:00:00\n",
              "HUFL                  41.13\n",
              "HULL                 12.481\n",
              "MUFL                 36.536\n",
              "MULL                  9.355\n",
              "LUFL                  4.424\n",
              "LULL                  1.311\n",
              "OT                        0\n",
              "Name: 0, dtype: object"
            ]
          },
          "metadata": {},
          "execution_count": 48
        }
      ]
    },
    {
      "cell_type": "code",
      "metadata": {
        "id": "uG19-ppCLil9",
        "outputId": "57009999-6280-4f97-e4a8-0743778873cd",
        "colab": {
          "base_uri": "https://localhost:8080/",
          "height": 556
        }
      },
      "source": [
        "df_0.to_csv(\"./ETDataset/ETT-small/df_0.csv\", index=False)\n",
        "pd.read_csv('./ETDataset/ETT-small/df_0.csv')"
      ],
      "execution_count": 49,
      "outputs": [
        {
          "output_type": "error",
          "ename": "AttributeError",
          "evalue": "ignored",
          "traceback": [
            "\u001b[0;31m---------------------------------------------------------------------------\u001b[0m",
            "\u001b[0;31mAttributeError\u001b[0m                            Traceback (most recent call last)",
            "\u001b[0;32m/usr/local/lib/python3.7/dist-packages/IPython/core/formatters.py\u001b[0m in \u001b[0;36m__call__\u001b[0;34m(self, obj)\u001b[0m\n\u001b[1;32m    336\u001b[0m             \u001b[0mmethod\u001b[0m \u001b[0;34m=\u001b[0m \u001b[0mget_real_method\u001b[0m\u001b[0;34m(\u001b[0m\u001b[0mobj\u001b[0m\u001b[0;34m,\u001b[0m \u001b[0mself\u001b[0m\u001b[0;34m.\u001b[0m\u001b[0mprint_method\u001b[0m\u001b[0;34m)\u001b[0m\u001b[0;34m\u001b[0m\u001b[0;34m\u001b[0m\u001b[0m\n\u001b[1;32m    337\u001b[0m             \u001b[0;32mif\u001b[0m \u001b[0mmethod\u001b[0m \u001b[0;32mis\u001b[0m \u001b[0;32mnot\u001b[0m \u001b[0;32mNone\u001b[0m\u001b[0;34m:\u001b[0m\u001b[0;34m\u001b[0m\u001b[0;34m\u001b[0m\u001b[0m\n\u001b[0;32m--> 338\u001b[0;31m                 \u001b[0;32mreturn\u001b[0m \u001b[0mmethod\u001b[0m\u001b[0;34m(\u001b[0m\u001b[0;34m)\u001b[0m\u001b[0;34m\u001b[0m\u001b[0;34m\u001b[0m\u001b[0m\n\u001b[0m\u001b[1;32m    339\u001b[0m             \u001b[0;32mreturn\u001b[0m \u001b[0;32mNone\u001b[0m\u001b[0;34m\u001b[0m\u001b[0;34m\u001b[0m\u001b[0m\n\u001b[1;32m    340\u001b[0m         \u001b[0;32melse\u001b[0m\u001b[0;34m:\u001b[0m\u001b[0;34m\u001b[0m\u001b[0;34m\u001b[0m\u001b[0m\n",
            "\u001b[0;32m/usr/local/lib/python3.7/dist-packages/pandas/core/frame.py\u001b[0m in \u001b[0;36m_repr_html_\u001b[0;34m(self)\u001b[0m\n\u001b[1;32m    796\u001b[0m                 \u001b[0mrender_links\u001b[0m\u001b[0;34m=\u001b[0m\u001b[0;32mFalse\u001b[0m\u001b[0;34m,\u001b[0m\u001b[0;34m\u001b[0m\u001b[0;34m\u001b[0m\u001b[0m\n\u001b[1;32m    797\u001b[0m             )\n\u001b[0;32m--> 798\u001b[0;31m             \u001b[0;32mreturn\u001b[0m \u001b[0mformatter\u001b[0m\u001b[0;34m.\u001b[0m\u001b[0mto_html\u001b[0m\u001b[0;34m(\u001b[0m\u001b[0mnotebook\u001b[0m\u001b[0;34m=\u001b[0m\u001b[0;32mTrue\u001b[0m\u001b[0;34m)\u001b[0m\u001b[0;34m\u001b[0m\u001b[0;34m\u001b[0m\u001b[0m\n\u001b[0m\u001b[1;32m    799\u001b[0m         \u001b[0;32melse\u001b[0m\u001b[0;34m:\u001b[0m\u001b[0;34m\u001b[0m\u001b[0;34m\u001b[0m\u001b[0m\n\u001b[1;32m    800\u001b[0m             \u001b[0;32mreturn\u001b[0m \u001b[0;32mNone\u001b[0m\u001b[0;34m\u001b[0m\u001b[0;34m\u001b[0m\u001b[0m\n",
            "\u001b[0;32m/usr/local/lib/python3.7/dist-packages/pandas/io/formats/format.py\u001b[0m in \u001b[0;36mto_html\u001b[0;34m(self, buf, encoding, classes, notebook, border)\u001b[0m\n\u001b[1;32m    986\u001b[0m \u001b[0;34m\u001b[0m\u001b[0m\n\u001b[1;32m    987\u001b[0m         \u001b[0mKlass\u001b[0m \u001b[0;34m=\u001b[0m \u001b[0mNotebookFormatter\u001b[0m \u001b[0;32mif\u001b[0m \u001b[0mnotebook\u001b[0m \u001b[0;32melse\u001b[0m \u001b[0mHTMLFormatter\u001b[0m\u001b[0;34m\u001b[0m\u001b[0;34m\u001b[0m\u001b[0m\n\u001b[0;32m--> 988\u001b[0;31m         return Klass(self, classes=classes, border=border).get_result(\n\u001b[0m\u001b[1;32m    989\u001b[0m             \u001b[0mbuf\u001b[0m\u001b[0;34m=\u001b[0m\u001b[0mbuf\u001b[0m\u001b[0;34m,\u001b[0m \u001b[0mencoding\u001b[0m\u001b[0;34m=\u001b[0m\u001b[0mencoding\u001b[0m\u001b[0;34m\u001b[0m\u001b[0;34m\u001b[0m\u001b[0m\n\u001b[1;32m    990\u001b[0m         )\n",
            "\u001b[0;31mAttributeError\u001b[0m: 'NotebookFormatter' object has no attribute 'get_result'"
          ]
        },
        {
          "output_type": "execute_result",
          "data": {
            "text/plain": [
              "                     0\n",
              "0  2016-07-01 00:00:00\n",
              "1    41.13000106811523\n",
              "2   12.480999946594238\n",
              "3     36.5359992980957\n",
              "4    9.354999542236328\n",
              "5    4.423999786376953\n",
              "6   1.3109999895095823\n",
              "7                    0"
            ]
          },
          "metadata": {},
          "execution_count": 49
        }
      ]
    },
    {
      "cell_type": "code",
      "metadata": {
        "id": "4v6HRU_RLFcm"
      },
      "source": [
        ""
      ],
      "execution_count": null,
      "outputs": []
    },
    {
      "cell_type": "markdown",
      "metadata": {
        "id": "CDHF-HerAE3u"
      },
      "source": [
        "## Prediction"
      ]
    },
    {
      "cell_type": "code",
      "metadata": {
        "id": "kyB46HyBohIN",
        "colab": {
          "base_uri": "https://localhost:8080/"
        },
        "outputId": "a87833f9-243c-4444-ebc0-21b42a54f71c"
      },
      "source": [
        "!pwd"
      ],
      "execution_count": 8,
      "outputs": [
        {
          "output_type": "stream",
          "name": "stdout",
          "text": [
            "/content\n"
          ]
        }
      ]
    },
    {
      "cell_type": "code",
      "metadata": {
        "id": "s0YI1zx6ACiz"
      },
      "source": [
        "# import os\n",
        "\n",
        "# # set saved model path\n",
        "# setting = 'informer_custom_ftMS_sl80_ll40_pl20_dm512_nh8_el2_dl1_df2048_atprob_fc5_ebtimeF_dtTrue_mxTrue_exp_0'\n",
        "# # path = os.path.join(args.checkpoints,setting,'checkpoint.pth')"
      ],
      "execution_count": 9,
      "outputs": []
    },
    {
      "cell_type": "markdown",
      "metadata": {
        "id": "_d9iTtIGVxPB"
      },
      "source": [
        "# 예측!"
      ]
    },
    {
      "cell_type": "code",
      "metadata": {
        "id": "RYHN071mMP4F"
      },
      "source": [
        "from data.data_loader import Dataset_Custom\n",
        "from torch.utils.data import DataLoader\n",
        "import pandas as pd\n",
        "import os"
      ],
      "execution_count": null,
      "outputs": []
    },
    {
      "cell_type": "code",
      "metadata": {
        "id": "vxO_j5fNMP1i"
      },
      "source": [
        "# custom data: xxx.csv\n",
        "# data features: ['date', ...(other features), target feature]\n",
        "\n",
        "# we take ETTh2 as an example\n",
        "args.root_path = './ETDataset/ETT-small/'\n",
        "args.data_path = 'ETTh2.csv'\n",
        "\n",
        "df = pd.read_csv(os.path.join(args.root_path, args.data_path))"
      ],
      "execution_count": null,
      "outputs": []
    },
    {
      "cell_type": "code",
      "metadata": {
        "id": "ewxfGJWGMPy5"
      },
      "source": [
        "# df.head()"
      ],
      "execution_count": null,
      "outputs": []
    },
    {
      "cell_type": "code",
      "metadata": {
        "id": "hSyHpcpoMPwZ"
      },
      "source": [
        "from data.data_loader import Dataset_Custom\n",
        "from torch.utils.data import DataLoader\n",
        "import pandas as pd\n",
        "import os\n",
        "\n",
        "\n",
        "\n",
        "args.root_path = './ETDataset/ETT-small/'\n",
        "args.data_path = 'df_0.csv'\n",
        "\n",
        "df = pd.read_csv(os.path.join(args.root_path, args.data_path))\n",
        "\n",
        "\n",
        "args.target = 'OT'\n",
        "args.freq = 'h'\n",
        "\n",
        "Data = Dataset_Custom\n",
        "timeenc = 0 if args.embed!='timeF' else 1\n",
        "flag = 'pred'; shuffle_flag = False; drop_last = True; batch_size = 1\n",
        "\n",
        "data_set = Data(\n",
        "    root_path=args.root_path,\n",
        "    data_path=args.data_path,\n",
        "    flag=flag,\n",
        "    size=[args.seq_len, args.label_len, args.pred_len],\n",
        "    features=args.features,\n",
        "    timeenc=timeenc,\n",
        "    target=args.target, # HULL here\n",
        "    freq=args.freq # 'h': hourly, 't':minutely\n",
        ")\n",
        "data_loader = DataLoader(\n",
        "    data_set,\n",
        "    batch_size=batch_size,\n",
        "    shuffle=shuffle_flag,\n",
        "    num_workers=args.num_workers,\n",
        "    drop_last=drop_last)"
      ],
      "execution_count": null,
      "outputs": []
    },
    {
      "cell_type": "code",
      "metadata": {
        "id": "Q_MxJrHlMPtz"
      },
      "source": [
        ""
      ],
      "execution_count": null,
      "outputs": []
    },
    {
      "cell_type": "code",
      "metadata": {
        "id": "OeR5wZn_MPrT"
      },
      "source": [
        ""
      ],
      "execution_count": null,
      "outputs": []
    },
    {
      "cell_type": "code",
      "metadata": {
        "id": "6nOXmJdPNMxA"
      },
      "source": [
        ""
      ],
      "execution_count": null,
      "outputs": []
    },
    {
      "cell_type": "code",
      "metadata": {
        "id": "Sr4PuSBHOA_J"
      },
      "source": [
        ""
      ],
      "execution_count": null,
      "outputs": []
    },
    {
      "cell_type": "code",
      "metadata": {
        "id": "VRUFMz26OA7Y"
      },
      "source": [
        ""
      ],
      "execution_count": null,
      "outputs": []
    },
    {
      "cell_type": "code",
      "metadata": {
        "id": "dR1tvx0gOA4e"
      },
      "source": [
        ""
      ],
      "execution_count": null,
      "outputs": []
    },
    {
      "cell_type": "code",
      "metadata": {
        "id": "fcWWKyKZNMud"
      },
      "source": [
        "args = dotdict()\n",
        "\n",
        "args.model = 'informer' # model of experiment, options: [informer, informerstack, informerlight(TBD)]\n",
        "\n",
        "args.data = 'custom' # data\n",
        "args.root_path = './ETDataset/ETT-small/' # root path of data file\n",
        "args.data_path = 'df_0.csv' # data file\n",
        "args.features = 'M' # forecasting task, options:[M, S, MS]; M:multivariate predict multivariate, S:univariate predict univariate, MS:multivariate predict univariate\n",
        "args.target = 'OT' # target feature in S or MS task\n",
        "args.freq = 'h' # freq for time features encoding, options:[s:secondly, t:minutely, h:hourly, d:daily, b:business days, w:weekly, m:monthly], you can also use more detailed freq like 15min or 3h\n",
        "args.checkpoints = './informer_checkpoints' # location of model checkpoints\n",
        "\n",
        "args.seq_len = 1 # input sequence length of Informer encoder\n",
        "args.label_len = 1 # start token length of Informer decoder\n",
        "args.pred_len = 1 # prediction sequence length\n",
        "# Informer decoder input: concat[start token series(label_len), zero padding series(pred_len)]\n",
        "\n",
        "args.enc_in = 7 # encoder input size\n",
        "args.dec_in = 7 # decoder input size\n",
        "args.c_out = 7 # output size\n",
        "args.factor = 5 # probsparse attn factor\n",
        "args.d_model = 512 # dimension of model\n",
        "args.n_heads = 8 # num of heads\n",
        "args.e_layers = 2 # num of encoder layers\n",
        "args.d_layers = 1 # num of decoder layers\n",
        "args.d_ff = 2048 # dimension of fcn in model\n",
        "args.dropout = 0.05 # dropout\n",
        "args.attn = 'prob' # attention used in encoder, options:[prob, full]\n",
        "args.embed = 'timeF' # time features encoding, options:[timeF, fixed, learned]\n",
        "args.activation = 'gelu' # activation\n",
        "args.do_predict= True\n",
        "args.distil = True # whether to use distilling in encoder\n",
        "args.output_attention = False # whether to output attention in ecoder\n",
        "args.mix = True\n",
        "args.padding = 0\n",
        "args.freq = 'h'\n",
        "\n",
        "args.batch_size = 1\n",
        "args.learning_rate = 0.0001\n",
        "args.loss = 'mse'\n",
        "args.lradj = 'type1'\n",
        "args.use_amp = False # whether to use automatic mixed precision training\n",
        "\n",
        "args.num_workers = 0\n",
        "args.itr = 1\n",
        "args.train_epochs = 3\n",
        "args.patience = 3\n",
        "args.des = 'exp'\n",
        "args.inverse = True\n",
        "\n",
        "args.use_gpu = True if torch.cuda.is_available() else False\n",
        "args.gpu = 0\n",
        "\n",
        "args.use_multi_gpu = False\n",
        "args.devices = '0,1,2,3'\n"
      ],
      "execution_count": 68,
      "outputs": []
    },
    {
      "cell_type": "code",
      "metadata": {
        "id": "aRGwPs8FNMra",
        "outputId": "9910f844-df01-4b5e-9195-cd21d62cfdc1",
        "colab": {
          "base_uri": "https://localhost:8080/"
        }
      },
      "source": [
        "for ii in range(args.itr):\n",
        "    # setting record of experiments\n",
        "    setting = 'informer_custom_ftM_sl96_ll48_pl24_dm512_nh8_el2_dl1_df2048_atprob_fc5_ebtimeF_dtTrue_mxTrue_exp_0'\n",
        "\n",
        "    if args.do_predict:\n",
        "        print('>>>>>>>predicting : {}<<<<<<<<<<<<<<<<<<<<<<<<<<<<<<<<<'.format(setting))\n",
        "        exp.predict(setting, True)\n",
        "\n",
        "    torch.cuda.empty_cache()"
      ],
      "execution_count": 69,
      "outputs": [
        {
          "output_type": "stream",
          "name": "stdout",
          "text": [
            ">>>>>>>predicting : informer_custom_ftM_sl96_ll48_pl24_dm512_nh8_el2_dl1_df2048_atprob_fc5_ebtimeF_dtTrue_mxTrue_exp_0<<<<<<<<<<<<<<<<<<<<<<<<<<<<<<<<<\n",
            "pred 1\n"
          ]
        }
      ]
    },
    {
      "cell_type": "code",
      "metadata": {
        "id": "bJ2PRLtCPteB",
        "outputId": "9ec25a9a-3802-412a-8f80-6a89cdd6ec5b",
        "colab": {
          "base_uri": "https://localhost:8080/"
        }
      },
      "source": [
        "import numpy as np\n",
        "\n",
        "prediction = np.load('./results/'+setting+'/real_prediction.npy')\n",
        "\n",
        "prediction.shape"
      ],
      "execution_count": 70,
      "outputs": [
        {
          "output_type": "execute_result",
          "data": {
            "text/plain": [
              "(1, 24, 7)"
            ]
          },
          "metadata": {},
          "execution_count": 70
        }
      ]
    },
    {
      "cell_type": "code",
      "metadata": {
        "id": "ZSrB_3_bP7fA",
        "outputId": "fbf1a417-e011-452d-b368-7de42dd46355",
        "colab": {
          "base_uri": "https://localhost:8080/",
          "height": 265
        }
      },
      "source": [
        "import matplotlib.pyplot as plt\n",
        "\n",
        "plt.figure()\n",
        "plt.plot(prediction[0,:,-1])\n",
        "plt.show()"
      ],
      "execution_count": 71,
      "outputs": [
        {
          "output_type": "display_data",
          "data": {
            "image/png": "[encoded data removed]",
            "text/plain": [
              "<Figure size 432x288 with 1 Axes>"
            ]
          },
          "metadata": {
            "needs_background": "light"
          }
        }
      ]
    },
    {
      "cell_type": "code",
      "metadata": {
        "id": "2I4gysY8RD0V",
        "outputId": "f34fdad5-7b88-4341-e0a5-16388e650b4b",
        "colab": {
          "base_uri": "https://localhost:8080/",
          "height": 265
        }
      },
      "source": [
        "import matplotlib.pyplot as plt\n",
        "\n",
        "plt.figure()\n",
        "plt.plot(prediction[0,:,-1])\n",
        "plt.show()"
      ],
      "execution_count": 72,
      "outputs": [
        {
          "output_type": "display_data",
          "data": {
            "image/png": "[encoded data removed]",
            "text/plain": [
              "<Figure size 432x288 with 1 Axes>"
            ]
          },
          "metadata": {
            "needs_background": "light"
          }
        }
      ]
    },
    {
      "cell_type": "code",
      "metadata": {
        "id": "d99jOrTqRHkt",
        "outputId": "9a3c99b7-f0e3-4527-b407-7d9ac964e07a",
        "colab": {
          "base_uri": "https://localhost:8080/",
          "height": 265
        }
      },
      "source": [
        "import matplotlib.pyplot as plt\n",
        "\n",
        "plt.figure()\n",
        "plt.plot(prediction[0,:,-1])\n",
        "plt.show()"
      ],
      "execution_count": 73,
      "outputs": [
        {
          "output_type": "display_data",
          "data": {
            "image/png": "[encoded data removed]",
            "text/plain": [
              "<Figure size 432x288 with 1 Axes>"
            ]
          },
          "metadata": {
            "needs_background": "light"
          }
        }
      ]
    },
    {
      "cell_type": "markdown",
      "metadata": {
        "id": "eQaD5h58cJDs"
      },
      "source": [
        "# 최종결론!\n",
        "\n",
        "쭈욱 데이터를 학습해서 그 다음부터의 시퀀스를 예측하는 것에 걸맞는 것이다.\n",
        "아예 이 모델은 데이터에서 학습한 뒤에 붙여서 예측하는 것밖에 못한다."
      ]
    },
    {
      "cell_type": "markdown",
      "metadata": {
        "id": "p1IzoCf9cdcU"
      },
      "source": [
        "![image.png](data:image/png;base64,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)"
      ]
    },
    {
      "cell_type": "markdown",
      "metadata": {
        "id": "NWZFWZqEcexE"
      },
      "source": [
        "오토 리그레시브하게 생성하는 것이다.\n",
        "\n",
        "# 즉, 예측값이 0인 걸 넣는게 아니라, 훈련 데이터를 넣고 그 다음을 예측하는 것이다!"
      ]
    },
    {
      "cell_type": "code",
      "metadata": {
        "id": "mhJebSNlcIkk"
      },
      "source": [
        ""
      ],
      "execution_count": null,
      "outputs": []
    },
    {
      "cell_type": "code",
      "metadata": {
        "id": "Duf_vCTgcIhc"
      },
      "source": [
        ""
      ],
      "execution_count": null,
      "outputs": []
    },
    {
      "cell_type": "code",
      "metadata": {
        "id": "s-hZ-XtmcIdr"
      },
      "source": [
        ""
      ],
      "execution_count": null,
      "outputs": []
    },
    {
      "cell_type": "code",
      "metadata": {
        "id": "fTucdxricIag"
      },
      "source": [
        ""
      ],
      "execution_count": null,
      "outputs": []
    }
  ]
}