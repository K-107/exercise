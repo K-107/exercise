{
  "nbformat": 4,
  "nbformat_minor": 0,
  "metadata": {
    "colab": {
      "name": "Informer.ipynb",
      "provenance": [],
      "collapsed_sections": [],
      "include_colab_link": true
    },
    "kernelspec": {
      "name": "python3",
      "display_name": "Python 3"
    },
    "accelerator": "GPU"
  },
  "cells": [
    {
      "cell_type": "markdown",
      "metadata": {
        "id": "view-in-github",
        "colab_type": "text"
      },
      "source": [
        "<a href=\"https://colab.research.google.com/github/K-107/exercise/blob/main/Informer.ipynb\" target=\"_parent\"><img src=\"https://colab.research.google.com/assets/colab-badge.svg\" alt=\"Open In Colab\"/></a>"
      ]
    },
    {
      "cell_type": "markdown",
      "metadata": {
        "id": "5IM6CZzW_CH0"
      },
      "source": [
        "# Informer Demo"
      ]
    },
    {
      "cell_type": "markdown",
      "metadata": {
        "id": "kdaIHYx4_ECL"
      },
      "source": [
        "## Download code and dataset"
      ]
    },
    {
      "cell_type": "code",
      "metadata": {
        "colab": {
          "base_uri": "https://localhost:8080/"
        },
        "id": "SA_i2gbl-rn-",
        "outputId": "d84ed6ad-b0d2-4d89-f944-c30668ef5ebb"
      },
      "source": [
        "!git clone https://github.com/zhouhaoyi/Informer2020.git\n",
        "!git clone https://github.com/zhouhaoyi/ETDataset.git\n",
        "!ls"
      ],
      "execution_count": 1,
      "outputs": [
        {
          "output_type": "stream",
          "name": "stdout",
          "text": [
            "Cloning into 'Informer2020'...\n",
            "remote: Enumerating objects: 538, done.\u001b[K\n",
            "remote: Counting objects: 100% (3/3), done.\u001b[K\n",
            "remote: Compressing objects: 100% (3/3), done.\u001b[K\n",
            "remote: Total 538 (delta 0), reused 0 (delta 0), pack-reused 535\u001b[K\n",
            "Receiving objects: 100% (538/538), 6.48 MiB | 12.85 MiB/s, done.\n",
            "Resolving deltas: 100% (306/306), done.\n",
            "Cloning into 'ETDataset'...\n",
            "remote: Enumerating objects: 187, done.\u001b[K\n",
            "remote: Counting objects: 100% (187/187), done.\u001b[K\n",
            "remote: Compressing objects: 100% (184/184), done.\u001b[K\n",
            "remote: Total 187 (delta 66), reused 13 (delta 2), pack-reused 0\u001b[K\n",
            "Receiving objects: 100% (187/187), 3.85 MiB | 10.84 MiB/s, done.\n",
            "Resolving deltas: 100% (66/66), done.\n",
            "ETDataset  Informer2020  sample_data\n"
          ]
        }
      ]
    },
    {
      "cell_type": "code",
      "metadata": {
        "id": "b5GFng7v7Eq0"
      },
      "source": [
        "import sys\n",
        "if not 'Informer2020' in sys.path:\n",
        "    sys.path += ['Informer2020']"
      ],
      "execution_count": 2,
      "outputs": []
    },
    {
      "cell_type": "code",
      "metadata": {
        "id": "2KqgmIyoN5wO",
        "colab": {
          "base_uri": "https://localhost:8080/"
        },
        "outputId": "f2f4af8d-617c-4cd8-ea22-288bfc6aa83a"
      },
      "source": [
        "sys.path"
      ],
      "execution_count": 3,
      "outputs": [
        {
          "output_type": "execute_result",
          "data": {
            "text/plain": [
              "['',\n",
              " '/content',\n",
              " '/env/python',\n",
              " '/usr/lib/python37.zip',\n",
              " '/usr/lib/python3.7',\n",
              " '/usr/lib/python3.7/lib-dynload',\n",
              " '/usr/local/lib/python3.7/dist-packages',\n",
              " '/usr/lib/python3/dist-packages',\n",
              " '/usr/local/lib/python3.7/dist-packages/IPython/extensions',\n",
              " '/root/.ipython',\n",
              " 'Informer2020']"
            ]
          },
          "metadata": {},
          "execution_count": 3
        }
      ]
    },
    {
      "cell_type": "code",
      "metadata": {
        "id": "hJTYEoZfN7RB",
        "colab": {
          "base_uri": "https://localhost:8080/"
        },
        "outputId": "c6e7b518-76c0-463e-afa0-382efa0fca16"
      },
      "source": [
        "!pwd"
      ],
      "execution_count": 4,
      "outputs": [
        {
          "output_type": "stream",
          "name": "stdout",
          "text": [
            "/content\n"
          ]
        }
      ]
    },
    {
      "cell_type": "code",
      "metadata": {
        "id": "2hkHxZqRN-zh",
        "colab": {
          "base_uri": "https://localhost:8080/"
        },
        "outputId": "857c7219-552e-4366-83a7-f0187062fbe4"
      },
      "source": [
        "!ls"
      ],
      "execution_count": 5,
      "outputs": [
        {
          "output_type": "stream",
          "name": "stdout",
          "text": [
            "ETDataset  Informer2020  sample_data\n"
          ]
        }
      ]
    },
    {
      "cell_type": "code",
      "metadata": {
        "id": "YW9TS6jp_YXc",
        "outputId": "a9717efb-8396-4307-aea4-c7f5255f8992",
        "colab": {
          "base_uri": "https://localhost:8080/",
          "height": 1000
        }
      },
      "source": [
        "!pip install -r ./Informer2020/requirements.txt"
      ],
      "execution_count": 6,
      "outputs": [
        {
          "output_type": "stream",
          "name": "stdout",
          "text": [
            "Collecting matplotlib==3.1.1\n",
            "  Downloading matplotlib-3.1.1-cp37-cp37m-manylinux1_x86_64.whl (13.1 MB)\n",
            "\u001b[K     |████████████████████████████████| 13.1 MB 6.9 kB/s \n",
            "\u001b[?25hCollecting numpy==1.19.4\n",
            "  Downloading numpy-1.19.4-cp37-cp37m-manylinux2010_x86_64.whl (14.5 MB)\n",
            "\u001b[K     |████████████████████████████████| 14.5 MB 75 kB/s \n",
            "\u001b[?25hCollecting pandas==0.25.1\n",
            "  Downloading pandas-0.25.1-cp37-cp37m-manylinux1_x86_64.whl (10.4 MB)\n",
            "\u001b[K     |████████████████████████████████| 10.4 MB 28.2 MB/s \n",
            "\u001b[?25hCollecting scikit_learn==0.21.3\n",
            "  Downloading scikit_learn-0.21.3-cp37-cp37m-manylinux1_x86_64.whl (6.7 MB)\n",
            "\u001b[K     |████████████████████████████████| 6.7 MB 44.2 MB/s \n",
            "\u001b[?25hCollecting torch==1.8.0\n",
            "  Downloading torch-1.8.0-cp37-cp37m-manylinux1_x86_64.whl (735.5 MB)\n",
            "\u001b[K     |████████████████████████████████| 735.5 MB 11 kB/s \n",
            "\u001b[?25hRequirement already satisfied: pyparsing!=2.0.4,!=2.1.2,!=2.1.6,>=2.0.1 in /usr/local/lib/python3.7/dist-packages (from matplotlib==3.1.1->-r ./Informer2020/requirements.txt (line 1)) (2.4.7)\n",
            "Requirement already satisfied: python-dateutil>=2.1 in /usr/local/lib/python3.7/dist-packages (from matplotlib==3.1.1->-r ./Informer2020/requirements.txt (line 1)) (2.8.2)\n",
            "Requirement already satisfied: cycler>=0.10 in /usr/local/lib/python3.7/dist-packages (from matplotlib==3.1.1->-r ./Informer2020/requirements.txt (line 1)) (0.10.0)\n",
            "Requirement already satisfied: kiwisolver>=1.0.1 in /usr/local/lib/python3.7/dist-packages (from matplotlib==3.1.1->-r ./Informer2020/requirements.txt (line 1)) (1.3.2)\n",
            "Requirement already satisfied: pytz>=2017.2 in /usr/local/lib/python3.7/dist-packages (from pandas==0.25.1->-r ./Informer2020/requirements.txt (line 3)) (2018.9)\n",
            "Requirement already satisfied: joblib>=0.11 in /usr/local/lib/python3.7/dist-packages (from scikit_learn==0.21.3->-r ./Informer2020/requirements.txt (line 4)) (1.0.1)\n",
            "Requirement already satisfied: scipy>=0.17.0 in /usr/local/lib/python3.7/dist-packages (from scikit_learn==0.21.3->-r ./Informer2020/requirements.txt (line 4)) (1.4.1)\n",
            "Requirement already satisfied: typing-extensions in /usr/local/lib/python3.7/dist-packages (from torch==1.8.0->-r ./Informer2020/requirements.txt (line 5)) (3.7.4.3)\n",
            "Requirement already satisfied: six in /usr/local/lib/python3.7/dist-packages (from cycler>=0.10->matplotlib==3.1.1->-r ./Informer2020/requirements.txt (line 1)) (1.15.0)\n",
            "Installing collected packages: numpy, torch, scikit-learn, pandas, matplotlib\n",
            "  Attempting uninstall: numpy\n",
            "    Found existing installation: numpy 1.19.5\n",
            "    Uninstalling numpy-1.19.5:\n",
            "      Successfully uninstalled numpy-1.19.5\n",
            "  Attempting uninstall: torch\n",
            "    Found existing installation: torch 1.9.0+cu111\n",
            "    Uninstalling torch-1.9.0+cu111:\n",
            "      Successfully uninstalled torch-1.9.0+cu111\n",
            "  Attempting uninstall: scikit-learn\n",
            "    Found existing installation: scikit-learn 0.22.2.post1\n",
            "    Uninstalling scikit-learn-0.22.2.post1:\n",
            "      Successfully uninstalled scikit-learn-0.22.2.post1\n",
            "  Attempting uninstall: pandas\n",
            "    Found existing installation: pandas 1.1.5\n",
            "    Uninstalling pandas-1.1.5:\n",
            "      Successfully uninstalled pandas-1.1.5\n",
            "  Attempting uninstall: matplotlib\n",
            "    Found existing installation: matplotlib 3.2.2\n",
            "    Uninstalling matplotlib-3.2.2:\n",
            "      Successfully uninstalled matplotlib-3.2.2\n",
            "\u001b[31mERROR: pip's dependency resolver does not currently take into account all the packages that are installed. This behaviour is the source of the following dependency conflicts.\n",
            "xarray 0.18.2 requires pandas>=1.0, but you have pandas 0.25.1 which is incompatible.\n",
            "torchvision 0.10.0+cu111 requires torch==1.9.0, but you have torch 1.8.0 which is incompatible.\n",
            "torchtext 0.10.0 requires torch==1.9.0, but you have torch 1.8.0 which is incompatible.\n",
            "google-colab 1.0.0 requires pandas~=1.1.0; python_version >= \"3.0\", but you have pandas 0.25.1 which is incompatible.\n",
            "fbprophet 0.7.1 requires pandas>=1.0.4, but you have pandas 0.25.1 which is incompatible.\n",
            "datascience 0.10.6 requires folium==0.2.1, but you have folium 0.8.3 which is incompatible.\n",
            "albumentations 0.1.12 requires imgaug<0.2.7,>=0.2.5, but you have imgaug 0.2.9 which is incompatible.\u001b[0m\n",
            "Successfully installed matplotlib-3.1.1 numpy-1.19.4 pandas-0.25.1 scikit-learn-0.21.3 torch-1.8.0\n"
          ]
        },
        {
          "output_type": "display_data",
          "data": {
            "application/vnd.colab-display-data+json": {
              "pip_warning": {
                "packages": [
                  "matplotlib",
                  "mpl_toolkits",
                  "numpy",
                  "pandas"
                ]
              }
            }
          },
          "metadata": {}
        }
      ]
    },
    {
      "cell_type": "markdown",
      "metadata": {
        "id": "CDHF-HerAE3u"
      },
      "source": [
        "## Prediction"
      ]
    },
    {
      "cell_type": "code",
      "metadata": {
        "id": "7h_nj9mdoVYr",
        "outputId": "204e463c-9f49-45b5-8a0a-5068e65fc204",
        "colab": {
          "base_uri": "https://localhost:8080/"
        }
      },
      "source": [
        "from google.colab import drive\n",
        "drive.mount('/content/drive')"
      ],
      "execution_count": 20,
      "outputs": [
        {
          "output_type": "stream",
          "name": "stdout",
          "text": [
            "Mounted at /content/drive\n"
          ]
        }
      ]
    },
    {
      "cell_type": "code",
      "metadata": {
        "id": "kyB46HyBohIN",
        "outputId": "55f0a3c8-bad8-4683-d0e8-1189daf041b0",
        "colab": {
          "base_uri": "https://localhost:8080/"
        }
      },
      "source": [
        "!pwd"
      ],
      "execution_count": 21,
      "outputs": [
        {
          "output_type": "stream",
          "name": "stdout",
          "text": [
            "/content\n"
          ]
        }
      ]
    },
    {
      "cell_type": "code",
      "metadata": {
        "id": "s0YI1zx6ACiz"
      },
      "source": [
        "import os\n",
        "\n",
        "# set saved model path\n",
        "setting = 'informer_custom_ftMS_sl80_ll40_pl20_dm512_nh8_el2_dl1_df2048_atprob_fc5_ebtimeF_dtTrue_mxTrue_exp_0'\n",
        "# path = os.path.join(args.checkpoints,setting,'checkpoint.pth')"
      ],
      "execution_count": 23,
      "outputs": []
    },
    {
      "cell_type": "markdown",
      "metadata": {
        "id": "EnePVyrW4I14"
      },
      "source": [
        "### More details about Prediction - prediction dataset\n",
        "\n",
        "You can give a `root_path` and `data_path` of the data you want to forecast, and set `seq_len`, `label_len`, `pred_len` and other arguments as other Dataset. The difference is that you can set a more detailed freq such as `15min` or `3h` to generate the timestamp of prediction series.\n",
        "\n",
        "`Dataset_Pred` only has one sample (including `encoder_input: [1, seq_len, dim]`, `decoder_token: [1, label_len, dim]`, `encoder_input_timestamp: [1, seq_len, date_dim]`, `decoder_input_timstamp: [1, label_len+pred_len, date_dim]`). It will intercept the last sequence of the given data (seq_len data) to forecast the unseen future sequence (pred_len data)."
      ]
    },
    {
      "cell_type": "markdown",
      "metadata": {
        "id": "_d9iTtIGVxPB"
      },
      "source": [
        "# 예측!"
      ]
    },
    {
      "cell_type": "code",
      "metadata": {
        "id": "EyR_SRSrVGvy"
      },
      "source": [
        "from data.data_loader import Dataset_Custom\n",
        "from torch.utils.data import DataLoader\n",
        "import pandas as pd\n",
        "import os\n",
        "\n",
        "args.root_path = '/content/drive/MyDrive/Ventilator_Pressure_Prediction/'\n",
        "args.data_path = 'sample_test.csv'\n",
        "\n",
        "df = pd.read_csv(os.path.join(args.root_path, args.data_path))"
      ],
      "execution_count": 45,
      "outputs": []
    },
    {
      "cell_type": "code",
      "metadata": {
        "id": "7kzNs7suVMDq",
        "outputId": "8e3f4189-6d69-4191-e2e1-696a4ca3ec5f",
        "colab": {
          "base_uri": "https://localhost:8080/"
        }
      },
      "source": [
        "print(df)"
      ],
      "execution_count": 46,
      "outputs": [
        {
          "output_type": "stream",
          "name": "stdout",
          "text": [
            "                        date  breath_id   R  ...       u_in  u_out  pressure\n",
            "0        1970-01-01 09:00:00          0   5  ...   0.000000      0         0\n",
            "1        1970-01-01 09:00:01          0   5  ...   7.515046      0         0\n",
            "2        1970-01-01 09:00:02          0   5  ...  14.651675      0         0\n",
            "3        1970-01-01 09:00:03          0   5  ...  21.230610      0         0\n",
            "4        1970-01-01 09:00:04          0   5  ...  26.320956      0         0\n",
            "...                      ...        ...  ..  ...        ...    ...       ...\n",
            "4023995  1970-02-16 22:46:35     125748  20  ...   4.971245      1         0\n",
            "4023996  1970-02-16 22:46:36     125748  20  ...   4.975709      1         0\n",
            "4023997  1970-02-16 22:46:37     125748  20  ...   4.979468      1         0\n",
            "4023998  1970-02-16 22:46:38     125748  20  ...   4.982648      1         0\n",
            "4023999  1970-02-16 22:46:39     125748  20  ...   4.985373      1         0\n",
            "\n",
            "[4024000 rows x 8 columns]\n"
          ]
        }
      ]
    },
    {
      "cell_type": "code",
      "metadata": {
        "id": "dRPs3dHWpfDw",
        "outputId": "ed2a90d4-05a1-497e-c586-7dc3afa9b63d",
        "colab": {
          "base_uri": "https://localhost:8080/"
        }
      },
      "source": [
        "df.drop('date',axis=1,inplace=True)\n",
        "print(df)"
      ],
      "execution_count": 47,
      "outputs": [
        {
          "output_type": "stream",
          "name": "stdout",
          "text": [
            "         breath_id   R   C  time_step       u_in  u_out  pressure\n",
            "0                0   5  20   0.000000   0.000000      0         0\n",
            "1                0   5  20   0.031904   7.515046      0         0\n",
            "2                0   5  20   0.063827  14.651675      0         0\n",
            "3                0   5  20   0.095751  21.230610      0         0\n",
            "4                0   5  20   0.127644  26.320956      0         0\n",
            "...            ...  ..  ..        ...        ...    ...       ...\n",
            "4023995     125748  20  10   2.530117   4.971245      1         0\n",
            "4023996     125748  20  10   2.563853   4.975709      1         0\n",
            "4023997     125748  20  10   2.597475   4.979468      1         0\n",
            "4023998     125748  20  10   2.631134   4.982648      1         0\n",
            "4023999     125748  20  10   2.665301   4.985373      1         0\n",
            "\n",
            "[4024000 rows x 7 columns]\n"
          ]
        }
      ]
    },
    {
      "cell_type": "code",
      "metadata": {
        "id": "Ce2BSEfNpe-D",
        "outputId": "53df2bfa-5215-4586-cb87-757397e78bac",
        "colab": {
          "base_uri": "https://localhost:8080/"
        }
      },
      "source": [
        "df = df.reset_index().rename(columns={'index':'date'})\n",
        "print(df)"
      ],
      "execution_count": 48,
      "outputs": [
        {
          "output_type": "stream",
          "name": "stdout",
          "text": [
            "            date  breath_id   R   C  time_step       u_in  u_out  pressure\n",
            "0              0          0   5  20   0.000000   0.000000      0         0\n",
            "1              1          0   5  20   0.031904   7.515046      0         0\n",
            "2              2          0   5  20   0.063827  14.651675      0         0\n",
            "3              3          0   5  20   0.095751  21.230610      0         0\n",
            "4              4          0   5  20   0.127644  26.320956      0         0\n",
            "...          ...        ...  ..  ..        ...        ...    ...       ...\n",
            "4023995  4023995     125748  20  10   2.530117   4.971245      1         0\n",
            "4023996  4023996     125748  20  10   2.563853   4.975709      1         0\n",
            "4023997  4023997     125748  20  10   2.597475   4.979468      1         0\n",
            "4023998  4023998     125748  20  10   2.631134   4.982648      1         0\n",
            "4023999  4023999     125748  20  10   2.665301   4.985373      1         0\n",
            "\n",
            "[4024000 rows x 8 columns]\n"
          ]
        }
      ]
    },
    {
      "cell_type": "code",
      "metadata": {
        "id": "bU142CnIpbg8",
        "outputId": "dfb7ae25-bfd7-4334-e86a-1318840194fc",
        "colab": {
          "base_uri": "https://localhost:8080/"
        }
      },
      "source": [
        "def value_plus(value):\n",
        "    value_plus = value+7036000\n",
        "    return value_plus\n",
        "\n",
        "df.date = df.date.apply(lambda x: value_plus(x))\n",
        "print(df)"
      ],
      "execution_count": 49,
      "outputs": [
        {
          "output_type": "stream",
          "name": "stdout",
          "text": [
            "             date  breath_id   R   C  time_step       u_in  u_out  pressure\n",
            "0         7036000          0   5  20   0.000000   0.000000      0         0\n",
            "1         7036001          0   5  20   0.031904   7.515046      0         0\n",
            "2         7036002          0   5  20   0.063827  14.651675      0         0\n",
            "3         7036003          0   5  20   0.095751  21.230610      0         0\n",
            "4         7036004          0   5  20   0.127644  26.320956      0         0\n",
            "...           ...        ...  ..  ..        ...        ...    ...       ...\n",
            "4023995  11059995     125748  20  10   2.530117   4.971245      1         0\n",
            "4023996  11059996     125748  20  10   2.563853   4.975709      1         0\n",
            "4023997  11059997     125748  20  10   2.597475   4.979468      1         0\n",
            "4023998  11059998     125748  20  10   2.631134   4.982648      1         0\n",
            "4023999  11059999     125748  20  10   2.665301   4.985373      1         0\n",
            "\n",
            "[4024000 rows x 8 columns]\n"
          ]
        }
      ]
    },
    {
      "cell_type": "code",
      "metadata": {
        "id": "qBnKRmb5ZvgU",
        "outputId": "8df8ae25-f445-4baf-e576-dd36627c33b5",
        "colab": {
          "base_uri": "https://localhost:8080/"
        }
      },
      "source": [
        "import datetime\n",
        "\n",
        "def change_index_to_date(value):\n",
        "    date = datetime.datetime.fromtimestamp(int(value)).strftime('%Y-%m-%d %H:%M:%S')\n",
        "    return date\n",
        "\n",
        "df.date = df.date.apply(lambda x: change_index_to_date(x))\n",
        "print(df)"
      ],
      "execution_count": 50,
      "outputs": [
        {
          "output_type": "stream",
          "name": "stdout",
          "text": [
            "                        date  breath_id   R  ...       u_in  u_out  pressure\n",
            "0        1970-03-23 10:26:40          0   5  ...   0.000000      0         0\n",
            "1        1970-03-23 10:26:41          0   5  ...   7.515046      0         0\n",
            "2        1970-03-23 10:26:42          0   5  ...  14.651675      0         0\n",
            "3        1970-03-23 10:26:43          0   5  ...  21.230610      0         0\n",
            "4        1970-03-23 10:26:44          0   5  ...  26.320956      0         0\n",
            "...                      ...        ...  ..  ...        ...    ...       ...\n",
            "4023995  1970-05-09 00:13:15     125748  20  ...   4.971245      1         0\n",
            "4023996  1970-05-09 00:13:16     125748  20  ...   4.975709      1         0\n",
            "4023997  1970-05-09 00:13:17     125748  20  ...   4.979468      1         0\n",
            "4023998  1970-05-09 00:13:18     125748  20  ...   4.982648      1         0\n",
            "4023999  1970-05-09 00:13:19     125748  20  ...   4.985373      1         0\n",
            "\n",
            "[4024000 rows x 8 columns]\n"
          ]
        }
      ]
    },
    {
      "cell_type": "code",
      "metadata": {
        "id": "o0UOr4cx4eb6",
        "outputId": "8b3c7270-9f4d-43c8-9018-42704e0ce967",
        "colab": {
          "base_uri": "https://localhost:8080/"
        }
      },
      "source": [
        "df.info()"
      ],
      "execution_count": 124,
      "outputs": [
        {
          "output_type": "stream",
          "name": "stdout",
          "text": [
            "<class 'pandas.core.frame.DataFrame'>\n",
            "RangeIndex: 4024000 entries, 0 to 4023999\n",
            "Data columns (total 8 columns):\n",
            " #   Column     Dtype  \n",
            "---  ------     -----  \n",
            " 0   date       object \n",
            " 1   breath_id  int64  \n",
            " 2   R          int64  \n",
            " 3   C          int64  \n",
            " 4   time_step  float64\n",
            " 5   u_in       float64\n",
            " 6   u_out      int64  \n",
            " 7   pressure   int64  \n",
            "dtypes: float64(2), int64(5), object(1)\n",
            "memory usage: 245.6+ MB\n"
          ]
        }
      ]
    },
    {
      "cell_type": "code",
      "metadata": {
        "id": "ee3K8WLKsOWR",
        "outputId": "0475fd20-c0ff-465f-af6d-72694e903113",
        "colab": {
          "base_uri": "https://localhost:8080/",
          "height": 396
        }
      },
      "source": [
        "!pip uninstall pandas\n",
        "!pip install pandas==1.1.5"
      ],
      "execution_count": 54,
      "outputs": [
        {
          "output_type": "stream",
          "name": "stdout",
          "text": [
            "Found existing installation: pandas 1.2.2\n",
            "Uninstalling pandas-1.2.2:\n",
            "  Would remove:\n",
            "    /usr/local/lib/python3.7/dist-packages/pandas-1.2.2.dist-info/*\n",
            "    /usr/local/lib/python3.7/dist-packages/pandas/*\n",
            "Proceed (y/n)? y\n",
            "  Successfully uninstalled pandas-1.2.2\n",
            "Collecting pandas==1.1.5\n",
            "  Downloading pandas-1.1.5-cp37-cp37m-manylinux1_x86_64.whl (9.5 MB)\n",
            "\u001b[K     |████████████████████████████████| 9.5 MB 5.1 MB/s \n",
            "\u001b[?25hRequirement already satisfied: pytz>=2017.2 in /usr/local/lib/python3.7/dist-packages (from pandas==1.1.5) (2018.9)\n",
            "Requirement already satisfied: numpy>=1.15.4 in /usr/local/lib/python3.7/dist-packages (from pandas==1.1.5) (1.20.1)\n",
            "Requirement already satisfied: python-dateutil>=2.7.3 in /usr/local/lib/python3.7/dist-packages (from pandas==1.1.5) (2.8.2)\n",
            "Requirement already satisfied: six>=1.5 in /usr/local/lib/python3.7/dist-packages (from python-dateutil>=2.7.3->pandas==1.1.5) (1.15.0)\n",
            "Installing collected packages: pandas\n",
            "Successfully installed pandas-1.1.5\n"
          ]
        },
        {
          "output_type": "display_data",
          "data": {
            "application/vnd.colab-display-data+json": {
              "pip_warning": {
                "packages": [
                  "pandas"
                ]
              }
            }
          },
          "metadata": {}
        }
      ]
    },
    {
      "cell_type": "code",
      "metadata": {
        "id": "R8lB5RQlrpkx",
        "outputId": "3cad3af1-c397-4fd9-f9b9-0af47180b6aa",
        "colab": {
          "base_uri": "https://localhost:8080/",
          "height": 419
        }
      },
      "source": [
        "df.to_csv('/content/ETDataset/ETT-small/test.csv', index=False)\n",
        "pd.read_csv('/content/ETDataset/ETT-small/test.csv')"
      ],
      "execution_count": 55,
      "outputs": [
        {
          "output_type": "execute_result",
          "data": {
            "text/html": [
              "<div>\n",
              "<style scoped>\n",
              "    .dataframe tbody tr th:only-of-type {\n",
              "        vertical-align: middle;\n",
              "    }\n",
              "\n",
              "    .dataframe tbody tr th {\n",
              "        vertical-align: top;\n",
              "    }\n",
              "\n",
              "    .dataframe thead th {\n",
              "        text-align: right;\n",
              "    }\n",
              "</style>\n",
              "<table border=\"1\" class=\"dataframe\">\n",
              "  <thead>\n",
              "    <tr style=\"text-align: right;\">\n",
              "      <th></th>\n",
              "      <th>date</th>\n",
              "      <th>breath_id</th>\n",
              "      <th>R</th>\n",
              "      <th>C</th>\n",
              "      <th>time_step</th>\n",
              "      <th>u_in</th>\n",
              "      <th>u_out</th>\n",
              "      <th>pressure</th>\n",
              "    </tr>\n",
              "  </thead>\n",
              "  <tbody>\n",
              "    <tr>\n",
              "      <th>0</th>\n",
              "      <td>1970-03-23 10:26:40</td>\n",
              "      <td>0</td>\n",
              "      <td>5</td>\n",
              "      <td>20</td>\n",
              "      <td>0.000000</td>\n",
              "      <td>0.000000</td>\n",
              "      <td>0</td>\n",
              "      <td>0</td>\n",
              "    </tr>\n",
              "    <tr>\n",
              "      <th>1</th>\n",
              "      <td>1970-03-23 10:26:41</td>\n",
              "      <td>0</td>\n",
              "      <td>5</td>\n",
              "      <td>20</td>\n",
              "      <td>0.031904</td>\n",
              "      <td>7.515046</td>\n",
              "      <td>0</td>\n",
              "      <td>0</td>\n",
              "    </tr>\n",
              "    <tr>\n",
              "      <th>2</th>\n",
              "      <td>1970-03-23 10:26:42</td>\n",
              "      <td>0</td>\n",
              "      <td>5</td>\n",
              "      <td>20</td>\n",
              "      <td>0.063827</td>\n",
              "      <td>14.651675</td>\n",
              "      <td>0</td>\n",
              "      <td>0</td>\n",
              "    </tr>\n",
              "    <tr>\n",
              "      <th>3</th>\n",
              "      <td>1970-03-23 10:26:43</td>\n",
              "      <td>0</td>\n",
              "      <td>5</td>\n",
              "      <td>20</td>\n",
              "      <td>0.095751</td>\n",
              "      <td>21.230610</td>\n",
              "      <td>0</td>\n",
              "      <td>0</td>\n",
              "    </tr>\n",
              "    <tr>\n",
              "      <th>4</th>\n",
              "      <td>1970-03-23 10:26:44</td>\n",
              "      <td>0</td>\n",
              "      <td>5</td>\n",
              "      <td>20</td>\n",
              "      <td>0.127644</td>\n",
              "      <td>26.320956</td>\n",
              "      <td>0</td>\n",
              "      <td>0</td>\n",
              "    </tr>\n",
              "    <tr>\n",
              "      <th>...</th>\n",
              "      <td>...</td>\n",
              "      <td>...</td>\n",
              "      <td>...</td>\n",
              "      <td>...</td>\n",
              "      <td>...</td>\n",
              "      <td>...</td>\n",
              "      <td>...</td>\n",
              "      <td>...</td>\n",
              "    </tr>\n",
              "    <tr>\n",
              "      <th>4023995</th>\n",
              "      <td>1970-05-09 00:13:15</td>\n",
              "      <td>125748</td>\n",
              "      <td>20</td>\n",
              "      <td>10</td>\n",
              "      <td>2.530117</td>\n",
              "      <td>4.971245</td>\n",
              "      <td>1</td>\n",
              "      <td>0</td>\n",
              "    </tr>\n",
              "    <tr>\n",
              "      <th>4023996</th>\n",
              "      <td>1970-05-09 00:13:16</td>\n",
              "      <td>125748</td>\n",
              "      <td>20</td>\n",
              "      <td>10</td>\n",
              "      <td>2.563853</td>\n",
              "      <td>4.975709</td>\n",
              "      <td>1</td>\n",
              "      <td>0</td>\n",
              "    </tr>\n",
              "    <tr>\n",
              "      <th>4023997</th>\n",
              "      <td>1970-05-09 00:13:17</td>\n",
              "      <td>125748</td>\n",
              "      <td>20</td>\n",
              "      <td>10</td>\n",
              "      <td>2.597475</td>\n",
              "      <td>4.979468</td>\n",
              "      <td>1</td>\n",
              "      <td>0</td>\n",
              "    </tr>\n",
              "    <tr>\n",
              "      <th>4023998</th>\n",
              "      <td>1970-05-09 00:13:18</td>\n",
              "      <td>125748</td>\n",
              "      <td>20</td>\n",
              "      <td>10</td>\n",
              "      <td>2.631134</td>\n",
              "      <td>4.982648</td>\n",
              "      <td>1</td>\n",
              "      <td>0</td>\n",
              "    </tr>\n",
              "    <tr>\n",
              "      <th>4023999</th>\n",
              "      <td>1970-05-09 00:13:19</td>\n",
              "      <td>125748</td>\n",
              "      <td>20</td>\n",
              "      <td>10</td>\n",
              "      <td>2.665301</td>\n",
              "      <td>4.985373</td>\n",
              "      <td>1</td>\n",
              "      <td>0</td>\n",
              "    </tr>\n",
              "  </tbody>\n",
              "</table>\n",
              "<p>4024000 rows × 8 columns</p>\n",
              "</div>"
            ],
            "text/plain": [
              "                        date  breath_id   R  ...       u_in  u_out  pressure\n",
              "0        1970-03-23 10:26:40          0   5  ...   0.000000      0         0\n",
              "1        1970-03-23 10:26:41          0   5  ...   7.515046      0         0\n",
              "2        1970-03-23 10:26:42          0   5  ...  14.651675      0         0\n",
              "3        1970-03-23 10:26:43          0   5  ...  21.230610      0         0\n",
              "4        1970-03-23 10:26:44          0   5  ...  26.320956      0         0\n",
              "...                      ...        ...  ..  ...        ...    ...       ...\n",
              "4023995  1970-05-09 00:13:15     125748  20  ...   4.971245      1         0\n",
              "4023996  1970-05-09 00:13:16     125748  20  ...   4.975709      1         0\n",
              "4023997  1970-05-09 00:13:17     125748  20  ...   4.979468      1         0\n",
              "4023998  1970-05-09 00:13:18     125748  20  ...   4.982648      1         0\n",
              "4023999  1970-05-09 00:13:19     125748  20  ...   4.985373      1         0\n",
              "\n",
              "[4024000 rows x 8 columns]"
            ]
          },
          "metadata": {},
          "execution_count": 55
        }
      ]
    },
    {
      "cell_type": "code",
      "metadata": {
        "id": "_W_FVTbBtPn9",
        "outputId": "21194e97-f486-4198-d00e-969be65e4c3c",
        "colab": {
          "base_uri": "https://localhost:8080/"
        }
      },
      "source": [
        "!pwd"
      ],
      "execution_count": 59,
      "outputs": [
        {
          "output_type": "stream",
          "name": "stdout",
          "text": [
            "/content\n"
          ]
        }
      ]
    },
    {
      "cell_type": "code",
      "metadata": {
        "id": "-tCHvkOts736"
      },
      "source": [
        "args = dotdict()\n",
        "\n",
        "args.model = 'informer' # model of experiment, options: [informer, informerstack, informerlight(TBD)]\n",
        "\n",
        "args.data = 'custom' # data\n",
        "args.root_path = '/content/ETDataset/ETT-small/' # root path of data file\n",
        "args.data_path = 'test.csv' # data file\n",
        "args.features = 'MS' # forecasting task, options:[M, S, MS]; M:multivariate predict multivariate, S:univariate predict univariate, MS:multivariate predict univariate\n",
        "args.target = 'pressure' # target feature in S or MS task\n",
        "args.freq = 's' # freq for time features encoding, options:[s:secondly, t:minutely, h:hourly, d:daily, b:business days, w:weekly, m:monthly], you can also use more detailed freq like 15min or 3h\n",
        "args.checkpoints = '/content/drive/MyDrive/Ventilator_Pressure_Prediction/informer_checkpoints' # location of model checkpoints\n",
        "\n",
        "args.seq_len = 80 # input sequence length of Informer encoder, 한 breath_id마다 80개의 데이터라서\n",
        "args.label_len = 40 # start token length of Informer decoder, 예제 코드보니까 seq_len의 반이라서...\n",
        "args.pred_len = 20 # prediction sequence length, 이건 또 label_len의 반이라서...\n",
        "# Informer decoder input: concat[start token series(label_len), zero padding series(pred_len)]\n",
        "\n",
        "args.enc_in = 7 # encoder input size\n",
        "args.dec_in = 7 # decoder input size\n",
        "args.c_out = 1 # output size\n",
        "args.factor = 5 # probsparse attn factor\n",
        "args.d_model = 512 # dimension of model\n",
        "args.n_heads = 8 # num of heads\n",
        "args.e_layers = 2 # num of encoder layers\n",
        "args.d_layers = 1 # num of decoder layers\n",
        "args.d_ff = 2048 # dimension of fcn in model\n",
        "args.dropout = 0.05 # dropout\n",
        "args.attn = 'prob' # attention used in encoder, options:[prob, full]\n",
        "args.embed = 'timeF' # time features encoding, options:[timeF, fixed, learned]\n",
        "args.activation = 'gelu' # activation\n",
        "args.distil = True # whether to use distilling in encoder\n",
        "args.output_attention = False # whether to output attention in ecoder\n",
        "args.mix = True\n",
        "args.padding = 0\n",
        "args.freq = 's' # 오잉 왜 h로 돼있었지??\n",
        "\n",
        "args.batch_size = 1024\n",
        "args.learning_rate = 0.0001\n",
        "args.loss = 'mae'\n",
        "args.lradj = 'type1'\n",
        "args.use_amp = False # whether to use automatic mixed precision training\n",
        "\n",
        "args.num_workers = 0\n",
        "args.itr = 1\n",
        "args.train_epochs = 5\n",
        "args.patience = 3\n",
        "args.des = 'exp'\n",
        "\n",
        "args.use_gpu = True if torch.cuda.is_available() else False\n",
        "args.gpu = 0\n",
        "\n",
        "args.use_multi_gpu = True\n",
        "args.devices = '0'\n"
      ],
      "execution_count": 384,
      "outputs": []
    },
    {
      "cell_type": "code",
      "metadata": {
        "id": "PE87N0ruVhRK",
        "outputId": "994a0ccc-80b4-44f8-bcee-529c9ac3b0eb",
        "colab": {
          "base_uri": "https://localhost:8080/"
        }
      },
      "source": [
        "args"
      ],
      "execution_count": 385,
      "outputs": [
        {
          "output_type": "execute_result",
          "data": {
            "text/plain": [
              "{'activation': 'gelu',\n",
              " 'attn': 'prob',\n",
              " 'batch_size': 1024,\n",
              " 'c_out': 1,\n",
              " 'checkpoints': '/content/drive/MyDrive/Ventilator_Pressure_Prediction/informer_checkpoints',\n",
              " 'd_ff': 2048,\n",
              " 'd_layers': 1,\n",
              " 'd_model': 512,\n",
              " 'data': 'custom',\n",
              " 'data_path': 'test.csv',\n",
              " 'dec_in': 7,\n",
              " 'des': 'exp',\n",
              " 'devices': '0',\n",
              " 'distil': True,\n",
              " 'dropout': 0.05,\n",
              " 'e_layers': 2,\n",
              " 'embed': 'timeF',\n",
              " 'enc_in': 7,\n",
              " 'factor': 5,\n",
              " 'features': 'MS',\n",
              " 'freq': 's',\n",
              " 'gpu': 0,\n",
              " 'itr': 1,\n",
              " 'label_len': 40,\n",
              " 'learning_rate': 0.0001,\n",
              " 'loss': 'mae',\n",
              " 'lradj': 'type1',\n",
              " 'mix': True,\n",
              " 'model': 'informer',\n",
              " 'n_heads': 8,\n",
              " 'num_workers': 0,\n",
              " 'output_attention': False,\n",
              " 'padding': 0,\n",
              " 'patience': 3,\n",
              " 'pred_len': 20,\n",
              " 'root_path': '/content/ETDataset/ETT-small/',\n",
              " 'seq_len': 80,\n",
              " 'target': 'pressure',\n",
              " 'train_epochs': 5,\n",
              " 'use_amp': False,\n",
              " 'use_gpu': True,\n",
              " 'use_multi_gpu': True}"
            ]
          },
          "metadata": {},
          "execution_count": 385
        }
      ]
    },
    {
      "cell_type": "code",
      "metadata": {
        "id": "lh6uHOEauaeF"
      },
      "source": [
        "args.use_gpu = True if torch.cuda.is_available() and args.use_gpu else False\n",
        "\n",
        "if args.use_gpu and args.use_multi_gpu:\n",
        "    args.devices = args.devices.replace(' ','')\n",
        "    device_ids = args.devices.split(',')\n",
        "    args.device_ids = [int(id_) for id_ in device_ids]\n",
        "    args.gpu = args.device_ids[0]"
      ],
      "execution_count": 386,
      "outputs": []
    },
    {
      "cell_type": "code",
      "metadata": {
        "id": "9cOpRn-Uvzqi"
      },
      "source": [
        "# Set augments by using data name\n",
        "data_parser = {\n",
        "    'custom':{'data':'test.csv','T':'pressure','M':[7,7,7],'S':[1,1,1],'MS':[7,7,1]},\n",
        "}\n",
        "if args.data in data_parser.keys():\n",
        "    data_info = data_parser[args.data]\n",
        "    args.data_path = data_info['data']\n",
        "    args.target = data_info['T']\n",
        "    args.enc_in, args.dec_in, args.c_out = data_info[args.features]"
      ],
      "execution_count": 387,
      "outputs": []
    },
    {
      "cell_type": "code",
      "metadata": {
        "id": "NS0R_pgav4o4",
        "outputId": "07184b23-1a0f-451c-ee6a-2940d85f0c78",
        "colab": {
          "base_uri": "https://localhost:8080/"
        }
      },
      "source": [
        "data_info"
      ],
      "execution_count": 388,
      "outputs": [
        {
          "output_type": "execute_result",
          "data": {
            "text/plain": [
              "{'M': [7, 7, 7],\n",
              " 'MS': [7, 7, 1],\n",
              " 'S': [1, 1, 1],\n",
              " 'T': 'pressure',\n",
              " 'data': 'test.csv'}"
            ]
          },
          "metadata": {},
          "execution_count": 388
        }
      ]
    },
    {
      "cell_type": "code",
      "metadata": {
        "id": "gDZUjQPvvOE5"
      },
      "source": [
        "args.detail_freq = args.freq\n",
        "args.freq = args.freq[-1:]"
      ],
      "execution_count": 389,
      "outputs": []
    },
    {
      "cell_type": "code",
      "metadata": {
        "id": "aVzLasYXBcSQ"
      },
      "source": [
        "from utils.tools import StandardScaler\n",
        "from utils.timefeatures import time_features\n",
        "from torch.utils.data import Dataset\n",
        "class Dataset_Pred(Dataset):\n",
        "    def __init__(self, root_path, flag='pred', size=None, \n",
        "                 features='MS', data_path='sample_train.csv', \n",
        "                 target='pressure', scale=True, inverse=False, timeenc=0, freq='s', cols=None):\n",
        "        # size [seq_len, label_len, pred_len]\n",
        "        # info\n",
        "        if size == None:\n",
        "            self.seq_len = 24*4*4\n",
        "            self.label_len = 24*4\n",
        "            self.pred_len = 24*4\n",
        "        else:\n",
        "            self.seq_len = size[0]\n",
        "            self.label_len = size[1]\n",
        "            self.pred_len = size[2]\n",
        "        # init\n",
        "        assert flag in ['pred']\n",
        "        \n",
        "        self.features = features\n",
        "        self.target = target\n",
        "        self.scale = scale\n",
        "        self.inverse = inverse\n",
        "        self.timeenc = timeenc\n",
        "        self.freq = freq\n",
        "        self.cols=cols\n",
        "        self.root_path = root_path\n",
        "        self.data_path = data_path\n",
        "        self.__read_data__()\n",
        "\n",
        "    def __read_data__(self):\n",
        "        self.scaler = StandardScaler()\n",
        "        df_raw = pd.read_csv(os.path.join(self.root_path,\n",
        "                                          self.data_path))\n",
        "        # print(df_raw)\n",
        "        '''\n",
        "        df_raw.columns: ['date', ...(other features), target feature]\n",
        "        '''\n",
        "        if self.cols:\n",
        "          cols=self.cols.copy()\n",
        "          cols.remove(self.target)\n",
        "          print('씨발')\n",
        "        else:\n",
        "          print(list(df_raw.columns))\n",
        "          cols = list(df_raw.columns)\n",
        "          cols.remove('pressure')\n",
        "          cols.remove('date')\n",
        "        df_raw = df_raw[['date']+cols+[self.target]]\n",
        "        # print(df_raw)\n",
        "        \n",
        "        border1 = len(df_raw)-self.seq_len\n",
        "        border2 = len(df_raw)\n",
        "        print(border1, border2)\n",
        "\n",
        "        if self.features=='M' or self.features=='MS':\n",
        "            cols_data = df_raw.columns[1:]\n",
        "            df_data = df_raw[cols_data]\n",
        "            # print(df_data)\n",
        "        elif self.features=='S':\n",
        "            df_data = df_raw[[self.target]]\n",
        "\n",
        "        if self.scale:\n",
        "            self.scaler.fit(df_data.values)\n",
        "            data = self.scaler.transform(df_data.values)\n",
        "        else:\n",
        "            data = df_data.values\n",
        "            \n",
        "        tmp_stamp = df_raw[['date']][border1:border2]\n",
        "        tmp_stamp['date'] = pd.to_datetime(tmp_stamp.date)\n",
        "        pred_dates = pd.date_range(tmp_stamp.date.values[-1], periods=self.pred_len+1, freq=self.freq)\n",
        "        \n",
        "        df_stamp = pd.DataFrame(columns = ['date'])\n",
        "        df_stamp.date = list(tmp_stamp.date.values) + list(pred_dates[1:])\n",
        "        data_stamp = time_features(df_stamp, timeenc=self.timeenc, freq=self.freq[-1:])\n",
        "        # print(data_stamp)\n",
        "        \n",
        "        self.data_x = data[border1:border2]\n",
        "        if self.inverse:\n",
        "            self.data_y = df_data.values[border1:border2]\n",
        "        else:\n",
        "            self.data_y = data[border1:border2]\n",
        "        self.data_stamp = data_stamp\n",
        "        # print(data_stamp)\n",
        "\n",
        "#########################################################################\n",
        "############# enumerate로 돌릴 땐 여기가 작동한다!! #####################\n",
        "#########################################################################\n",
        "\n",
        "    def __getitem__(self, index):\n",
        "        s_begin = index\n",
        "        s_end = s_begin + self.seq_len\n",
        "        r_begin = s_end - self.label_len \n",
        "        r_end = r_begin + self.label_len + self.pred_len\n",
        "        # print(s_begin, s_end, r_begin, r_end)\n",
        "        print('index : ', index)\n",
        "        \n",
        "        seq_x = self.data_x[s_begin:s_end]\n",
        "        if self.inverse:\n",
        "            seq_y = np.concatenate([self.data_x[r_begin:r_begin+self.label_len], self.data_y[r_begin+self.label_len:r_end]], 0)\n",
        "        else:\n",
        "            seq_y = self.data_y[r_begin:r_end]\n",
        "        seq_x_mark = self.data_stamp[s_begin:s_end]\n",
        "        seq_y_mark = self.data_stamp[r_begin:r_end]\n",
        "\n",
        "        return seq_x, seq_y, seq_x_mark, seq_y_mark\n",
        "    \n",
        "    def __len__(self):\n",
        "        return len(self.data_x) - self.seq_len + 1\n",
        "\n",
        "    def inverse_transform(self, data):\n",
        "        return self.scaler.inverse_transform(data)\n"
      ],
      "execution_count": 391,
      "outputs": []
    },
    {
      "cell_type": "code",
      "metadata": {
        "id": "hKmqhCfmt0xd",
        "outputId": "2dbe2d3e-890e-48c5-da09-b00e7fba79cb",
        "colab": {
          "base_uri": "https://localhost:8080/"
        }
      },
      "source": [
        "from torch.utils.data import DataLoader\n",
        "\n",
        "Data = Dataset_Pred\n",
        "timeenc = 0 if args.embed!='timeF' else 1\n",
        "flag = 'pred'; shuffle_flag = False; drop_last = True; batch_size = 1\n",
        "\n",
        "data_set = Data(\n",
        "    root_path=args.root_path,\n",
        "    data_path=args.data_path,\n",
        "    flag=flag,\n",
        "    size=[args.seq_len, args.label_len, args.pred_len],\n",
        "    features=args.features,\n",
        "    timeenc=timeenc,\n",
        "    freq=args.freq\n",
        ")\n",
        "data_loader = DataLoader(\n",
        "    data_set,\n",
        "    batch_size=batch_size,\n",
        "    shuffle=shuffle_flag,\n",
        "    num_workers=args.num_workers,\n",
        "    drop_last=drop_last)"
      ],
      "execution_count": 396,
      "outputs": [
        {
          "output_type": "stream",
          "name": "stdout",
          "text": [
            "['date', 'breath_id', 'R', 'C', 'time_step', 'u_in', 'u_out', 'pressure']\n",
            "4023920 4024000\n"
          ]
        }
      ]
    },
    {
      "cell_type": "code",
      "metadata": {
        "id": "GfoQ_ixSWdiK",
        "outputId": "ab687217-2567-47b7-f909-bd5392ae0471",
        "colab": {
          "base_uri": "https://localhost:8080/"
        }
      },
      "source": [
        "for i, _ in enumerate(data_loader):\n",
        "  print(i)"
      ],
      "execution_count": 398,
      "outputs": [
        {
          "output_type": "stream",
          "name": "stdout",
          "text": [
            "index :  0\n",
            "0\n"
          ]
        }
      ]
    },
    {
      "cell_type": "code",
      "metadata": {
        "id": "F39kJ5NcS-C0"
      },
      "source": [
        ""
      ],
      "execution_count": null,
      "outputs": []
    },
    {
      "cell_type": "code",
      "metadata": {
        "id": "JTFFGu9LS9_z"
      },
      "source": [
        "# class Dataset_ETT_hour(Dataset):\n",
        "#     def __init__(self, root_path, flag='train', size=None, \n",
        "#                  features='S', data_path='ETTh1.csv', \n",
        "#                  target='OT', scale=True, inverse=False, timeenc=0, freq='h', cols=None):\n",
        "#         # size [seq_len, label_len, pred_len]\n",
        "#         # info\n",
        "#         if size == None:\n",
        "#             self.seq_len = 24*4*4\n",
        "#             self.label_len = 24*4\n",
        "#             self.pred_len = 24*4\n",
        "#         else:\n",
        "#             self.seq_len = size[0]\n",
        "#             self.label_len = size[1]\n",
        "#             self.pred_len = size[2]\n",
        "#         # init\n",
        "#         assert flag in ['train', 'test', 'val']\n",
        "#         type_map = {'train':0, 'val':1, 'test':2}\n",
        "#         self.set_type = type_map[flag]\n",
        "        \n",
        "#         self.features = features\n",
        "#         self.target = target\n",
        "#         self.scale = scale\n",
        "#         self.inverse = inverse\n",
        "#         self.timeenc = timeenc\n",
        "#         self.freq = freq\n",
        "        \n",
        "#         self.root_path = root_path\n",
        "#         self.data_path = data_path\n",
        "#         self.__read_data__()\n",
        "\n",
        "#     def __read_data__(self):\n",
        "#         self.scaler = StandardScaler()\n",
        "#         df_raw = pd.read_csv(os.path.join(self.root_path,\n",
        "#                                           self.data_path))\n",
        "\n",
        "#         border1s = [0, 12*30*24 - self.seq_len, 12*30*24+4*30*24 - self.seq_len]\n",
        "#         border2s = [12*30*24, 12*30*24+4*30*24, 12*30*24+8*30*24]\n",
        "#         border1 = border1s[self.set_type]\n",
        "#         border2 = border2s[self.set_type]\n",
        "#         print(border1, border2)\n",
        "\n",
        "#         if self.features=='M' or self.features=='MS':\n",
        "#             cols_data = df_raw.columns[1:]\n",
        "#             df_data = df_raw[cols_data]\n",
        "#         elif self.features=='S':\n",
        "#             df_data = df_raw[[self.target]]\n",
        "\n",
        "#         if self.scale:\n",
        "#             train_data = df_data[border1s[0]:border2s[0]]\n",
        "#             self.scaler.fit(train_data.values)\n",
        "#             data = self.scaler.transform(df_data.values)\n",
        "#         else:\n",
        "#             data = df_data.values\n",
        "            \n",
        "#         df_stamp = df_raw[['date']][border1:border2]\n",
        "#         df_stamp['date'] = pd.to_datetime(df_stamp.date)\n",
        "#         data_stamp = time_features(df_stamp, timeenc=self.timeenc, freq=self.freq)\n",
        "\n",
        "#         self.data_x = data[border1:border2]\n",
        "#         if self.inverse:\n",
        "#             self.data_y = df_data.values[border1:border2]\n",
        "#         else:\n",
        "#             self.data_y = data[border1:border2]\n",
        "#         self.data_stamp = data_stamp\n",
        "    \n",
        "#     def __getitem__(self, index):\n",
        "#         s_begin = index\n",
        "#         s_end = s_begin + self.seq_len\n",
        "#         r_begin = s_end - self.label_len \n",
        "#         r_end = r_begin + self.label_len + self.pred_len\n",
        "#         print('index : ', index)\n",
        "#         seq_x = self.data_x[s_begin:s_end]\n",
        "#         if self.inverse:\n",
        "#             seq_y = np.concatenate([self.data_x[r_begin:r_begin+self.label_len], self.data_y[r_begin+self.label_len:r_end]], 0)\n",
        "#         else:\n",
        "#             seq_y = self.data_y[r_begin:r_end]\n",
        "#         seq_x_mark = self.data_stamp[s_begin:s_end]\n",
        "#         seq_y_mark = self.data_stamp[r_begin:r_end]\n",
        "\n",
        "#         return seq_x, seq_y, seq_x_mark, seq_y_mark\n",
        "    \n",
        "#     def __len__(self):\n",
        "#         return len(self.data_x) - self.seq_len- self.pred_len + 1\n",
        "\n",
        "#     def inverse_transform(self, data):\n",
        "#         return self.scaler.inverse_transform(data)"
      ],
      "execution_count": 374,
      "outputs": []
    },
    {
      "cell_type": "code",
      "metadata": {
        "id": "btciR5LpS98q",
        "outputId": "08a44cc9-32f0-451e-a71c-f2b79dba2fb8",
        "colab": {
          "base_uri": "https://localhost:8080/"
        }
      },
      "source": [
        "# from torch.utils.data import DataLoader\n",
        "\n",
        "# Data = Dataset_ETT_hour\n",
        "# timeenc = 0 if args.embed!='timeF' else 1\n",
        "# flag = 'test'; shuffle_flag = False; drop_last = True; batch_size = 1\n",
        "\n",
        "# data_set = Data(\n",
        "#     root_path=args.root_path,\n",
        "#     data_path=args.data_path,\n",
        "#     flag=flag,\n",
        "#     size=[args.seq_len, args.label_len, args.pred_len],\n",
        "#     features=args.features,\n",
        "#     timeenc=timeenc,\n",
        "#     freq=args.freq\n",
        "# )\n",
        "# data_loader = DataLoader(\n",
        "#     data_set,\n",
        "#     batch_size=batch_size,\n",
        "#     shuffle=shuffle_flag,\n",
        "#     num_workers=args.num_workers,\n",
        "#     drop_last=drop_last)"
      ],
      "execution_count": 375,
      "outputs": [
        {
          "output_type": "stream",
          "name": "stdout",
          "text": [
            "11440 14400\n"
          ]
        }
      ]
    },
    {
      "cell_type": "code",
      "metadata": {
        "colab": {
          "base_uri": "https://localhost:8080/"
        },
        "id": "iflTTl0quCoK",
        "outputId": "a0f3e790-e347-4d6e-a72a-6154a3ee74d9"
      },
      "source": [
        "import os\n",
        "\n",
        "args.output_attention = True\n",
        "\n",
        "exp = Exp(args)\n",
        "\n",
        "model = exp.model\n",
        "\n",
        "setting = 'informer_custom_ftMS_sl80_ll40_pl20_dm512_nh8_el2_dl1_df2048_atprob_fc5_ebtimeF_dtTrue_mxTrue_exp_0'\n",
        "path = os.path.join(args.checkpoints,setting,'checkpoint.pth')\n",
        "model.load_state_dict(torch.load(path))"
      ],
      "execution_count": 323,
      "outputs": [
        {
          "output_type": "stream",
          "name": "stdout",
          "text": [
            "Use GPU: cuda:0\n"
          ]
        },
        {
          "output_type": "execute_result",
          "data": {
            "text/plain": [
              "<All keys matched successfully>"
            ]
          },
          "metadata": {},
          "execution_count": 323
        }
      ]
    },
    {
      "cell_type": "code",
      "metadata": {
        "id": "PpNShr2IZGt9"
      },
      "source": [
        "for i, _ in enumerate(data_set):\n",
        "  print(i)"
      ],
      "execution_count": null,
      "outputs": []
    },
    {
      "cell_type": "code",
      "metadata": {
        "id": "g0w0z0WoPUYU"
      },
      "source": [
        "for i, _ in enumerate(data_loader):\n",
        "  print(i)"
      ],
      "execution_count": null,
      "outputs": []
    },
    {
      "cell_type": "code",
      "metadata": {
        "id": "HKc4M604KnsY",
        "outputId": "8ed21424-c506-4c48-b41d-d981739913c2",
        "colab": {
          "base_uri": "https://localhost:8080/"
        }
      },
      "source": [
        "max_number =[]\n",
        "for i, _ in enumerate(data_loader):\n",
        "  max_number.append(i)\n",
        "max(max_number)"
      ],
      "execution_count": 399,
      "outputs": [
        {
          "output_type": "stream",
          "name": "stdout",
          "text": [
            "index :  0\n"
          ]
        },
        {
          "output_type": "execute_result",
          "data": {
            "text/plain": [
              "0"
            ]
          },
          "metadata": {},
          "execution_count": 399
        }
      ]
    },
    {
      "cell_type": "code",
      "metadata": {
        "id": "f1lVAoGbV_p_",
        "outputId": "5f2641b7-d3ab-4639-f65a-fe6d4972b280",
        "colab": {
          "base_uri": "https://localhost:8080/"
        }
      },
      "source": [
        "128*2860, 4024000\n",
        "# 도대체 왜 2860개로 데이터 로더가 묶는것일까..."
      ],
      "execution_count": 109,
      "outputs": [
        {
          "output_type": "execute_result",
          "data": {
            "text/plain": [
              "(366080, 4024000)"
            ]
          },
          "metadata": {},
          "execution_count": 109
        }
      ]
    },
    {
      "cell_type": "code",
      "metadata": {
        "id": "X5Calz8dG17H",
        "outputId": "1120047b-b515-41c4-fa8b-db9df336a59c",
        "colab": {
          "base_uri": "https://localhost:8080/"
        }
      },
      "source": [
        "# attention visualization\n",
        "idx = 0\n",
        "for i, (batch_x,batch_y,batch_x_mark,batch_y_mark) in enumerate(data_loader):\n",
        "    if i!=idx:\n",
        "        continue\n",
        "    batch_x = batch_x.float().to(exp.device)\n",
        "    batch_y = batch_y.float()\n",
        "\n",
        "    batch_x_mark = batch_x_mark.float().to(exp.device)\n",
        "    batch_y_mark = batch_y_mark.float().to(exp.device)\n",
        "    \n",
        "    dec_inp = torch.zeros_like(batch_y[:,-args.pred_len:,:]).float()\n",
        "    dec_inp = torch.cat([batch_y[:,:args.label_len,:], dec_inp], dim=1).float().to(exp.device)\n",
        "    \n",
        "    outputs,attn = model(batch_x, batch_x_mark, dec_inp, batch_y_mark)"
      ],
      "execution_count": 401,
      "outputs": [
        {
          "output_type": "stream",
          "name": "stdout",
          "text": [
            "index :  0\n"
          ]
        }
      ]
    },
    {
      "cell_type": "code",
      "metadata": {
        "id": "NT8R9TWSG14e",
        "outputId": "29440b8f-d19e-492b-8991-8af7cd18d222",
        "colab": {
          "base_uri": "https://localhost:8080/"
        }
      },
      "source": [
        "outputs.shape"
      ],
      "execution_count": 283,
      "outputs": [
        {
          "output_type": "execute_result",
          "data": {
            "text/plain": [
              "torch.Size([1, 20, 1])"
            ]
          },
          "metadata": {},
          "execution_count": 283
        }
      ]
    },
    {
      "cell_type": "code",
      "metadata": {
        "id": "ex7oOhHlOgHM",
        "outputId": "575ad362-4aa2-4c93-c925-1f8af296c5d9",
        "colab": {
          "base_uri": "https://localhost:8080/"
        }
      },
      "source": [
        "outputs"
      ],
      "execution_count": 402,
      "outputs": [
        {
          "output_type": "execute_result",
          "data": {
            "text/plain": [
              "tensor([[[nan],\n",
              "         [nan],\n",
              "         [nan],\n",
              "         [nan],\n",
              "         [nan],\n",
              "         [nan],\n",
              "         [nan],\n",
              "         [nan],\n",
              "         [nan],\n",
              "         [nan],\n",
              "         [nan],\n",
              "         [nan],\n",
              "         [nan],\n",
              "         [nan],\n",
              "         [nan],\n",
              "         [nan],\n",
              "         [nan],\n",
              "         [nan],\n",
              "         [nan],\n",
              "         [nan]]], device='cuda:0', grad_fn=<SliceBackward>)"
            ]
          },
          "metadata": {},
          "execution_count": 402
        }
      ]
    },
    {
      "cell_type": "code",
      "metadata": {
        "id": "X8IW4cj5G116"
      },
      "source": [
        "# here is the detailed code of function predict\n",
        "\n",
        "def predict(exp, setting, load=False):\n",
        "    pred_data, pred_loader = data_set, data_loader\n",
        "        \n",
        "    if load:\n",
        "        path = os.path.join(exp.args.checkpoints, setting)\n",
        "        best_model_path = path+'/'+'checkpoint.pth'\n",
        "        exp.model.load_state_dict(torch.load(best_model_path))\n",
        "\n",
        "    exp.model.eval()\n",
        "        \n",
        "    preds = []\n",
        "        \n",
        "    for i, (batch_x,batch_y,batch_x_mark,batch_y_mark) in enumerate(pred_data):\n",
        "        batch_x = torch.tensor(batch_x).float().to(exp.device)\n",
        "        batch_y = torch.tensor(batch_y).float()\n",
        "        batch_x_mark = torch.tensor(batch_x_mark).float().to(exp.device)\n",
        "        batch_y_mark = torch.tensor(batch_y_mark).float().to(exp.device)\n",
        "\n",
        "        # decoder input\n",
        "        if exp.args.padding==0:\n",
        "            dec_inp = torch.zeros([batch_y.shape[0], exp.args.pred_len, batch_y.shape[-1]]).float()\n",
        "        elif exp.args.padding==1:\n",
        "            dec_inp = torch.ones([batch_y.shape[0], exp.args.pred_len, batch_y.shape[-1]]).float()\n",
        "        else:\n",
        "            dec_inp = torch.zeros([batch_y.shape[0], exp.args.pred_len, batch_y.shape[-1]]).float()\n",
        "        dec_inp = torch.cat([batch_y[:,:exp.args.label_len,:], dec_inp], dim=1).float().to(exp.device)\n",
        "        # encoder - decoder\n",
        "        if exp.args.use_amp:\n",
        "            with torch.cuda.amp.autocast():\n",
        "                if exp.args.output_attention:\n",
        "                    outputs = exp.model(batch_x, batch_x_mark, dec_inp, batch_y_mark)[0]\n",
        "                else:\n",
        "                    outputs = exp.model(batch_x, batch_x_mark, dec_inp, batch_y_mark)\n",
        "        else:\n",
        "            if exp.args.output_attention:\n",
        "                outputs = exp.model(batch_x, batch_x_mark, dec_inp, batch_y_mark)[0]\n",
        "            else:\n",
        "                outputs = exp.model(batch_x, batch_x_mark, dec_inp, batch_y_mark)\n",
        "        f_dim = -1 if exp.args.features=='MS' else 0\n",
        "        batch_y = batch_y[:,-exp.args.pred_len:,f_dim:].to(exp.device)\n",
        "        \n",
        "        pred = outputs.detach().cpu().numpy()#.squeeze()\n",
        "        \n",
        "        preds.append(pred)\n",
        "\n",
        "    preds = np.array(preds)\n",
        "    preds = preds.reshape(-1, preds.shape[-2], preds.shape[-1])\n",
        "    \n",
        "    # result save\n",
        "    folder_path = './results/' + setting +'/'\n",
        "    if not os.path.exists(folder_path):\n",
        "        os.makedirs(folder_path)\n",
        "    \n",
        "    np.save(folder_path+'real_prediction.npy', preds)\n",
        "    \n",
        "    return preds"
      ],
      "execution_count": 359,
      "outputs": []
    },
    {
      "cell_type": "code",
      "metadata": {
        "id": "bXnx-TwoG1zY",
        "outputId": "ce2f799e-61fb-4e78-ff57-e6c920aeec61",
        "colab": {
          "base_uri": "https://localhost:8080/",
          "height": 370
        }
      },
      "source": [
        "import numpy as np\n",
        "\n",
        "prediction = predict(exp, setting, True)\n",
        "# 예측이 된다!!!"
      ],
      "execution_count": 360,
      "outputs": [
        {
          "output_type": "stream",
          "name": "stdout",
          "text": [
            "0 80 40 100\n"
          ]
        },
        {
          "output_type": "error",
          "ename": "IndexError",
          "evalue": "ignored",
          "traceback": [
            "\u001b[0;31m---------------------------------------------------------------------------\u001b[0m",
            "\u001b[0;31mIndexError\u001b[0m                                Traceback (most recent call last)",
            "\u001b[0;32m<ipython-input-360-9256aa7c20ef>\u001b[0m in \u001b[0;36m<module>\u001b[0;34m()\u001b[0m\n\u001b[1;32m      1\u001b[0m \u001b[0;32mimport\u001b[0m \u001b[0mnumpy\u001b[0m \u001b[0;32mas\u001b[0m \u001b[0mnp\u001b[0m\u001b[0;34m\u001b[0m\u001b[0;34m\u001b[0m\u001b[0m\n\u001b[1;32m      2\u001b[0m \u001b[0;34m\u001b[0m\u001b[0m\n\u001b[0;32m----> 3\u001b[0;31m \u001b[0mprediction\u001b[0m \u001b[0;34m=\u001b[0m \u001b[0mpredict\u001b[0m\u001b[0;34m(\u001b[0m\u001b[0mexp\u001b[0m\u001b[0;34m,\u001b[0m \u001b[0msetting\u001b[0m\u001b[0;34m,\u001b[0m \u001b[0;32mTrue\u001b[0m\u001b[0;34m)\u001b[0m\u001b[0;34m\u001b[0m\u001b[0;34m\u001b[0m\u001b[0m\n\u001b[0m\u001b[1;32m      4\u001b[0m \u001b[0;31m# 예측이 된다!!!\u001b[0m\u001b[0;34m\u001b[0m\u001b[0;34m\u001b[0m\u001b[0;34m\u001b[0m\u001b[0m\n",
            "\u001b[0;32m<ipython-input-359-b85826bed656>\u001b[0m in \u001b[0;36mpredict\u001b[0;34m(exp, setting, load)\u001b[0m\n\u001b[1;32m     26\u001b[0m         \u001b[0;32melse\u001b[0m\u001b[0;34m:\u001b[0m\u001b[0;34m\u001b[0m\u001b[0;34m\u001b[0m\u001b[0m\n\u001b[1;32m     27\u001b[0m             \u001b[0mdec_inp\u001b[0m \u001b[0;34m=\u001b[0m \u001b[0mtorch\u001b[0m\u001b[0;34m.\u001b[0m\u001b[0mzeros\u001b[0m\u001b[0;34m(\u001b[0m\u001b[0;34m[\u001b[0m\u001b[0mbatch_y\u001b[0m\u001b[0;34m.\u001b[0m\u001b[0mshape\u001b[0m\u001b[0;34m[\u001b[0m\u001b[0;36m0\u001b[0m\u001b[0;34m]\u001b[0m\u001b[0;34m,\u001b[0m \u001b[0mexp\u001b[0m\u001b[0;34m.\u001b[0m\u001b[0margs\u001b[0m\u001b[0;34m.\u001b[0m\u001b[0mpred_len\u001b[0m\u001b[0;34m,\u001b[0m \u001b[0mbatch_y\u001b[0m\u001b[0;34m.\u001b[0m\u001b[0mshape\u001b[0m\u001b[0;34m[\u001b[0m\u001b[0;34m-\u001b[0m\u001b[0;36m1\u001b[0m\u001b[0;34m]\u001b[0m\u001b[0;34m]\u001b[0m\u001b[0;34m)\u001b[0m\u001b[0;34m.\u001b[0m\u001b[0mfloat\u001b[0m\u001b[0;34m(\u001b[0m\u001b[0;34m)\u001b[0m\u001b[0;34m\u001b[0m\u001b[0;34m\u001b[0m\u001b[0m\n\u001b[0;32m---> 28\u001b[0;31m         \u001b[0mdec_inp\u001b[0m \u001b[0;34m=\u001b[0m \u001b[0mtorch\u001b[0m\u001b[0;34m.\u001b[0m\u001b[0mcat\u001b[0m\u001b[0;34m(\u001b[0m\u001b[0;34m[\u001b[0m\u001b[0mbatch_y\u001b[0m\u001b[0;34m[\u001b[0m\u001b[0;34m:\u001b[0m\u001b[0;34m,\u001b[0m\u001b[0;34m:\u001b[0m\u001b[0mexp\u001b[0m\u001b[0;34m.\u001b[0m\u001b[0margs\u001b[0m\u001b[0;34m.\u001b[0m\u001b[0mlabel_len\u001b[0m\u001b[0;34m,\u001b[0m\u001b[0;34m:\u001b[0m\u001b[0;34m]\u001b[0m\u001b[0;34m,\u001b[0m \u001b[0mdec_inp\u001b[0m\u001b[0;34m]\u001b[0m\u001b[0;34m,\u001b[0m \u001b[0mdim\u001b[0m\u001b[0;34m=\u001b[0m\u001b[0;36m1\u001b[0m\u001b[0;34m)\u001b[0m\u001b[0;34m.\u001b[0m\u001b[0mfloat\u001b[0m\u001b[0;34m(\u001b[0m\u001b[0;34m)\u001b[0m\u001b[0;34m.\u001b[0m\u001b[0mto\u001b[0m\u001b[0;34m(\u001b[0m\u001b[0mexp\u001b[0m\u001b[0;34m.\u001b[0m\u001b[0mdevice\u001b[0m\u001b[0;34m)\u001b[0m\u001b[0;34m\u001b[0m\u001b[0;34m\u001b[0m\u001b[0m\n\u001b[0m\u001b[1;32m     29\u001b[0m         \u001b[0;31m# encoder - decoder\u001b[0m\u001b[0;34m\u001b[0m\u001b[0;34m\u001b[0m\u001b[0;34m\u001b[0m\u001b[0m\n\u001b[1;32m     30\u001b[0m         \u001b[0;32mif\u001b[0m \u001b[0mexp\u001b[0m\u001b[0;34m.\u001b[0m\u001b[0margs\u001b[0m\u001b[0;34m.\u001b[0m\u001b[0muse_amp\u001b[0m\u001b[0;34m:\u001b[0m\u001b[0;34m\u001b[0m\u001b[0;34m\u001b[0m\u001b[0m\n",
            "\u001b[0;31mIndexError\u001b[0m: too many indices for tensor of dimension 2"
          ]
        }
      ]
    },
    {
      "cell_type": "code",
      "metadata": {
        "id": "fN77MeHkJdOE",
        "outputId": "efa3405d-a5b4-47dc-9b57-698a78e27d99",
        "colab": {
          "base_uri": "https://localhost:8080/"
        }
      },
      "source": [
        "prediction.shape, df.shape"
      ],
      "execution_count": 288,
      "outputs": [
        {
          "output_type": "execute_result",
          "data": {
            "text/plain": [
              "((1, 20, 1), (4024000, 8))"
            ]
          },
          "metadata": {},
          "execution_count": 288
        }
      ]
    },
    {
      "cell_type": "code",
      "metadata": {
        "id": "mufEMTdGWt9u",
        "outputId": "10da289e-8e41-4a5f-b1ea-24c86fc0f489",
        "colab": {
          "base_uri": "https://localhost:8080/"
        }
      },
      "source": [
        "prediction"
      ],
      "execution_count": 289,
      "outputs": [
        {
          "output_type": "execute_result",
          "data": {
            "text/plain": [
              "array([[[-0.7411149 ],\n",
              "        [-0.61463505],\n",
              "        [-0.13029379],\n",
              "        [ 0.23430398],\n",
              "        [ 0.3545316 ],\n",
              "        [ 0.33746737],\n",
              "        [ 0.4415161 ],\n",
              "        [ 0.6084668 ],\n",
              "        [ 0.67599124],\n",
              "        [ 0.72978467],\n",
              "        [ 0.78211653],\n",
              "        [ 0.8205833 ],\n",
              "        [ 0.8696713 ],\n",
              "        [ 0.9573817 ],\n",
              "        [ 1.0005546 ],\n",
              "        [ 1.0346898 ],\n",
              "        [ 1.0635122 ],\n",
              "        [ 1.0951058 ],\n",
              "        [ 1.1118268 ],\n",
              "        [ 1.13627   ]]], dtype=float32)"
            ]
          },
          "metadata": {},
          "execution_count": 289
        }
      ]
    },
    {
      "cell_type": "code",
      "metadata": {
        "id": "oaICqNMDJdGG",
        "outputId": "146e429c-1d2e-4572-b43c-879fbad82622",
        "colab": {
          "base_uri": "https://localhost:8080/",
          "height": 226
        }
      },
      "source": [
        "plt.figure()\n",
        "plt.plot(prediction[2,:,0], label='Prediction')\n",
        "plt.legend()\n",
        "plt.show()"
      ],
      "execution_count": 123,
      "outputs": [
        {
          "output_type": "error",
          "ename": "NameError",
          "evalue": "ignored",
          "traceback": [
            "\u001b[0;31m---------------------------------------------------------------------------\u001b[0m",
            "\u001b[0;31mNameError\u001b[0m                                 Traceback (most recent call last)",
            "\u001b[0;32m<ipython-input-123-b08c89de7d5c>\u001b[0m in \u001b[0;36m<module>\u001b[0;34m()\u001b[0m\n\u001b[0;32m----> 1\u001b[0;31m \u001b[0mplt\u001b[0m\u001b[0;34m.\u001b[0m\u001b[0mfigure\u001b[0m\u001b[0;34m(\u001b[0m\u001b[0;34m)\u001b[0m\u001b[0;34m\u001b[0m\u001b[0;34m\u001b[0m\u001b[0m\n\u001b[0m\u001b[1;32m      2\u001b[0m \u001b[0mplt\u001b[0m\u001b[0;34m.\u001b[0m\u001b[0mplot\u001b[0m\u001b[0;34m(\u001b[0m\u001b[0mprediction\u001b[0m\u001b[0;34m[\u001b[0m\u001b[0;36m2\u001b[0m\u001b[0;34m,\u001b[0m\u001b[0;34m:\u001b[0m\u001b[0;34m,\u001b[0m\u001b[0;36m0\u001b[0m\u001b[0;34m]\u001b[0m\u001b[0;34m,\u001b[0m \u001b[0mlabel\u001b[0m\u001b[0;34m=\u001b[0m\u001b[0;34m'Prediction'\u001b[0m\u001b[0;34m)\u001b[0m\u001b[0;34m\u001b[0m\u001b[0;34m\u001b[0m\u001b[0m\n\u001b[1;32m      3\u001b[0m \u001b[0mplt\u001b[0m\u001b[0;34m.\u001b[0m\u001b[0mlegend\u001b[0m\u001b[0;34m(\u001b[0m\u001b[0;34m)\u001b[0m\u001b[0;34m\u001b[0m\u001b[0;34m\u001b[0m\u001b[0m\n\u001b[1;32m      4\u001b[0m \u001b[0mplt\u001b[0m\u001b[0;34m.\u001b[0m\u001b[0mshow\u001b[0m\u001b[0;34m(\u001b[0m\u001b[0;34m)\u001b[0m\u001b[0;34m\u001b[0m\u001b[0;34m\u001b[0m\u001b[0m\n",
            "\u001b[0;31mNameError\u001b[0m: name 'plt' is not defined"
          ]
        }
      ]
    },
    {
      "cell_type": "code",
      "metadata": {
        "id": "2B64V_BvPI2h"
      },
      "source": [
        ""
      ],
      "execution_count": null,
      "outputs": []
    },
    {
      "cell_type": "code",
      "metadata": {
        "id": "Cm_qhwqNPIzK"
      },
      "source": [
        ""
      ],
      "execution_count": null,
      "outputs": []
    },
    {
      "cell_type": "code",
      "metadata": {
        "id": "-QFZxe6r-w-V",
        "outputId": "4fbdb1ce-3301-4479-c783-08adf0e872dd",
        "colab": {
          "base_uri": "https://localhost:8080/"
        }
      },
      "source": [
        "exp = Exp(args)"
      ],
      "execution_count": 166,
      "outputs": [
        {
          "output_type": "stream",
          "name": "stdout",
          "text": [
            "Use GPU: cuda:0\n"
          ]
        }
      ]
    },
    {
      "cell_type": "code",
      "metadata": {
        "id": "4MbRIYGY-w29",
        "outputId": "39a30551-3d4d-4228-ea1d-77f9ff5e3fc3",
        "colab": {
          "base_uri": "https://localhost:8080/"
        }
      },
      "source": [
        "exp.predict(setting, True)"
      ],
      "execution_count": 167,
      "outputs": [
        {
          "output_type": "stream",
          "name": "stdout",
          "text": [
            "pred 1\n"
          ]
        }
      ]
    },
    {
      "cell_type": "code",
      "metadata": {
        "id": "ugRQWPFL-ww4",
        "outputId": "036f03eb-7506-45f7-e065-ae5abad08bc6",
        "colab": {
          "base_uri": "https://localhost:8080/"
        }
      },
      "source": [
        "prediction = np.load('./results/'+setting+'/real_prediction.npy')\n",
        "\n",
        "prediction.shape"
      ],
      "execution_count": 168,
      "outputs": [
        {
          "output_type": "execute_result",
          "data": {
            "text/plain": [
              "(1, 20, 1)"
            ]
          },
          "metadata": {},
          "execution_count": 168
        }
      ]
    },
    {
      "cell_type": "code",
      "metadata": {
        "id": "Qtmh8BBq-55N",
        "outputId": "972e2206-7ac8-48f9-d255-da0cda2a1f3e",
        "colab": {
          "base_uri": "https://localhost:8080/",
          "height": 265
        }
      },
      "source": [
        "import matplotlib.pyplot as plt\n",
        "\n",
        "plt.figure()\n",
        "plt.plot(prediction[0,:,-1])\n",
        "plt.show()"
      ],
      "execution_count": 169,
      "outputs": [
        {
          "output_type": "display_data",
          "data": {
            "image/png": "[encoded data removed]",
            "text/plain": [
              "<Figure size 432x288 with 1 Axes>"
            ]
          },
          "metadata": {
            "needs_background": "light"
          }
        }
      ]
    }
  ]
}