{
  "nbformat": 4,
  "nbformat_minor": 0,
  "metadata": {
    "colab": {
      "name": "Informer.ipynb",
      "provenance": [],
      "collapsed_sections": [],
      "include_colab_link": true
    },
    "kernelspec": {
      "name": "python3",
      "display_name": "Python 3"
    },
    "accelerator": "GPU"
  },
  "cells": [
    {
      "cell_type": "markdown",
      "metadata": {
        "id": "view-in-github",
        "colab_type": "text"
      },
      "source": [
        "<a href=\"https://colab.research.google.com/github/K-107/exercise/blob/main/Informer.ipynb\" target=\"_parent\"><img src=\"https://colab.research.google.com/assets/colab-badge.svg\" alt=\"Open In Colab\"/></a>"
      ]
    },
    {
      "cell_type": "markdown",
      "metadata": {
        "id": "5IM6CZzW_CH0"
      },
      "source": [
        "# 인포머 훈련 및 예측"
      ]
    },
    {
      "cell_type": "markdown",
      "metadata": {
        "id": "kdaIHYx4_ECL"
      },
      "source": [
        "## Download code and dataset"
      ]
    },
    {
      "cell_type": "code",
      "metadata": {
        "colab": {
          "base_uri": "https://localhost:8080/"
        },
        "id": "SA_i2gbl-rn-",
        "outputId": "a55e21a1-b821-4324-e8be-aada524c89e0"
      },
      "source": [
        "!git clone https://github.com/zhouhaoyi/Informer2020.git\n",
        "!git clone https://github.com/zhouhaoyi/ETDataset.git\n",
        "!ls"
      ],
      "execution_count": 1,
      "outputs": [
        {
          "output_type": "stream",
          "name": "stdout",
          "text": [
            "Cloning into 'Informer2020'...\n",
            "remote: Enumerating objects: 553, done.\u001b[K\n",
            "remote: Counting objects: 100% (18/18), done.\u001b[K\n",
            "remote: Compressing objects: 100% (14/14), done.\u001b[K\n",
            "remote: Total 553 (delta 7), reused 13 (delta 4), pack-reused 535\u001b[K\n",
            "Receiving objects: 100% (553/553), 6.48 MiB | 11.83 MiB/s, done.\n",
            "Resolving deltas: 100% (313/313), done.\n",
            "Cloning into 'ETDataset'...\n",
            "remote: Enumerating objects: 187, done.\u001b[K\n",
            "remote: Counting objects: 100% (187/187), done.\u001b[K\n",
            "remote: Compressing objects: 100% (184/184), done.\u001b[K\n",
            "remote: Total 187 (delta 66), reused 13 (delta 2), pack-reused 0\u001b[K\n",
            "Receiving objects: 100% (187/187), 3.85 MiB | 13.11 MiB/s, done.\n",
            "Resolving deltas: 100% (66/66), done.\n",
            "ETDataset  Informer2020  sample_data\n"
          ]
        }
      ]
    },
    {
      "cell_type": "code",
      "metadata": {
        "id": "b5GFng7v7Eq0"
      },
      "source": [
        "import sys\n",
        "if not 'Informer2020' in sys.path:\n",
        "    sys.path += ['Informer2020']"
      ],
      "execution_count": 2,
      "outputs": []
    },
    {
      "cell_type": "code",
      "metadata": {
        "id": "YW9TS6jp_YXc"
      },
      "source": [
        "# !pip install -r ./Informer2020/requirements.txt"
      ],
      "execution_count": 3,
      "outputs": []
    },
    {
      "cell_type": "markdown",
      "metadata": {
        "id": "rIjZdN5e_SWe"
      },
      "source": [
        "## Experiments: Train and Test"
      ]
    },
    {
      "cell_type": "code",
      "metadata": {
        "id": "RPdt-Kwc_RRZ"
      },
      "source": [
        "from utils.tools import dotdict\n",
        "from exp.exp_informer import Exp_Informer\n",
        "import torch"
      ],
      "execution_count": 3,
      "outputs": []
    },
    {
      "cell_type": "code",
      "metadata": {
        "id": "6mx2dnwY9dWi"
      },
      "source": [
        "args = dotdict()\n",
        "\n",
        "args.model = 'informer' # model of experiment, options: [informer, informerstack, informerlight(TBD)]\n",
        "\n",
        "args.data = 'ETTh1' # data\n",
        "args.root_path = './ETDataset/ETT-small/' # root path of data file\n",
        "args.data_path = 'ETTh1.csv' # data file\n",
        "args.features = 'M' # forecasting task, options:[M, S, MS]; M:multivariate predict multivariate, S:univariate predict univariate, MS:multivariate predict univariate\n",
        "args.target = 'OT' # target feature in S or MS task\n",
        "args.freq = 'h' # freq for time features encoding, options:[s:secondly, t:minutely, h:hourly, d:daily, b:business days, w:weekly, m:monthly], you can also use more detailed freq like 15min or 3h\n",
        "args.checkpoints = './informer_checkpoints' # location of model checkpoints\n",
        "\n",
        "args.seq_len = 96 # input sequence length of Informer encoder\n",
        "args.label_len = 48 # start token length of Informer decoder\n",
        "args.pred_len = 24 # prediction sequence length\n",
        "# Informer decoder input: concat[start token series(label_len), zero padding series(pred_len)]\n",
        "\n",
        "args.enc_in = 7 # encoder input size\n",
        "args.dec_in = 7 # decoder input size\n",
        "args.c_out = 7 # output size\n",
        "args.factor = 5 # probsparse attn factor\n",
        "args.d_model = 512 # dimension of model\n",
        "args.n_heads = 8 # num of heads\n",
        "args.e_layers = 2 # num of encoder layers\n",
        "args.d_layers = 1 # num of decoder layers\n",
        "args.d_ff = 2048 # dimension of fcn in model\n",
        "args.dropout = 0.05 # dropout\n",
        "args.attn = 'prob' # attention used in encoder, options:[prob, full]\n",
        "args.embed = 'timeF' # time features encoding, options:[timeF, fixed, learned]\n",
        "args.activation = 'gelu' # activation\n",
        "args.do_predict= True # 이걸로 예측한다!\n",
        "args.distil = True # whether to use distilling in encoder\n",
        "args.output_attention = False # whether to output attention in ecoder\n",
        "args.mix = True\n",
        "args.padding = 0\n",
        "args.freq = 'h'\n",
        "\n",
        "args.batch_size = 32 \n",
        "args.learning_rate = 0.0001\n",
        "args.loss = 'mse'\n",
        "args.lradj = 'type1'\n",
        "args.use_amp = False # whether to use automatic mixed precision training\n",
        "\n",
        "args.num_workers = 0\n",
        "args.itr = 1\n",
        "args.train_epochs = 6\n",
        "args.patience = 3\n",
        "args.des = 'exp'\n",
        "args.inverse = True # 이걸로 standardscaler 되돌려 놓는다!\n",
        "\n",
        "args.use_gpu = True if torch.cuda.is_available() else False\n",
        "args.gpu = 0\n",
        "\n",
        "args.use_multi_gpu = False\n",
        "args.devices = '0,1,2,3'\n"
      ],
      "execution_count": 29,
      "outputs": []
    },
    {
      "cell_type": "code",
      "metadata": {
        "colab": {
          "base_uri": "https://localhost:8080/"
        },
        "id": "ywY-umrw-mHO",
        "outputId": "d6bf5757-0049-4c6b-b0cb-d84435e6d3f0"
      },
      "source": [
        "print('Args in experiment:')\n",
        "print(args)"
      ],
      "execution_count": 30,
      "outputs": [
        {
          "output_type": "stream",
          "name": "stdout",
          "text": [
            "Args in experiment:\n",
            "{'model': 'informer', 'data': 'ETTh1', 'root_path': './ETDataset/ETT-small/', 'data_path': 'ETTh1.csv', 'features': 'M', 'target': 'OT', 'freq': 'h', 'checkpoints': './informer_checkpoints', 'seq_len': 96, 'label_len': 48, 'pred_len': 24, 'enc_in': 7, 'dec_in': 7, 'c_out': 7, 'factor': 5, 'd_model': 512, 'n_heads': 8, 'e_layers': 2, 'd_layers': 1, 'd_ff': 2048, 'dropout': 0.05, 'attn': 'prob', 'embed': 'timeF', 'activation': 'gelu', 'do_predict': True, 'distil': True, 'output_attention': False, 'mix': True, 'padding': 0, 'batch_size': 32, 'learning_rate': 0.0001, 'loss': 'mse', 'lradj': 'type1', 'use_amp': False, 'num_workers': 0, 'itr': 1, 'train_epochs': 6, 'patience': 3, 'des': 'exp', 'inverse': True, 'use_gpu': True, 'gpu': 0, 'use_multi_gpu': False, 'devices': '0,1,2,3'}\n"
          ]
        }
      ]
    },
    {
      "cell_type": "code",
      "metadata": {
        "id": "KVHZhRB4-on9"
      },
      "source": [
        "Exp = Exp_Informer"
      ],
      "execution_count": 7,
      "outputs": []
    },
    {
      "cell_type": "code",
      "metadata": {
        "colab": {
          "base_uri": "https://localhost:8080/"
        },
        "id": "928tzaA2AA2g",
        "outputId": "fc9cf5d5-d517-465a-9232-8c90992e75ee"
      },
      "source": [
        "for ii in range(args.itr):\n",
        "    # setting record of experiments\n",
        "    setting = '{}_{}_ft{}_sl{}_ll{}_pl{}_dm{}_nh{}_el{}_dl{}_df{}_at{}_fc{}_eb{}_dt{}_mx{}_{}_{}'.format(args.model, args.data, args.features, \n",
        "                args.seq_len, args.label_len, args.pred_len,\n",
        "                args.d_model, args.n_heads, args.e_layers, args.d_layers, args.d_ff, args.attn, args.factor, args.embed, args.distil, args.mix, args.des, ii)\n",
        "\n",
        "    # set experiments\n",
        "    exp = Exp(args)\n",
        "    \n",
        "    # train\n",
        "    print('>>>>>>>start training : {}>>>>>>>>>>>>>>>>>>>>>>>>>>'.format(setting))\n",
        "    exp.train(setting)\n",
        "    \n",
        "    # test\n",
        "    print('>>>>>>>testing : {}<<<<<<<<<<<<<<<<<<<<<<<<<<<<<<<<<'.format(setting))\n",
        "    exp.test(setting)\n",
        "\n",
        "    torch.cuda.empty_cache()"
      ],
      "execution_count": 8,
      "outputs": [
        {
          "output_type": "stream",
          "name": "stdout",
          "text": [
            "Use GPU: cuda:0\n",
            ">>>>>>>start training : informer_ETTh1_ftM_sl96_ll48_pl24_dm512_nh8_el2_dl1_df2048_atprob_fc5_ebtimeF_dtTrue_mxTrue_exp_0>>>>>>>>>>>>>>>>>>>>>>>>>>\n",
            "train 8521\n",
            "val 2857\n",
            "test 2857\n",
            "\titers: 100, epoch: 1 | loss: 9.2217016\n",
            "\tspeed: 0.2648s/iter; left time: 396.4015s\n",
            "\titers: 200, epoch: 1 | loss: 5.8806410\n",
            "\tspeed: 0.2644s/iter; left time: 369.3255s\n",
            "Epoch: 1 cost time: 70.67933773994446\n",
            "Epoch: 1, Steps: 266 | Train Loss: 8.0035959 Vali Loss: 10.3067389 Test Loss: 12.8453894\n",
            "Validation loss decreased (inf --> 10.306739).  Saving model ...\n",
            "Updating learning rate to 0.0001\n",
            "\titers: 100, epoch: 2 | loss: 4.5995007\n",
            "\tspeed: 0.5642s/iter; left time: 694.5547s\n",
            "\titers: 200, epoch: 2 | loss: 5.1695399\n",
            "\tspeed: 0.2687s/iter; left time: 303.8931s\n",
            "Epoch: 2 cost time: 71.40984225273132\n",
            "Epoch: 2, Steps: 266 | Train Loss: 4.3142382 Vali Loss: 10.2453651 Test Loss: 11.1755428\n",
            "Validation loss decreased (10.306739 --> 10.245365).  Saving model ...\n",
            "Updating learning rate to 5e-05\n",
            "\titers: 100, epoch: 3 | loss: 3.4706233\n",
            "\tspeed: 0.5674s/iter; left time: 547.4928s\n",
            "\titers: 200, epoch: 3 | loss: 3.9264441\n",
            "\tspeed: 0.2687s/iter; left time: 232.4278s\n",
            "Epoch: 3 cost time: 71.43711161613464\n",
            "Epoch: 3, Steps: 266 | Train Loss: 3.1577368 Vali Loss: 10.8259888 Test Loss: 11.6306152\n",
            "EarlyStopping counter: 1 out of 3\n",
            "Updating learning rate to 2.5e-05\n",
            "\titers: 100, epoch: 4 | loss: 2.7997108\n",
            "\tspeed: 0.5658s/iter; left time: 395.4751s\n",
            "\titers: 200, epoch: 4 | loss: 2.6604362\n",
            "\tspeed: 0.2690s/iter; left time: 161.1535s\n",
            "Epoch: 4 cost time: 71.52019810676575\n",
            "Epoch: 4, Steps: 266 | Train Loss: 2.6812419 Vali Loss: 10.6582851 Test Loss: 12.4851036\n",
            "EarlyStopping counter: 2 out of 3\n",
            "Updating learning rate to 1.25e-05\n",
            "\titers: 100, epoch: 5 | loss: 2.5524170\n",
            "\tspeed: 0.5664s/iter; left time: 245.2334s\n",
            "\titers: 200, epoch: 5 | loss: 2.2191620\n",
            "\tspeed: 0.2689s/iter; left time: 89.5507s\n",
            "Epoch: 5 cost time: 71.51180577278137\n",
            "Epoch: 5, Steps: 266 | Train Loss: 2.4486791 Vali Loss: 11.1660910 Test Loss: 14.1914024\n",
            "EarlyStopping counter: 3 out of 3\n",
            "Early stopping\n",
            ">>>>>>>testing : informer_ETTh1_ftM_sl96_ll48_pl24_dm512_nh8_el2_dl1_df2048_atprob_fc5_ebtimeF_dtTrue_mxTrue_exp_0<<<<<<<<<<<<<<<<<<<<<<<<<<<<<<<<<\n",
            "test 2857\n",
            "test shape: (89, 32, 24, 7) (89, 32, 24, 7)\n",
            "test shape: (2848, 24, 7) (2848, 24, 7)\n",
            "mse:11.19274616241455, mae:2.0061850547790527\n"
          ]
        }
      ]
    },
    {
      "cell_type": "markdown",
      "metadata": {
        "id": "CDHF-HerAE3u"
      },
      "source": [
        "## Prediction"
      ]
    },
    {
      "cell_type": "markdown",
      "metadata": {
        "id": "5yFuVkTV30_j"
      },
      "source": [
        "### More details about Prediction - prediction function"
      ]
    },
    {
      "cell_type": "code",
      "metadata": {
        "id": "dCz8wvhFr8NV"
      },
      "source": [
        ""
      ],
      "execution_count": null,
      "outputs": []
    },
    {
      "cell_type": "code",
      "metadata": {
        "id": "UmmpihvUr8LA"
      },
      "source": [
        ""
      ],
      "execution_count": null,
      "outputs": []
    },
    {
      "cell_type": "code",
      "metadata": {
        "id": "61kWPu35r8I5"
      },
      "source": [
        ""
      ],
      "execution_count": null,
      "outputs": []
    },
    {
      "cell_type": "code",
      "metadata": {
        "id": "vpMyllO9r8GP"
      },
      "source": [
        ""
      ],
      "execution_count": null,
      "outputs": []
    },
    {
      "cell_type": "code",
      "metadata": {
        "id": "VcADRCgjr8Dq",
        "outputId": "0818ce07-1f4f-49bd-e846-9155eb2ec590",
        "colab": {
          "base_uri": "https://localhost:8080/",
          "height": 265
        }
      },
      "source": [
        "# import matplotlib.pyplot as plt\n",
        "\n",
        "# plt.figure()\n",
        "# plt.plot(prediction[0,:,-1])\n",
        "# plt.show()"
      ],
      "execution_count": 52,
      "outputs": [
        {
          "output_type": "display_data",
          "data": {
            "image/png": "[encoded data removed]",
            "text/plain": [
              "<Figure size 432x288 with 1 Axes>"
            ]
          },
          "metadata": {
            "needs_background": "light"
          }
        }
      ]
    },
    {
      "cell_type": "code",
      "metadata": {
        "colab": {
          "base_uri": "https://localhost:8080/",
          "height": 269
        },
        "id": "NwtZmQC71uc8",
        "outputId": "eec9d116-f122-42d9-8e02-c893ff764db0"
      },
      "source": [
        "# import matplotlib.pyplot as plt\n",
        "\n",
        "# plt.figure()\n",
        "# plt.plot(prediction[0,:,-1])\n",
        "# plt.show()"
      ],
      "execution_count": null,
      "outputs": [
        {
          "output_type": "display_data",
          "data": {
            "image/png": "[encoded data removed]",
            "text/plain": [
              "<Figure size 432x288 with 1 Axes>"
            ]
          },
          "metadata": {
            "tags": [],
            "needs_background": "light"
          }
        }
      ]
    },
    {
      "cell_type": "markdown",
      "metadata": {
        "id": "EnePVyrW4I14"
      },
      "source": [
        "### More details about Prediction - prediction dataset\n",
        "\n",
        "You can give a `root_path` and `data_path` of the data you want to forecast, and set `seq_len`, `label_len`, `pred_len` and other arguments as other Dataset. The difference is that you can set a more detailed freq such as `15min` or `3h` to generate the timestamp of prediction series.\n",
        "\n",
        "`Dataset_Pred` only has one sample (including `encoder_input: [1, seq_len, dim]`, `decoder_token: [1, label_len, dim]`, `encoder_input_timestamp: [1, seq_len, date_dim]`, `decoder_input_timstamp: [1, label_len+pred_len, date_dim]`). It will intercept the last sequence of the given data (seq_len data) to forecast the unseen future sequence (pred_len data)."
      ]
    },
    {
      "cell_type": "markdown",
      "metadata": {
        "id": "Zv39cZmLnSJ_"
      },
      "source": [
        "## Custom Data\n",
        "\n",
        "Custom data (xxx.csv) has to include at least 2 features: `date`(format: `YYYY-MM-DD hh:mm:ss`) and `target feature`.\n",
        "\n",
        "\n",
        "# args.pred_len = 24 # prediction sequence length를 보면\n",
        "\n",
        "# 24개만 예측가능하므로 ETTh2.csv 마지막 24개를 떼서 테스트 해보자."
      ]
    },
    {
      "cell_type": "code",
      "metadata": {
        "id": "mL2TvP5snIZt"
      },
      "source": [
        "from data.data_loader import Dataset_Pred\n",
        "from torch.utils.data import DataLoader\n",
        "import pandas as pd\n",
        "import os"
      ],
      "execution_count": 10,
      "outputs": []
    },
    {
      "cell_type": "code",
      "metadata": {
        "id": "_Bw35_jqnIXJ"
      },
      "source": [
        "# custom data: xxx.csv\n",
        "# data features: ['date', ...(other features), target feature]\n",
        "\n",
        "# we take ETTh2 as an example\n",
        "args.data = 'custom' # data\n",
        "args.root_path = './ETDataset/ETT-small/'\n",
        "args.data_path = 'ETTh2.csv'\n",
        "\n",
        "df = pd.read_csv(os.path.join(args.root_path, args.data_path))"
      ],
      "execution_count": 12,
      "outputs": []
    },
    {
      "cell_type": "code",
      "metadata": {
        "id": "k8uL7ebsnIUf",
        "outputId": "ef083361-bc93-4436-90a6-eb5721fb728a",
        "colab": {
          "base_uri": "https://localhost:8080/",
          "height": 417
        }
      },
      "source": [
        "df"
      ],
      "execution_count": 15,
      "outputs": [
        {
          "output_type": "execute_result",
          "data": {
            "text/html": [
              "<div>\n",
              "<style scoped>\n",
              "    .dataframe tbody tr th:only-of-type {\n",
              "        vertical-align: middle;\n",
              "    }\n",
              "\n",
              "    .dataframe tbody tr th {\n",
              "        vertical-align: top;\n",
              "    }\n",
              "\n",
              "    .dataframe thead th {\n",
              "        text-align: right;\n",
              "    }\n",
              "</style>\n",
              "<table border=\"1\" class=\"dataframe\">\n",
              "  <thead>\n",
              "    <tr style=\"text-align: right;\">\n",
              "      <th></th>\n",
              "      <th>date</th>\n",
              "      <th>HUFL</th>\n",
              "      <th>HULL</th>\n",
              "      <th>MUFL</th>\n",
              "      <th>MULL</th>\n",
              "      <th>LUFL</th>\n",
              "      <th>LULL</th>\n",
              "      <th>OT</th>\n",
              "    </tr>\n",
              "  </thead>\n",
              "  <tbody>\n",
              "    <tr>\n",
              "      <th>0</th>\n",
              "      <td>2016-07-01 00:00:00</td>\n",
              "      <td>41.130001</td>\n",
              "      <td>12.481</td>\n",
              "      <td>36.535999</td>\n",
              "      <td>9.355</td>\n",
              "      <td>4.424</td>\n",
              "      <td>1.311</td>\n",
              "      <td>38.661999</td>\n",
              "    </tr>\n",
              "    <tr>\n",
              "      <th>1</th>\n",
              "      <td>2016-07-01 01:00:00</td>\n",
              "      <td>37.528000</td>\n",
              "      <td>10.136</td>\n",
              "      <td>33.936001</td>\n",
              "      <td>7.532</td>\n",
              "      <td>4.435</td>\n",
              "      <td>1.215</td>\n",
              "      <td>37.124001</td>\n",
              "    </tr>\n",
              "    <tr>\n",
              "      <th>2</th>\n",
              "      <td>2016-07-01 02:00:00</td>\n",
              "      <td>37.946999</td>\n",
              "      <td>11.309</td>\n",
              "      <td>35.330002</td>\n",
              "      <td>9.007</td>\n",
              "      <td>2.100</td>\n",
              "      <td>0.000</td>\n",
              "      <td>36.465000</td>\n",
              "    </tr>\n",
              "    <tr>\n",
              "      <th>3</th>\n",
              "      <td>2016-07-01 03:00:00</td>\n",
              "      <td>38.952000</td>\n",
              "      <td>11.895</td>\n",
              "      <td>35.543999</td>\n",
              "      <td>9.436</td>\n",
              "      <td>3.380</td>\n",
              "      <td>1.215</td>\n",
              "      <td>33.608501</td>\n",
              "    </tr>\n",
              "    <tr>\n",
              "      <th>4</th>\n",
              "      <td>2016-07-01 04:00:00</td>\n",
              "      <td>38.113998</td>\n",
              "      <td>11.476</td>\n",
              "      <td>35.410000</td>\n",
              "      <td>9.623</td>\n",
              "      <td>2.036</td>\n",
              "      <td>0.000</td>\n",
              "      <td>31.850500</td>\n",
              "    </tr>\n",
              "    <tr>\n",
              "      <th>...</th>\n",
              "      <td>...</td>\n",
              "      <td>...</td>\n",
              "      <td>...</td>\n",
              "      <td>...</td>\n",
              "      <td>...</td>\n",
              "      <td>...</td>\n",
              "      <td>...</td>\n",
              "      <td>...</td>\n",
              "    </tr>\n",
              "    <tr>\n",
              "      <th>17415</th>\n",
              "      <td>2018-06-26 15:00:00</td>\n",
              "      <td>39.202999</td>\n",
              "      <td>11.392</td>\n",
              "      <td>49.644001</td>\n",
              "      <td>11.929</td>\n",
              "      <td>-10.331</td>\n",
              "      <td>-1.258</td>\n",
              "      <td>47.084999</td>\n",
              "    </tr>\n",
              "    <tr>\n",
              "      <th>17416</th>\n",
              "      <td>2018-06-26 16:00:00</td>\n",
              "      <td>38.113998</td>\n",
              "      <td>10.974</td>\n",
              "      <td>48.759998</td>\n",
              "      <td>11.366</td>\n",
              "      <td>-10.331</td>\n",
              "      <td>-1.290</td>\n",
              "      <td>48.183498</td>\n",
              "    </tr>\n",
              "    <tr>\n",
              "      <th>17417</th>\n",
              "      <td>2018-06-26 17:00:00</td>\n",
              "      <td>39.622002</td>\n",
              "      <td>10.974</td>\n",
              "      <td>50.609001</td>\n",
              "      <td>11.661</td>\n",
              "      <td>-11.557</td>\n",
              "      <td>-1.418</td>\n",
              "      <td>48.183498</td>\n",
              "    </tr>\n",
              "    <tr>\n",
              "      <th>17418</th>\n",
              "      <td>2018-06-26 18:00:00</td>\n",
              "      <td>43.643002</td>\n",
              "      <td>13.403</td>\n",
              "      <td>54.737000</td>\n",
              "      <td>13.778</td>\n",
              "      <td>-10.299</td>\n",
              "      <td>-1.418</td>\n",
              "      <td>46.865501</td>\n",
              "    </tr>\n",
              "    <tr>\n",
              "      <th>17419</th>\n",
              "      <td>2018-06-26 19:00:00</td>\n",
              "      <td>38.868000</td>\n",
              "      <td>10.052</td>\n",
              "      <td>49.859001</td>\n",
              "      <td>10.669</td>\n",
              "      <td>-11.525</td>\n",
              "      <td>-1.418</td>\n",
              "      <td>45.986500</td>\n",
              "    </tr>\n",
              "  </tbody>\n",
              "</table>\n",
              "<p>17420 rows × 8 columns</p>\n",
              "</div>"
            ],
            "text/plain": [
              "                      date       HUFL    HULL  ...    LUFL   LULL         OT\n",
              "0      2016-07-01 00:00:00  41.130001  12.481  ...   4.424  1.311  38.661999\n",
              "1      2016-07-01 01:00:00  37.528000  10.136  ...   4.435  1.215  37.124001\n",
              "2      2016-07-01 02:00:00  37.946999  11.309  ...   2.100  0.000  36.465000\n",
              "3      2016-07-01 03:00:00  38.952000  11.895  ...   3.380  1.215  33.608501\n",
              "4      2016-07-01 04:00:00  38.113998  11.476  ...   2.036  0.000  31.850500\n",
              "...                    ...        ...     ...  ...     ...    ...        ...\n",
              "17415  2018-06-26 15:00:00  39.202999  11.392  ... -10.331 -1.258  47.084999\n",
              "17416  2018-06-26 16:00:00  38.113998  10.974  ... -10.331 -1.290  48.183498\n",
              "17417  2018-06-26 17:00:00  39.622002  10.974  ... -11.557 -1.418  48.183498\n",
              "17418  2018-06-26 18:00:00  43.643002  13.403  ... -10.299 -1.418  46.865501\n",
              "17419  2018-06-26 19:00:00  38.868000  10.052  ... -11.525 -1.418  45.986500\n",
              "\n",
              "[17420 rows x 8 columns]"
            ]
          },
          "metadata": {},
          "execution_count": 15
        }
      ]
    },
    {
      "cell_type": "code",
      "metadata": {
        "id": "4hjOpAiPpI3C",
        "outputId": "3e3ab765-8401-44ff-90f2-28aaed294b1e",
        "colab": {
          "base_uri": "https://localhost:8080/"
        }
      },
      "source": [
        "!pwd"
      ],
      "execution_count": 13,
      "outputs": [
        {
          "output_type": "stream",
          "name": "stdout",
          "text": [
            "/content\n"
          ]
        }
      ]
    },
    {
      "cell_type": "markdown",
      "metadata": {
        "id": "mTjtGpgffHXs"
      },
      "source": [
        "# ETTh2.csv에서 맨 뒤 24개만 뺀 ETTh2_train"
      ]
    },
    {
      "cell_type": "code",
      "metadata": {
        "id": "axARHlKXo2jD",
        "outputId": "b8e8cd86-52fa-43f1-a24a-15146056a9ba",
        "colab": {
          "base_uri": "https://localhost:8080/",
          "height": 203
        }
      },
      "source": [
        "ETTh2_train = df[:-24]\n",
        "ETTh2_train.tail()"
      ],
      "execution_count": 53,
      "outputs": [
        {
          "output_type": "execute_result",
          "data": {
            "text/html": [
              "<div>\n",
              "<style scoped>\n",
              "    .dataframe tbody tr th:only-of-type {\n",
              "        vertical-align: middle;\n",
              "    }\n",
              "\n",
              "    .dataframe tbody tr th {\n",
              "        vertical-align: top;\n",
              "    }\n",
              "\n",
              "    .dataframe thead th {\n",
              "        text-align: right;\n",
              "    }\n",
              "</style>\n",
              "<table border=\"1\" class=\"dataframe\">\n",
              "  <thead>\n",
              "    <tr style=\"text-align: right;\">\n",
              "      <th></th>\n",
              "      <th>date</th>\n",
              "      <th>HUFL</th>\n",
              "      <th>HULL</th>\n",
              "      <th>MUFL</th>\n",
              "      <th>MULL</th>\n",
              "      <th>LUFL</th>\n",
              "      <th>LULL</th>\n",
              "      <th>OT</th>\n",
              "    </tr>\n",
              "  </thead>\n",
              "  <tbody>\n",
              "    <tr>\n",
              "      <th>17391</th>\n",
              "      <td>2018-06-25 15:00:00</td>\n",
              "      <td>36.104000</td>\n",
              "      <td>17.004999</td>\n",
              "      <td>45.917999</td>\n",
              "      <td>11.661</td>\n",
              "      <td>-9.542</td>\n",
              "      <td>-2.463</td>\n",
              "      <td>50.625000</td>\n",
              "    </tr>\n",
              "    <tr>\n",
              "      <th>17392</th>\n",
              "      <td>2018-06-25 16:00:00</td>\n",
              "      <td>40.041000</td>\n",
              "      <td>10.471000</td>\n",
              "      <td>51.252998</td>\n",
              "      <td>11.366</td>\n",
              "      <td>-10.757</td>\n",
              "      <td>-1.844</td>\n",
              "      <td>49.745998</td>\n",
              "    </tr>\n",
              "    <tr>\n",
              "      <th>17393</th>\n",
              "      <td>2018-06-25 17:00:00</td>\n",
              "      <td>39.622002</td>\n",
              "      <td>10.722000</td>\n",
              "      <td>50.931000</td>\n",
              "      <td>11.124</td>\n",
              "      <td>-10.757</td>\n",
              "      <td>-1.844</td>\n",
              "      <td>48.867001</td>\n",
              "    </tr>\n",
              "    <tr>\n",
              "      <th>17394</th>\n",
              "      <td>2018-06-25 18:00:00</td>\n",
              "      <td>39.202999</td>\n",
              "      <td>9.801000</td>\n",
              "      <td>49.055000</td>\n",
              "      <td>10.079</td>\n",
              "      <td>-9.499</td>\n",
              "      <td>-1.290</td>\n",
              "      <td>47.988499</td>\n",
              "    </tr>\n",
              "    <tr>\n",
              "      <th>17395</th>\n",
              "      <td>2018-06-25 19:00:00</td>\n",
              "      <td>37.778999</td>\n",
              "      <td>8.796000</td>\n",
              "      <td>47.125000</td>\n",
              "      <td>8.953</td>\n",
              "      <td>-9.499</td>\n",
              "      <td>-1.535</td>\n",
              "      <td>46.450001</td>\n",
              "    </tr>\n",
              "  </tbody>\n",
              "</table>\n",
              "</div>"
            ],
            "text/plain": [
              "                      date       HUFL       HULL  ...    LUFL   LULL         OT\n",
              "17391  2018-06-25 15:00:00  36.104000  17.004999  ...  -9.542 -2.463  50.625000\n",
              "17392  2018-06-25 16:00:00  40.041000  10.471000  ... -10.757 -1.844  49.745998\n",
              "17393  2018-06-25 17:00:00  39.622002  10.722000  ... -10.757 -1.844  48.867001\n",
              "17394  2018-06-25 18:00:00  39.202999   9.801000  ...  -9.499 -1.290  47.988499\n",
              "17395  2018-06-25 19:00:00  37.778999   8.796000  ...  -9.499 -1.535  46.450001\n",
              "\n",
              "[5 rows x 8 columns]"
            ]
          },
          "metadata": {},
          "execution_count": 53
        }
      ]
    },
    {
      "cell_type": "code",
      "metadata": {
        "id": "p8fyqtfZq_0e",
        "outputId": "5c93d19d-92e4-439d-e1cd-21f5a434c35c",
        "colab": {
          "base_uri": "https://localhost:8080/",
          "height": 203
        }
      },
      "source": [
        "save_path = '/content/ETDataset/ETT-small/'\n",
        "ETTh2_train.to_csv(save_path + 'ETTh2_train.csv', index=False)\n",
        "pd.read_csv(save_path + 'ETTh2_train.csv').tail()"
      ],
      "execution_count": 54,
      "outputs": [
        {
          "output_type": "execute_result",
          "data": {
            "text/html": [
              "<div>\n",
              "<style scoped>\n",
              "    .dataframe tbody tr th:only-of-type {\n",
              "        vertical-align: middle;\n",
              "    }\n",
              "\n",
              "    .dataframe tbody tr th {\n",
              "        vertical-align: top;\n",
              "    }\n",
              "\n",
              "    .dataframe thead th {\n",
              "        text-align: right;\n",
              "    }\n",
              "</style>\n",
              "<table border=\"1\" class=\"dataframe\">\n",
              "  <thead>\n",
              "    <tr style=\"text-align: right;\">\n",
              "      <th></th>\n",
              "      <th>date</th>\n",
              "      <th>HUFL</th>\n",
              "      <th>HULL</th>\n",
              "      <th>MUFL</th>\n",
              "      <th>MULL</th>\n",
              "      <th>LUFL</th>\n",
              "      <th>LULL</th>\n",
              "      <th>OT</th>\n",
              "    </tr>\n",
              "  </thead>\n",
              "  <tbody>\n",
              "    <tr>\n",
              "      <th>17391</th>\n",
              "      <td>2018-06-25 15:00:00</td>\n",
              "      <td>36.104000</td>\n",
              "      <td>17.004999</td>\n",
              "      <td>45.917999</td>\n",
              "      <td>11.661</td>\n",
              "      <td>-9.542</td>\n",
              "      <td>-2.463</td>\n",
              "      <td>50.625000</td>\n",
              "    </tr>\n",
              "    <tr>\n",
              "      <th>17392</th>\n",
              "      <td>2018-06-25 16:00:00</td>\n",
              "      <td>40.041000</td>\n",
              "      <td>10.471000</td>\n",
              "      <td>51.252998</td>\n",
              "      <td>11.366</td>\n",
              "      <td>-10.757</td>\n",
              "      <td>-1.844</td>\n",
              "      <td>49.745998</td>\n",
              "    </tr>\n",
              "    <tr>\n",
              "      <th>17393</th>\n",
              "      <td>2018-06-25 17:00:00</td>\n",
              "      <td>39.622002</td>\n",
              "      <td>10.722000</td>\n",
              "      <td>50.931000</td>\n",
              "      <td>11.124</td>\n",
              "      <td>-10.757</td>\n",
              "      <td>-1.844</td>\n",
              "      <td>48.867001</td>\n",
              "    </tr>\n",
              "    <tr>\n",
              "      <th>17394</th>\n",
              "      <td>2018-06-25 18:00:00</td>\n",
              "      <td>39.202999</td>\n",
              "      <td>9.801000</td>\n",
              "      <td>49.055000</td>\n",
              "      <td>10.079</td>\n",
              "      <td>-9.499</td>\n",
              "      <td>-1.290</td>\n",
              "      <td>47.988499</td>\n",
              "    </tr>\n",
              "    <tr>\n",
              "      <th>17395</th>\n",
              "      <td>2018-06-25 19:00:00</td>\n",
              "      <td>37.778999</td>\n",
              "      <td>8.796000</td>\n",
              "      <td>47.125000</td>\n",
              "      <td>8.953</td>\n",
              "      <td>-9.499</td>\n",
              "      <td>-1.535</td>\n",
              "      <td>46.450001</td>\n",
              "    </tr>\n",
              "  </tbody>\n",
              "</table>\n",
              "</div>"
            ],
            "text/plain": [
              "                      date       HUFL       HULL  ...    LUFL   LULL         OT\n",
              "17391  2018-06-25 15:00:00  36.104000  17.004999  ...  -9.542 -2.463  50.625000\n",
              "17392  2018-06-25 16:00:00  40.041000  10.471000  ... -10.757 -1.844  49.745998\n",
              "17393  2018-06-25 17:00:00  39.622002  10.722000  ... -10.757 -1.844  48.867001\n",
              "17394  2018-06-25 18:00:00  39.202999   9.801000  ...  -9.499 -1.290  47.988499\n",
              "17395  2018-06-25 19:00:00  37.778999   8.796000  ...  -9.499 -1.535  46.450001\n",
              "\n",
              "[5 rows x 8 columns]"
            ]
          },
          "metadata": {},
          "execution_count": 54
        }
      ]
    },
    {
      "cell_type": "markdown",
      "metadata": {
        "id": "sWOL07YjfPfU"
      },
      "source": [
        "# ETTh2.csv에서 맨 뒤 24개만 뺀 ETTh2_train에서 뒤에서 96개만으로 만든 ETTh2_train_96.csv\n",
        "\n",
        "## 반드시 args.seq_len = 96 만큼의 데이터가 있어야한다!"
      ]
    },
    {
      "cell_type": "code",
      "metadata": {
        "id": "DuOvq4jIo67n",
        "outputId": "74e0cf8d-777a-455a-c83a-02efa9bb9722",
        "colab": {
          "base_uri": "https://localhost:8080/",
          "height": 417
        }
      },
      "source": [
        "ETTh2_train_96 = pd.read_csv(save_path + 'ETTh2_train.csv')[-96:]\n",
        "ETTh2_train_96"
      ],
      "execution_count": 81,
      "outputs": [
        {
          "output_type": "execute_result",
          "data": {
            "text/html": [
              "<div>\n",
              "<style scoped>\n",
              "    .dataframe tbody tr th:only-of-type {\n",
              "        vertical-align: middle;\n",
              "    }\n",
              "\n",
              "    .dataframe tbody tr th {\n",
              "        vertical-align: top;\n",
              "    }\n",
              "\n",
              "    .dataframe thead th {\n",
              "        text-align: right;\n",
              "    }\n",
              "</style>\n",
              "<table border=\"1\" class=\"dataframe\">\n",
              "  <thead>\n",
              "    <tr style=\"text-align: right;\">\n",
              "      <th></th>\n",
              "      <th>date</th>\n",
              "      <th>HUFL</th>\n",
              "      <th>HULL</th>\n",
              "      <th>MUFL</th>\n",
              "      <th>MULL</th>\n",
              "      <th>LUFL</th>\n",
              "      <th>LULL</th>\n",
              "      <th>OT</th>\n",
              "    </tr>\n",
              "  </thead>\n",
              "  <tbody>\n",
              "    <tr>\n",
              "      <th>17300</th>\n",
              "      <td>2018-06-21 20:00:00</td>\n",
              "      <td>37.109001</td>\n",
              "      <td>11.309000</td>\n",
              "      <td>47.070999</td>\n",
              "      <td>11.366</td>\n",
              "      <td>-9.414</td>\n",
              "      <td>-1.215</td>\n",
              "      <td>38.320499</td>\n",
              "    </tr>\n",
              "    <tr>\n",
              "      <th>17301</th>\n",
              "      <td>2018-06-21 21:00:00</td>\n",
              "      <td>38.533001</td>\n",
              "      <td>11.141000</td>\n",
              "      <td>47.714001</td>\n",
              "      <td>11.339</td>\n",
              "      <td>-9.339</td>\n",
              "      <td>-1.311</td>\n",
              "      <td>37.661499</td>\n",
              "    </tr>\n",
              "    <tr>\n",
              "      <th>17302</th>\n",
              "      <td>2018-06-21 22:00:00</td>\n",
              "      <td>35.014999</td>\n",
              "      <td>10.639000</td>\n",
              "      <td>44.417000</td>\n",
              "      <td>10.803</td>\n",
              "      <td>-9.339</td>\n",
              "      <td>-1.237</td>\n",
              "      <td>37.001999</td>\n",
              "    </tr>\n",
              "    <tr>\n",
              "      <th>17303</th>\n",
              "      <td>2018-06-21 23:00:00</td>\n",
              "      <td>35.433998</td>\n",
              "      <td>10.974000</td>\n",
              "      <td>44.632000</td>\n",
              "      <td>11.312</td>\n",
              "      <td>-9.382</td>\n",
              "      <td>-1.269</td>\n",
              "      <td>36.782501</td>\n",
              "    </tr>\n",
              "    <tr>\n",
              "      <th>17304</th>\n",
              "      <td>2018-06-22 00:00:00</td>\n",
              "      <td>32.669998</td>\n",
              "      <td>11.141000</td>\n",
              "      <td>42.005001</td>\n",
              "      <td>10.964</td>\n",
              "      <td>-9.243</td>\n",
              "      <td>0.000</td>\n",
              "      <td>36.562500</td>\n",
              "    </tr>\n",
              "    <tr>\n",
              "      <th>...</th>\n",
              "      <td>...</td>\n",
              "      <td>...</td>\n",
              "      <td>...</td>\n",
              "      <td>...</td>\n",
              "      <td>...</td>\n",
              "      <td>...</td>\n",
              "      <td>...</td>\n",
              "      <td>...</td>\n",
              "    </tr>\n",
              "    <tr>\n",
              "      <th>17391</th>\n",
              "      <td>2018-06-25 15:00:00</td>\n",
              "      <td>36.104000</td>\n",
              "      <td>17.004999</td>\n",
              "      <td>45.917999</td>\n",
              "      <td>11.661</td>\n",
              "      <td>-9.542</td>\n",
              "      <td>-2.463</td>\n",
              "      <td>50.625000</td>\n",
              "    </tr>\n",
              "    <tr>\n",
              "      <th>17392</th>\n",
              "      <td>2018-06-25 16:00:00</td>\n",
              "      <td>40.041000</td>\n",
              "      <td>10.471000</td>\n",
              "      <td>51.252998</td>\n",
              "      <td>11.366</td>\n",
              "      <td>-10.757</td>\n",
              "      <td>-1.844</td>\n",
              "      <td>49.745998</td>\n",
              "    </tr>\n",
              "    <tr>\n",
              "      <th>17393</th>\n",
              "      <td>2018-06-25 17:00:00</td>\n",
              "      <td>39.622002</td>\n",
              "      <td>10.722000</td>\n",
              "      <td>50.931000</td>\n",
              "      <td>11.124</td>\n",
              "      <td>-10.757</td>\n",
              "      <td>-1.844</td>\n",
              "      <td>48.867001</td>\n",
              "    </tr>\n",
              "    <tr>\n",
              "      <th>17394</th>\n",
              "      <td>2018-06-25 18:00:00</td>\n",
              "      <td>39.202999</td>\n",
              "      <td>9.801000</td>\n",
              "      <td>49.055000</td>\n",
              "      <td>10.079</td>\n",
              "      <td>-9.499</td>\n",
              "      <td>-1.290</td>\n",
              "      <td>47.988499</td>\n",
              "    </tr>\n",
              "    <tr>\n",
              "      <th>17395</th>\n",
              "      <td>2018-06-25 19:00:00</td>\n",
              "      <td>37.778999</td>\n",
              "      <td>8.796000</td>\n",
              "      <td>47.125000</td>\n",
              "      <td>8.953</td>\n",
              "      <td>-9.499</td>\n",
              "      <td>-1.535</td>\n",
              "      <td>46.450001</td>\n",
              "    </tr>\n",
              "  </tbody>\n",
              "</table>\n",
              "<p>96 rows × 8 columns</p>\n",
              "</div>"
            ],
            "text/plain": [
              "                      date       HUFL       HULL  ...    LUFL   LULL         OT\n",
              "17300  2018-06-21 20:00:00  37.109001  11.309000  ...  -9.414 -1.215  38.320499\n",
              "17301  2018-06-21 21:00:00  38.533001  11.141000  ...  -9.339 -1.311  37.661499\n",
              "17302  2018-06-21 22:00:00  35.014999  10.639000  ...  -9.339 -1.237  37.001999\n",
              "17303  2018-06-21 23:00:00  35.433998  10.974000  ...  -9.382 -1.269  36.782501\n",
              "17304  2018-06-22 00:00:00  32.669998  11.141000  ...  -9.243  0.000  36.562500\n",
              "...                    ...        ...        ...  ...     ...    ...        ...\n",
              "17391  2018-06-25 15:00:00  36.104000  17.004999  ...  -9.542 -2.463  50.625000\n",
              "17392  2018-06-25 16:00:00  40.041000  10.471000  ... -10.757 -1.844  49.745998\n",
              "17393  2018-06-25 17:00:00  39.622002  10.722000  ... -10.757 -1.844  48.867001\n",
              "17394  2018-06-25 18:00:00  39.202999   9.801000  ...  -9.499 -1.290  47.988499\n",
              "17395  2018-06-25 19:00:00  37.778999   8.796000  ...  -9.499 -1.535  46.450001\n",
              "\n",
              "[96 rows x 8 columns]"
            ]
          },
          "metadata": {},
          "execution_count": 81
        }
      ]
    },
    {
      "cell_type": "code",
      "metadata": {
        "id": "H5or3WNhflN9",
        "outputId": "6f4934d9-4ebb-4f76-bed6-758d0c149242",
        "colab": {
          "base_uri": "https://localhost:8080/",
          "height": 417
        }
      },
      "source": [
        "save_path = '/content/ETDataset/ETT-small/'\n",
        "ETTh2_train_96.to_csv(save_path + 'ETTh2_train_96.csv', index=False)\n",
        "pd.read_csv(save_path + 'ETTh2_train_96.csv')"
      ],
      "execution_count": 82,
      "outputs": [
        {
          "output_type": "execute_result",
          "data": {
            "text/html": [
              "<div>\n",
              "<style scoped>\n",
              "    .dataframe tbody tr th:only-of-type {\n",
              "        vertical-align: middle;\n",
              "    }\n",
              "\n",
              "    .dataframe tbody tr th {\n",
              "        vertical-align: top;\n",
              "    }\n",
              "\n",
              "    .dataframe thead th {\n",
              "        text-align: right;\n",
              "    }\n",
              "</style>\n",
              "<table border=\"1\" class=\"dataframe\">\n",
              "  <thead>\n",
              "    <tr style=\"text-align: right;\">\n",
              "      <th></th>\n",
              "      <th>date</th>\n",
              "      <th>HUFL</th>\n",
              "      <th>HULL</th>\n",
              "      <th>MUFL</th>\n",
              "      <th>MULL</th>\n",
              "      <th>LUFL</th>\n",
              "      <th>LULL</th>\n",
              "      <th>OT</th>\n",
              "    </tr>\n",
              "  </thead>\n",
              "  <tbody>\n",
              "    <tr>\n",
              "      <th>0</th>\n",
              "      <td>2018-06-21 20:00:00</td>\n",
              "      <td>37.109001</td>\n",
              "      <td>11.309000</td>\n",
              "      <td>47.070999</td>\n",
              "      <td>11.366</td>\n",
              "      <td>-9.414</td>\n",
              "      <td>-1.215</td>\n",
              "      <td>38.320499</td>\n",
              "    </tr>\n",
              "    <tr>\n",
              "      <th>1</th>\n",
              "      <td>2018-06-21 21:00:00</td>\n",
              "      <td>38.533001</td>\n",
              "      <td>11.141000</td>\n",
              "      <td>47.714001</td>\n",
              "      <td>11.339</td>\n",
              "      <td>-9.339</td>\n",
              "      <td>-1.311</td>\n",
              "      <td>37.661499</td>\n",
              "    </tr>\n",
              "    <tr>\n",
              "      <th>2</th>\n",
              "      <td>2018-06-21 22:00:00</td>\n",
              "      <td>35.014999</td>\n",
              "      <td>10.639000</td>\n",
              "      <td>44.417000</td>\n",
              "      <td>10.803</td>\n",
              "      <td>-9.339</td>\n",
              "      <td>-1.237</td>\n",
              "      <td>37.001999</td>\n",
              "    </tr>\n",
              "    <tr>\n",
              "      <th>3</th>\n",
              "      <td>2018-06-21 23:00:00</td>\n",
              "      <td>35.433998</td>\n",
              "      <td>10.974000</td>\n",
              "      <td>44.632000</td>\n",
              "      <td>11.312</td>\n",
              "      <td>-9.382</td>\n",
              "      <td>-1.269</td>\n",
              "      <td>36.782501</td>\n",
              "    </tr>\n",
              "    <tr>\n",
              "      <th>4</th>\n",
              "      <td>2018-06-22 00:00:00</td>\n",
              "      <td>32.669998</td>\n",
              "      <td>11.141000</td>\n",
              "      <td>42.005001</td>\n",
              "      <td>10.964</td>\n",
              "      <td>-9.243</td>\n",
              "      <td>0.000</td>\n",
              "      <td>36.562500</td>\n",
              "    </tr>\n",
              "    <tr>\n",
              "      <th>...</th>\n",
              "      <td>...</td>\n",
              "      <td>...</td>\n",
              "      <td>...</td>\n",
              "      <td>...</td>\n",
              "      <td>...</td>\n",
              "      <td>...</td>\n",
              "      <td>...</td>\n",
              "      <td>...</td>\n",
              "    </tr>\n",
              "    <tr>\n",
              "      <th>91</th>\n",
              "      <td>2018-06-25 15:00:00</td>\n",
              "      <td>36.104000</td>\n",
              "      <td>17.004999</td>\n",
              "      <td>45.917999</td>\n",
              "      <td>11.661</td>\n",
              "      <td>-9.542</td>\n",
              "      <td>-2.463</td>\n",
              "      <td>50.625000</td>\n",
              "    </tr>\n",
              "    <tr>\n",
              "      <th>92</th>\n",
              "      <td>2018-06-25 16:00:00</td>\n",
              "      <td>40.041000</td>\n",
              "      <td>10.471000</td>\n",
              "      <td>51.252998</td>\n",
              "      <td>11.366</td>\n",
              "      <td>-10.757</td>\n",
              "      <td>-1.844</td>\n",
              "      <td>49.745998</td>\n",
              "    </tr>\n",
              "    <tr>\n",
              "      <th>93</th>\n",
              "      <td>2018-06-25 17:00:00</td>\n",
              "      <td>39.622002</td>\n",
              "      <td>10.722000</td>\n",
              "      <td>50.931000</td>\n",
              "      <td>11.124</td>\n",
              "      <td>-10.757</td>\n",
              "      <td>-1.844</td>\n",
              "      <td>48.867001</td>\n",
              "    </tr>\n",
              "    <tr>\n",
              "      <th>94</th>\n",
              "      <td>2018-06-25 18:00:00</td>\n",
              "      <td>39.202999</td>\n",
              "      <td>9.801000</td>\n",
              "      <td>49.055000</td>\n",
              "      <td>10.079</td>\n",
              "      <td>-9.499</td>\n",
              "      <td>-1.290</td>\n",
              "      <td>47.988499</td>\n",
              "    </tr>\n",
              "    <tr>\n",
              "      <th>95</th>\n",
              "      <td>2018-06-25 19:00:00</td>\n",
              "      <td>37.778999</td>\n",
              "      <td>8.796000</td>\n",
              "      <td>47.125000</td>\n",
              "      <td>8.953</td>\n",
              "      <td>-9.499</td>\n",
              "      <td>-1.535</td>\n",
              "      <td>46.450001</td>\n",
              "    </tr>\n",
              "  </tbody>\n",
              "</table>\n",
              "<p>96 rows × 8 columns</p>\n",
              "</div>"
            ],
            "text/plain": [
              "                   date       HUFL       HULL  ...    LUFL   LULL         OT\n",
              "0   2018-06-21 20:00:00  37.109001  11.309000  ...  -9.414 -1.215  38.320499\n",
              "1   2018-06-21 21:00:00  38.533001  11.141000  ...  -9.339 -1.311  37.661499\n",
              "2   2018-06-21 22:00:00  35.014999  10.639000  ...  -9.339 -1.237  37.001999\n",
              "3   2018-06-21 23:00:00  35.433998  10.974000  ...  -9.382 -1.269  36.782501\n",
              "4   2018-06-22 00:00:00  32.669998  11.141000  ...  -9.243  0.000  36.562500\n",
              "..                  ...        ...        ...  ...     ...    ...        ...\n",
              "91  2018-06-25 15:00:00  36.104000  17.004999  ...  -9.542 -2.463  50.625000\n",
              "92  2018-06-25 16:00:00  40.041000  10.471000  ... -10.757 -1.844  49.745998\n",
              "93  2018-06-25 17:00:00  39.622002  10.722000  ... -10.757 -1.844  48.867001\n",
              "94  2018-06-25 18:00:00  39.202999   9.801000  ...  -9.499 -1.290  47.988499\n",
              "95  2018-06-25 19:00:00  37.778999   8.796000  ...  -9.499 -1.535  46.450001\n",
              "\n",
              "[96 rows x 8 columns]"
            ]
          },
          "metadata": {},
          "execution_count": 82
        }
      ]
    },
    {
      "cell_type": "markdown",
      "metadata": {
        "id": "S_wYmEzufzdl"
      },
      "source": [
        "# ETTh2.csv에서 테스트용으로 쓸 맨뒤 24개"
      ]
    },
    {
      "cell_type": "code",
      "metadata": {
        "id": "sMgiTQpUiDNu",
        "outputId": "8678be74-a73c-41d1-cd41-09147198ee46",
        "colab": {
          "base_uri": "https://localhost:8080/",
          "height": 203
        }
      },
      "source": [
        "ETTh2_test = df[-24:]\n",
        "ETTh2_test.head()"
      ],
      "execution_count": 57,
      "outputs": [
        {
          "output_type": "execute_result",
          "data": {
            "text/html": [
              "<div>\n",
              "<style scoped>\n",
              "    .dataframe tbody tr th:only-of-type {\n",
              "        vertical-align: middle;\n",
              "    }\n",
              "\n",
              "    .dataframe tbody tr th {\n",
              "        vertical-align: top;\n",
              "    }\n",
              "\n",
              "    .dataframe thead th {\n",
              "        text-align: right;\n",
              "    }\n",
              "</style>\n",
              "<table border=\"1\" class=\"dataframe\">\n",
              "  <thead>\n",
              "    <tr style=\"text-align: right;\">\n",
              "      <th></th>\n",
              "      <th>date</th>\n",
              "      <th>HUFL</th>\n",
              "      <th>HULL</th>\n",
              "      <th>MUFL</th>\n",
              "      <th>MULL</th>\n",
              "      <th>LUFL</th>\n",
              "      <th>LULL</th>\n",
              "      <th>OT</th>\n",
              "    </tr>\n",
              "  </thead>\n",
              "  <tbody>\n",
              "    <tr>\n",
              "      <th>17396</th>\n",
              "      <td>2018-06-25 20:00:00</td>\n",
              "      <td>43.558998</td>\n",
              "      <td>10.806</td>\n",
              "      <td>52.619999</td>\n",
              "      <td>10.910</td>\n",
              "      <td>-9.499</td>\n",
              "      <td>-1.514</td>\n",
              "      <td>44.692001</td>\n",
              "    </tr>\n",
              "    <tr>\n",
              "      <th>17397</th>\n",
              "      <td>2018-06-25 21:00:00</td>\n",
              "      <td>44.731998</td>\n",
              "      <td>12.649</td>\n",
              "      <td>53.905998</td>\n",
              "      <td>11.982</td>\n",
              "      <td>-9.478</td>\n",
              "      <td>0.000</td>\n",
              "      <td>43.813499</td>\n",
              "    </tr>\n",
              "    <tr>\n",
              "      <th>17398</th>\n",
              "      <td>2018-06-25 22:00:00</td>\n",
              "      <td>42.470001</td>\n",
              "      <td>12.398</td>\n",
              "      <td>50.313999</td>\n",
              "      <td>11.446</td>\n",
              "      <td>-7.047</td>\n",
              "      <td>0.000</td>\n",
              "      <td>42.910500</td>\n",
              "    </tr>\n",
              "    <tr>\n",
              "      <th>17399</th>\n",
              "      <td>2018-06-25 23:00:00</td>\n",
              "      <td>44.816002</td>\n",
              "      <td>13.152</td>\n",
              "      <td>53.771999</td>\n",
              "      <td>12.384</td>\n",
              "      <td>-8.945</td>\n",
              "      <td>0.000</td>\n",
              "      <td>42.470501</td>\n",
              "    </tr>\n",
              "    <tr>\n",
              "      <th>17400</th>\n",
              "      <td>2018-06-26 00:00:00</td>\n",
              "      <td>42.219002</td>\n",
              "      <td>12.481</td>\n",
              "      <td>50.153999</td>\n",
              "      <td>11.553</td>\n",
              "      <td>-8.049</td>\n",
              "      <td>0.000</td>\n",
              "      <td>42.250999</td>\n",
              "    </tr>\n",
              "  </tbody>\n",
              "</table>\n",
              "</div>"
            ],
            "text/plain": [
              "                      date       HUFL    HULL  ...   LUFL   LULL         OT\n",
              "17396  2018-06-25 20:00:00  43.558998  10.806  ... -9.499 -1.514  44.692001\n",
              "17397  2018-06-25 21:00:00  44.731998  12.649  ... -9.478  0.000  43.813499\n",
              "17398  2018-06-25 22:00:00  42.470001  12.398  ... -7.047  0.000  42.910500\n",
              "17399  2018-06-25 23:00:00  44.816002  13.152  ... -8.945  0.000  42.470501\n",
              "17400  2018-06-26 00:00:00  42.219002  12.481  ... -8.049  0.000  42.250999\n",
              "\n",
              "[5 rows x 8 columns]"
            ]
          },
          "metadata": {},
          "execution_count": 57
        }
      ]
    },
    {
      "cell_type": "code",
      "metadata": {
        "id": "VcbC1sBerY7q",
        "outputId": "48009ead-da49-4a79-ce04-506e54a0304f",
        "colab": {
          "base_uri": "https://localhost:8080/",
          "height": 788
        }
      },
      "source": [
        "save_path = '/content/ETDataset/ETT-small/'\n",
        "ETTh2_test.to_csv(save_path + 'ETTh2_test.csv', index=False)\n",
        "pd.read_csv(save_path + 'ETTh2_test.csv')"
      ],
      "execution_count": 59,
      "outputs": [
        {
          "output_type": "execute_result",
          "data": {
            "text/html": [
              "<div>\n",
              "<style scoped>\n",
              "    .dataframe tbody tr th:only-of-type {\n",
              "        vertical-align: middle;\n",
              "    }\n",
              "\n",
              "    .dataframe tbody tr th {\n",
              "        vertical-align: top;\n",
              "    }\n",
              "\n",
              "    .dataframe thead th {\n",
              "        text-align: right;\n",
              "    }\n",
              "</style>\n",
              "<table border=\"1\" class=\"dataframe\">\n",
              "  <thead>\n",
              "    <tr style=\"text-align: right;\">\n",
              "      <th></th>\n",
              "      <th>date</th>\n",
              "      <th>HUFL</th>\n",
              "      <th>HULL</th>\n",
              "      <th>MUFL</th>\n",
              "      <th>MULL</th>\n",
              "      <th>LUFL</th>\n",
              "      <th>LULL</th>\n",
              "      <th>OT</th>\n",
              "    </tr>\n",
              "  </thead>\n",
              "  <tbody>\n",
              "    <tr>\n",
              "      <th>0</th>\n",
              "      <td>2018-06-25 20:00:00</td>\n",
              "      <td>43.558998</td>\n",
              "      <td>10.806</td>\n",
              "      <td>52.619999</td>\n",
              "      <td>10.910</td>\n",
              "      <td>-9.499</td>\n",
              "      <td>-1.514</td>\n",
              "      <td>44.692001</td>\n",
              "    </tr>\n",
              "    <tr>\n",
              "      <th>1</th>\n",
              "      <td>2018-06-25 21:00:00</td>\n",
              "      <td>44.731998</td>\n",
              "      <td>12.649</td>\n",
              "      <td>53.905998</td>\n",
              "      <td>11.982</td>\n",
              "      <td>-9.478</td>\n",
              "      <td>0.000</td>\n",
              "      <td>43.813499</td>\n",
              "    </tr>\n",
              "    <tr>\n",
              "      <th>2</th>\n",
              "      <td>2018-06-25 22:00:00</td>\n",
              "      <td>42.470001</td>\n",
              "      <td>12.398</td>\n",
              "      <td>50.313999</td>\n",
              "      <td>11.446</td>\n",
              "      <td>-7.047</td>\n",
              "      <td>0.000</td>\n",
              "      <td>42.910500</td>\n",
              "    </tr>\n",
              "    <tr>\n",
              "      <th>3</th>\n",
              "      <td>2018-06-25 23:00:00</td>\n",
              "      <td>44.816002</td>\n",
              "      <td>13.152</td>\n",
              "      <td>53.771999</td>\n",
              "      <td>12.384</td>\n",
              "      <td>-8.945</td>\n",
              "      <td>0.000</td>\n",
              "      <td>42.470501</td>\n",
              "    </tr>\n",
              "    <tr>\n",
              "      <th>4</th>\n",
              "      <td>2018-06-26 00:00:00</td>\n",
              "      <td>42.219002</td>\n",
              "      <td>12.481</td>\n",
              "      <td>50.153999</td>\n",
              "      <td>11.553</td>\n",
              "      <td>-8.049</td>\n",
              "      <td>0.000</td>\n",
              "      <td>42.250999</td>\n",
              "    </tr>\n",
              "    <tr>\n",
              "      <th>5</th>\n",
              "      <td>2018-06-26 01:00:00</td>\n",
              "      <td>36.773998</td>\n",
              "      <td>10.555</td>\n",
              "      <td>46.320000</td>\n",
              "      <td>10.186</td>\n",
              "      <td>-9.425</td>\n",
              "      <td>0.000</td>\n",
              "      <td>41.811501</td>\n",
              "    </tr>\n",
              "    <tr>\n",
              "      <th>6</th>\n",
              "      <td>2018-06-26 02:00:00</td>\n",
              "      <td>35.182999</td>\n",
              "      <td>9.885</td>\n",
              "      <td>44.550999</td>\n",
              "      <td>10.213</td>\n",
              "      <td>-9.425</td>\n",
              "      <td>-1.290</td>\n",
              "      <td>40.932499</td>\n",
              "    </tr>\n",
              "    <tr>\n",
              "      <th>7</th>\n",
              "      <td>2018-06-26 03:00:00</td>\n",
              "      <td>29.486000</td>\n",
              "      <td>7.958</td>\n",
              "      <td>39.537998</td>\n",
              "      <td>8.471</td>\n",
              "      <td>-9.425</td>\n",
              "      <td>-1.471</td>\n",
              "      <td>40.493000</td>\n",
              "    </tr>\n",
              "    <tr>\n",
              "      <th>8</th>\n",
              "      <td>2018-06-26 04:00:00</td>\n",
              "      <td>34.596001</td>\n",
              "      <td>10.555</td>\n",
              "      <td>44.175999</td>\n",
              "      <td>10.561</td>\n",
              "      <td>-9.489</td>\n",
              "      <td>-1.322</td>\n",
              "      <td>40.053501</td>\n",
              "    </tr>\n",
              "    <tr>\n",
              "      <th>9</th>\n",
              "      <td>2018-06-26 05:00:00</td>\n",
              "      <td>27.476000</td>\n",
              "      <td>7.120</td>\n",
              "      <td>37.716000</td>\n",
              "      <td>7.988</td>\n",
              "      <td>-9.542</td>\n",
              "      <td>-1.578</td>\n",
              "      <td>39.614498</td>\n",
              "    </tr>\n",
              "    <tr>\n",
              "      <th>10</th>\n",
              "      <td>2018-06-26 06:00:00</td>\n",
              "      <td>27.056999</td>\n",
              "      <td>7.623</td>\n",
              "      <td>36.402000</td>\n",
              "      <td>8.095</td>\n",
              "      <td>-9.020</td>\n",
              "      <td>0.000</td>\n",
              "      <td>39.614498</td>\n",
              "    </tr>\n",
              "    <tr>\n",
              "      <th>11</th>\n",
              "      <td>2018-06-26 07:00:00</td>\n",
              "      <td>33.256001</td>\n",
              "      <td>10.974</td>\n",
              "      <td>43.667000</td>\n",
              "      <td>11.339</td>\n",
              "      <td>-10.310</td>\n",
              "      <td>-1.343</td>\n",
              "      <td>39.614498</td>\n",
              "    </tr>\n",
              "    <tr>\n",
              "      <th>12</th>\n",
              "      <td>2018-06-26 08:00:00</td>\n",
              "      <td>32.083000</td>\n",
              "      <td>10.387</td>\n",
              "      <td>44.229000</td>\n",
              "      <td>11.580</td>\n",
              "      <td>-11.536</td>\n",
              "      <td>-1.375</td>\n",
              "      <td>41.152500</td>\n",
              "    </tr>\n",
              "    <tr>\n",
              "      <th>13</th>\n",
              "      <td>2018-06-26 09:00:00</td>\n",
              "      <td>38.366001</td>\n",
              "      <td>11.476</td>\n",
              "      <td>50.261002</td>\n",
              "      <td>12.626</td>\n",
              "      <td>-11.536</td>\n",
              "      <td>-2.591</td>\n",
              "      <td>42.690498</td>\n",
              "    </tr>\n",
              "    <tr>\n",
              "      <th>14</th>\n",
              "      <td>2018-06-26 10:00:00</td>\n",
              "      <td>37.778999</td>\n",
              "      <td>11.057</td>\n",
              "      <td>49.296001</td>\n",
              "      <td>12.089</td>\n",
              "      <td>-11.536</td>\n",
              "      <td>-2.591</td>\n",
              "      <td>44.448002</td>\n",
              "    </tr>\n",
              "    <tr>\n",
              "      <th>15</th>\n",
              "      <td>2018-06-26 11:00:00</td>\n",
              "      <td>41.716000</td>\n",
              "      <td>11.644</td>\n",
              "      <td>53.075001</td>\n",
              "      <td>12.572</td>\n",
              "      <td>-11.536</td>\n",
              "      <td>-2.591</td>\n",
              "      <td>46.645500</td>\n",
              "    </tr>\n",
              "    <tr>\n",
              "      <th>16</th>\n",
              "      <td>2018-06-26 12:00:00</td>\n",
              "      <td>42.387001</td>\n",
              "      <td>13.068</td>\n",
              "      <td>54.120998</td>\n",
              "      <td>13.885</td>\n",
              "      <td>-11.578</td>\n",
              "      <td>-1.759</td>\n",
              "      <td>45.986500</td>\n",
              "    </tr>\n",
              "    <tr>\n",
              "      <th>17</th>\n",
              "      <td>2018-06-26 13:00:00</td>\n",
              "      <td>44.900002</td>\n",
              "      <td>12.063</td>\n",
              "      <td>55.247002</td>\n",
              "      <td>12.170</td>\n",
              "      <td>-10.342</td>\n",
              "      <td>-1.759</td>\n",
              "      <td>46.865501</td>\n",
              "    </tr>\n",
              "    <tr>\n",
              "      <th>18</th>\n",
              "      <td>2018-06-26 14:00:00</td>\n",
              "      <td>40.879002</td>\n",
              "      <td>11.309</td>\n",
              "      <td>51.816002</td>\n",
              "      <td>11.553</td>\n",
              "      <td>-10.342</td>\n",
              "      <td>-1.461</td>\n",
              "      <td>47.084999</td>\n",
              "    </tr>\n",
              "    <tr>\n",
              "      <th>19</th>\n",
              "      <td>2018-06-26 15:00:00</td>\n",
              "      <td>39.202999</td>\n",
              "      <td>11.392</td>\n",
              "      <td>49.644001</td>\n",
              "      <td>11.929</td>\n",
              "      <td>-10.331</td>\n",
              "      <td>-1.258</td>\n",
              "      <td>47.084999</td>\n",
              "    </tr>\n",
              "    <tr>\n",
              "      <th>20</th>\n",
              "      <td>2018-06-26 16:00:00</td>\n",
              "      <td>38.113998</td>\n",
              "      <td>10.974</td>\n",
              "      <td>48.759998</td>\n",
              "      <td>11.366</td>\n",
              "      <td>-10.331</td>\n",
              "      <td>-1.290</td>\n",
              "      <td>48.183498</td>\n",
              "    </tr>\n",
              "    <tr>\n",
              "      <th>21</th>\n",
              "      <td>2018-06-26 17:00:00</td>\n",
              "      <td>39.622002</td>\n",
              "      <td>10.974</td>\n",
              "      <td>50.609001</td>\n",
              "      <td>11.661</td>\n",
              "      <td>-11.557</td>\n",
              "      <td>-1.418</td>\n",
              "      <td>48.183498</td>\n",
              "    </tr>\n",
              "    <tr>\n",
              "      <th>22</th>\n",
              "      <td>2018-06-26 18:00:00</td>\n",
              "      <td>43.643002</td>\n",
              "      <td>13.403</td>\n",
              "      <td>54.737000</td>\n",
              "      <td>13.778</td>\n",
              "      <td>-10.299</td>\n",
              "      <td>-1.418</td>\n",
              "      <td>46.865501</td>\n",
              "    </tr>\n",
              "    <tr>\n",
              "      <th>23</th>\n",
              "      <td>2018-06-26 19:00:00</td>\n",
              "      <td>38.868000</td>\n",
              "      <td>10.052</td>\n",
              "      <td>49.859001</td>\n",
              "      <td>10.669</td>\n",
              "      <td>-11.525</td>\n",
              "      <td>-1.418</td>\n",
              "      <td>45.986500</td>\n",
              "    </tr>\n",
              "  </tbody>\n",
              "</table>\n",
              "</div>"
            ],
            "text/plain": [
              "                   date       HUFL    HULL  ...    LUFL   LULL         OT\n",
              "0   2018-06-25 20:00:00  43.558998  10.806  ...  -9.499 -1.514  44.692001\n",
              "1   2018-06-25 21:00:00  44.731998  12.649  ...  -9.478  0.000  43.813499\n",
              "2   2018-06-25 22:00:00  42.470001  12.398  ...  -7.047  0.000  42.910500\n",
              "3   2018-06-25 23:00:00  44.816002  13.152  ...  -8.945  0.000  42.470501\n",
              "4   2018-06-26 00:00:00  42.219002  12.481  ...  -8.049  0.000  42.250999\n",
              "5   2018-06-26 01:00:00  36.773998  10.555  ...  -9.425  0.000  41.811501\n",
              "6   2018-06-26 02:00:00  35.182999   9.885  ...  -9.425 -1.290  40.932499\n",
              "7   2018-06-26 03:00:00  29.486000   7.958  ...  -9.425 -1.471  40.493000\n",
              "8   2018-06-26 04:00:00  34.596001  10.555  ...  -9.489 -1.322  40.053501\n",
              "9   2018-06-26 05:00:00  27.476000   7.120  ...  -9.542 -1.578  39.614498\n",
              "10  2018-06-26 06:00:00  27.056999   7.623  ...  -9.020  0.000  39.614498\n",
              "11  2018-06-26 07:00:00  33.256001  10.974  ... -10.310 -1.343  39.614498\n",
              "12  2018-06-26 08:00:00  32.083000  10.387  ... -11.536 -1.375  41.152500\n",
              "13  2018-06-26 09:00:00  38.366001  11.476  ... -11.536 -2.591  42.690498\n",
              "14  2018-06-26 10:00:00  37.778999  11.057  ... -11.536 -2.591  44.448002\n",
              "15  2018-06-26 11:00:00  41.716000  11.644  ... -11.536 -2.591  46.645500\n",
              "16  2018-06-26 12:00:00  42.387001  13.068  ... -11.578 -1.759  45.986500\n",
              "17  2018-06-26 13:00:00  44.900002  12.063  ... -10.342 -1.759  46.865501\n",
              "18  2018-06-26 14:00:00  40.879002  11.309  ... -10.342 -1.461  47.084999\n",
              "19  2018-06-26 15:00:00  39.202999  11.392  ... -10.331 -1.258  47.084999\n",
              "20  2018-06-26 16:00:00  38.113998  10.974  ... -10.331 -1.290  48.183498\n",
              "21  2018-06-26 17:00:00  39.622002  10.974  ... -11.557 -1.418  48.183498\n",
              "22  2018-06-26 18:00:00  43.643002  13.403  ... -10.299 -1.418  46.865501\n",
              "23  2018-06-26 19:00:00  38.868000  10.052  ... -11.525 -1.418  45.986500\n",
              "\n",
              "[24 rows x 8 columns]"
            ]
          },
          "metadata": {},
          "execution_count": 59
        }
      ]
    },
    {
      "cell_type": "markdown",
      "metadata": {
        "id": "L8o_UZeGqbEh"
      },
      "source": [
        "args 새로 지정"
      ]
    },
    {
      "cell_type": "code",
      "metadata": {
        "id": "11RinKNsf-VH"
      },
      "source": [
        "args = dotdict()\n",
        "\n",
        "args.model = 'informer' # model of experiment, options: [informer, informerstack, informerlight(TBD)]\n",
        "\n",
        "args.data = 'custom' # 개인 데이터는 custom으로 설정해라.\n",
        "args.root_path = './ETDataset/ETT-small/' # root path of data file\n",
        "args.data_path = 'ETTh2_train.csv' # data file\n",
        "args.features = 'M' # forecasting task, options:[M, S, MS]; M:multivariate predict multivariate, S:univariate predict univariate, MS:multivariate predict univariate\n",
        "args.target = 'OT' # target feature in S or MS task\n",
        "args.freq = 'h' # freq for time features encoding, options:[s:secondly, t:minutely, h:hourly, d:daily, b:business days, w:weekly, m:monthly], you can also use more detailed freq like 15min or 3h\n",
        "args.checkpoints = './informer_checkpoints' # location of model checkpoints\n",
        "\n",
        "args.seq_len = 96 # input sequence length of Informer encoder\n",
        "args.label_len = 48 # start token length of Informer decoder\n",
        "args.pred_len = 24 # prediction sequence length\n",
        "# Informer decoder input: concat[start token series(label_len), zero padding series(pred_len)]\n",
        "\n",
        "args.enc_in = 7 # encoder input size\n",
        "args.dec_in = 7 # decoder input size\n",
        "args.c_out = 7 # output size\n",
        "args.factor = 5 # probsparse attn factor\n",
        "args.d_model = 512 # dimension of model\n",
        "args.n_heads = 8 # num of heads\n",
        "args.e_layers = 2 # num of encoder layers\n",
        "args.d_layers = 1 # num of decoder layers\n",
        "args.d_ff = 2048 # dimension of fcn in model\n",
        "args.dropout = 0.05 # dropout\n",
        "args.attn = 'prob' # attention used in encoder, options:[prob, full]\n",
        "args.embed = 'timeF' # time features encoding, options:[timeF, fixed, learned]\n",
        "args.activation = 'gelu' # activation\n",
        "args.do_predict= True # 이걸로 예측한다!\n",
        "args.distil = True # whether to use distilling in encoder\n",
        "args.output_attention = False # whether to output attention in ecoder\n",
        "args.mix = True\n",
        "args.padding = 0\n",
        "args.freq = 'h'\n",
        "\n",
        "args.batch_size = 32 \n",
        "args.learning_rate = 0.0001\n",
        "args.loss = 'mse'\n",
        "args.lradj = 'type1'\n",
        "args.use_amp = False # whether to use automatic mixed precision training\n",
        "\n",
        "args.num_workers = 0\n",
        "args.itr = 1\n",
        "args.train_epochs = 6\n",
        "args.patience = 3\n",
        "args.des = 'exp'\n",
        "args.inverse = True # 이걸로 standardscaler 되돌려 놓는다!\n",
        "\n",
        "args.use_gpu = True if torch.cuda.is_available() else False\n",
        "args.gpu = 0\n",
        "\n",
        "args.use_multi_gpu = False\n",
        "args.devices = '0,1,2,3'\n"
      ],
      "execution_count": 86,
      "outputs": []
    },
    {
      "cell_type": "code",
      "metadata": {
        "id": "POMqO81ygb9d"
      },
      "source": [
        "setting = 'informer_ETTh1_ftM_sl96_ll48_pl24_dm512_nh8_el2_dl1_df2048_atprob_fc5_ebtimeF_dtTrue_mxTrue_exp_0'"
      ],
      "execution_count": 77,
      "outputs": []
    },
    {
      "cell_type": "code",
      "metadata": {
        "id": "lzq7iaonsYb-",
        "outputId": "4a47258d-6969-4497-95bf-27bec76cad81",
        "colab": {
          "base_uri": "https://localhost:8080/"
        }
      },
      "source": [
        "print('Args in Test:')\n",
        "print(args)"
      ],
      "execution_count": 87,
      "outputs": [
        {
          "output_type": "stream",
          "name": "stdout",
          "text": [
            "Args in Test:\n",
            "{'model': 'informer', 'data': 'custom', 'root_path': './ETDataset/ETT-small/', 'data_path': 'ETTh2_train.csv', 'features': 'M', 'target': 'OT', 'freq': 'h', 'checkpoints': './informer_checkpoints', 'seq_len': 96, 'label_len': 48, 'pred_len': 24, 'enc_in': 7, 'dec_in': 7, 'c_out': 7, 'factor': 5, 'd_model': 512, 'n_heads': 8, 'e_layers': 2, 'd_layers': 1, 'd_ff': 2048, 'dropout': 0.05, 'attn': 'prob', 'embed': 'timeF', 'activation': 'gelu', 'do_predict': True, 'distil': True, 'output_attention': False, 'mix': True, 'padding': 0, 'batch_size': 32, 'learning_rate': 0.0001, 'loss': 'mse', 'lradj': 'type1', 'use_amp': False, 'num_workers': 0, 'itr': 1, 'train_epochs': 6, 'patience': 3, 'des': 'exp', 'inverse': True, 'use_gpu': True, 'gpu': 0, 'use_multi_gpu': False, 'devices': '0,1,2,3'}\n"
          ]
        }
      ]
    },
    {
      "cell_type": "markdown",
      "metadata": {
        "id": "mvDCROcsvpdO"
      },
      "source": [
        "setting = 'informer_ETTh1_ftM_sl96_ll48_pl24_dm512_nh8_el2_dl1_df2048_atprob_fc5_ebtimeF_dtTrue_mxTrue_exp_0' 의 setting은 사전 훈련된 모델이고,\n",
        "\n",
        "exp = Exp(args)으로 돌린다."
      ]
    },
    {
      "cell_type": "code",
      "metadata": {
        "id": "sYEpxdAHhSSS"
      },
      "source": [
        "################# 이게 없으면 에러난다!!! #################\n",
        "################# 반드시 꼭 실행!! ########################\n",
        "args.detail_freq = args.freq\n",
        "args.freq = args.freq[-1:]"
      ],
      "execution_count": 88,
      "outputs": []
    },
    {
      "cell_type": "code",
      "metadata": {
        "id": "ERfvWvY_3fgi",
        "outputId": "ee9286c4-ba49-49b5-db11-785a242152cd",
        "colab": {
          "base_uri": "https://localhost:8080/"
        }
      },
      "source": [
        "# 이걸로 실행해라!!!!\n",
        "# 걍 여기서 알아서 하는거엿어!!!\n",
        "\n",
        "from exp.exp_informer import Exp_Informer\n",
        "Exp = Exp_Informer\n",
        "\n",
        "exp = Exp(args) \n",
        "# exp_informer.py -> class Exp_Informer -> exp_basic.py -> self.model = self._build_model().to(self.device) \n",
        "# -> def _build_model -> return model\n",
        "\n",
        "exp.predict(setting, True)\n",
        "# def predict -> def _get_data -> "
      ],
      "execution_count": 95,
      "outputs": [
        {
          "output_type": "stream",
          "name": "stdout",
          "text": [
            "Use GPU: cuda:0\n",
            "pred 1\n"
          ]
        }
      ]
    },
    {
      "cell_type": "code",
      "metadata": {
        "id": "Efrfra7Hl9vn",
        "outputId": "71103aee-6665-48f4-c497-dd1e660ce3cb",
        "colab": {
          "base_uri": "https://localhost:8080/",
          "height": 267
        }
      },
      "source": [
        "# ETTh2_train.csv\n",
        "\n",
        "import numpy as np\n",
        "import matplotlib.pyplot as plt\n",
        "\n",
        "real_prediction = np.load('./results/'+setting+'/real_prediction.npy')\n",
        "\n",
        "plt.figure()\n",
        "plt.plot(real_prediction[0,:,-1])\n",
        "plt.show()"
      ],
      "execution_count": 96,
      "outputs": [
        {
          "output_type": "display_data",
          "data": {
            "image/png": "[encoded data removed]",
            "text/plain": [
              "<Figure size 432x288 with 1 Axes>"
            ]
          },
          "metadata": {
            "needs_background": "light"
          }
        }
      ]
    },
    {
      "cell_type": "code",
      "metadata": {
        "id": "mem6x30ExORQ",
        "outputId": "30474fe2-7b0e-4b75-845c-8be007aff238",
        "colab": {
          "base_uri": "https://localhost:8080/",
          "height": 265
        }
      },
      "source": [
        "# ETTh2_train_96.csv로 돌리는 것\n",
        "\n",
        "import numpy as np\n",
        "import matplotlib.pyplot as plt\n",
        "\n",
        "real_prediction = np.load('./results/'+setting+'/real_prediction.npy')\n",
        "\n",
        "plt.figure()\n",
        "plt.plot(real_prediction[0,:,-1])\n",
        "plt.show()"
      ],
      "execution_count": 84,
      "outputs": [
        {
          "output_type": "display_data",
          "data": {
            "image/png": "[encoded data removed]",
            "text/plain": [
              "<Figure size 432x288 with 1 Axes>"
            ]
          },
          "metadata": {
            "needs_background": "light"
          }
        }
      ]
    },
    {
      "cell_type": "markdown",
      "metadata": {
        "id": "7i2K7EUOqCiH"
      },
      "source": [
        "# 데이터가 많으면 좀 더 정확하게 그린다."
      ]
    },
    {
      "cell_type": "code",
      "metadata": {
        "id": "-am5ZjGE5Llv",
        "outputId": "e99bd961-18e3-4e5e-d408-e10196f55a17",
        "colab": {
          "base_uri": "https://localhost:8080/",
          "height": 265
        }
      },
      "source": [
        "# 실제 정답\n",
        "\n",
        "answer = pd.read_csv('/content/ETDataset/ETT-small/ETTh2_test.csv')\n",
        "plt.figure()\n",
        "plt.plot(answer.OT)\n",
        "plt.show()"
      ],
      "execution_count": 97,
      "outputs": [
        {
          "output_type": "display_data",
          "data": {
            "image/png": "[encoded data removed]",
            "text/plain": [
              "<Figure size 432x288 with 1 Axes>"
            ]
          },
          "metadata": {
            "needs_background": "light"
          }
        }
      ]
    },
    {
      "cell_type": "code",
      "metadata": {
        "id": "W_yUEHyMxxLR"
      },
      "source": [
        ""
      ],
      "execution_count": null,
      "outputs": []
    }
  ]
}