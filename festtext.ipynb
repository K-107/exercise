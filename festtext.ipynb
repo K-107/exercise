{
  "nbformat": 4,
  "nbformat_minor": 0,
  "metadata": {
    "colab": {
      "name": "festtext.ipynb",
      "provenance": [],
      "mount_file_id": "1TRVfOjZF0rZJyyfglLjQlPBl4tJBqpmq",
      "authorship_tag": "ABX9TyMLt/un6C3YJj7e7pX4TMHL",
      "include_colab_link": true
    },
    "kernelspec": {
      "name": "python3",
      "display_name": "Python 3"
    },
    "language_info": {
      "name": "python"
    },
    "accelerator": "GPU"
  },
  "cells": [
    {
      "cell_type": "markdown",
      "metadata": {
        "id": "view-in-github",
        "colab_type": "text"
      },
      "source": [
        "<a href=\"https://colab.research.google.com/github/K-107/exercise/blob/main/festtext.ipynb\" target=\"_parent\"><img src=\"https://colab.research.google.com/assets/colab-badge.svg\" alt=\"Open In Colab\"/></a>"
      ]
    },
    {
      "cell_type": "markdown",
      "metadata": {
        "id": "1tNzUWzvcsCo"
      },
      "source": [
        "# 코드 참고\n",
        "https://inspiringpeople.github.io/data%20analysis/word_embedding/\n",
        "\n",
        "### 미리 훈련된 한국어 모델은 데이터는 https://fasttext.cc/docs/en/crawl-vectors.html 에서 제공하고 있습니다.\n",
        "\n",
        "모델은 .vec .bin 의 두 가지 형태의 파일로 제공 하고 있는데,\n",
        ".vec 파일은 라인마다 단어에 대한 vector가 있는 형태이고 \n",
        ".bin 파일은 벡터 뿐만 아니라 dictionary와 모델의 하이퍼 파라미터와 같은 정보들이 모두 들어있는 형태입니다.\n",
        "\n",
        "binary 파일을 사용하면 모델을 추가로 학습해서 개선할 수 있다고 합니다.\n",
        "\n",
        "### 1. Pre-trained FastText\n",
        "wikipedia 데이터 기반으로 학습된 전세계 294개 언어로 된 pre-trained fastText를 제공하고 있음\n",
        "(parameter : 300 dimension, skip-gram model)\n",
        "한국어의 경우 wiki.ko.bin / wiki.ko.vec 파일"
      ]
    },
    {
      "cell_type": "code",
      "metadata": {
        "colab": {
          "base_uri": "https://localhost:8080/"
        },
        "id": "8XWBv-NzdHVE",
        "outputId": "8fdab7a0-bcb5-4e80-a788-0f039f2a9c7f"
      },
      "source": [
        "%cd /content/drive/MyDrive/testtext"
      ],
      "execution_count": 14,
      "outputs": [
        {
          "output_type": "stream",
          "name": "stdout",
          "text": [
            "/content/drive/MyDrive/testtext\n"
          ]
        }
      ]
    },
    {
      "cell_type": "code",
      "metadata": {
        "id": "sWI3PQjJa_ir"
      },
      "source": [
        "from __future__ import print_function\n",
        "from gensim.models import KeyedVectors\n",
        "\n",
        "# Creating the model\n",
        "ko_model = KeyedVectors.load_word2vec_format('wiki.ko.vec')"
      ],
      "execution_count": 15,
      "outputs": []
    },
    {
      "cell_type": "code",
      "metadata": {
        "colab": {
          "base_uri": "https://localhost:8080/"
        },
        "id": "z7wIm1hkgEiB",
        "outputId": "8c335936-7fa2-41af-daca-e73746d93d62"
      },
      "source": [
        "# Getting the tokens \n",
        "words = []\n",
        "for word in ko_model.vocab:\n",
        "    words.append(word)\n",
        "\n",
        "# Printing out number of tokens available\n",
        "print(\"Number of Tokens: {}\".format(len(words)))\n",
        "\n",
        "# Printing out the dimension of a word vector \n",
        "print(\"Dimension of a word vector: {}\".format(\n",
        "    len(ko_model[words[0]])\n",
        "))\n",
        "\n",
        "# Print out the vector of a word \n",
        "print(\"Vector components of a word: {}\".format(\n",
        "    ko_model[words[0]]\n",
        "))\n",
        "\n",
        "print(words[50])"
      ],
      "execution_count": 16,
      "outputs": [
        {
          "output_type": "stream",
          "name": "stdout",
          "text": [
            "Number of Tokens: 879129\n",
            "Dimension of a word vector: 300\n",
            "Vector components of a word: [ 4.0987e-01  5.3006e-03 -1.5832e+00 -1.0234e+00  2.7239e-01 -1.2325e+00\n",
            " -2.8500e-01 -5.9057e-01 -7.1622e-01 -7.8779e-01  4.6649e-02  3.1382e-01\n",
            " -4.1487e-01 -9.1984e-01 -3.0980e-01 -1.5516e-01  8.1917e-02 -8.8866e-01\n",
            " -2.6710e-02 -7.6736e-01  1.0054e+00 -2.7689e-01  6.0095e-01 -6.6004e-02\n",
            "  5.7456e-01  6.7092e-01 -1.4202e-01  3.1292e-01 -8.1834e-01  3.1503e-01\n",
            "  8.6697e-01 -9.3468e-01 -1.0193e+00  3.2536e-01 -6.4223e-01 -7.6901e-01\n",
            " -1.3965e+00 -1.2300e+00 -2.8656e-01 -3.4853e-01  1.0772e+00  1.2494e+00\n",
            "  3.3720e-01 -7.6690e-01  6.3737e-01 -4.4553e-01  5.1555e-01 -3.8258e-01\n",
            "  8.6264e-01 -6.9718e-01  1.4699e+00  6.7000e-01 -1.2923e+00 -1.0476e-01\n",
            "  9.5305e-01  4.7174e-02  1.0691e+00  6.5087e-01  1.4713e+00 -8.3216e-01\n",
            "  7.1885e-01  1.8395e+00 -4.4246e-01  3.1631e-01  7.3043e-02 -1.9448e+00\n",
            "  1.0989e+00 -2.6499e+00  1.2871e+00 -1.2371e-01 -6.1374e-01  2.7363e-01\n",
            " -4.9095e-01  6.3166e-01 -5.0715e-01  1.5388e+00  1.2357e+00  1.1372e-01\n",
            " -1.5515e-01 -1.2813e-01 -8.8398e-01  2.7790e-01  2.6742e+00 -6.7633e-01\n",
            " -3.9882e-01  1.4353e+00  6.2972e-01 -8.2433e-01  1.0755e-01  2.6077e-01\n",
            " -2.6062e-02  2.1041e+00  1.6706e+00 -9.5291e-01 -5.6517e-01  1.1869e+00\n",
            "  2.9987e+00  7.9352e-01 -1.9160e+00  1.3003e+00  1.1930e+00 -4.1752e-01\n",
            " -2.5951e-01 -3.6834e-01  4.0138e-01  5.0667e-01 -7.5915e-01 -2.0810e+00\n",
            " -1.3750e+00 -1.7526e-01 -2.6753e-01  2.2860e+00  5.3970e-01  6.9420e-01\n",
            " -2.9786e-01  4.0885e-01  1.2528e+00 -1.3112e+00 -8.6995e-01 -1.3691e+00\n",
            " -1.0839e+00  1.6241e+00  3.4093e-01 -1.5496e+00 -5.3989e-01  5.7118e-01\n",
            " -2.3308e+00 -1.2780e+00  3.3024e-01 -3.5477e+00 -3.0986e-01 -1.0491e+00\n",
            "  1.6221e+00 -7.3885e-01  4.9361e-01  1.1624e+00 -5.4816e-01 -1.4676e-01\n",
            " -7.2129e-01  6.1484e-02 -6.6246e-01 -1.7471e+00 -3.5120e-02 -1.5069e+00\n",
            "  1.5748e+00 -1.9118e+00  5.9579e-01  1.7077e+00 -8.6890e-01  9.6898e-01\n",
            "  6.1799e-01  9.0997e-01  1.0470e+00 -1.2207e+00  1.0459e+00  5.8882e-01\n",
            " -2.6000e+00 -1.1357e+00 -6.0270e-01  8.1014e-01  2.1929e+00 -3.0279e+00\n",
            "  1.4206e+00 -1.2978e+00  1.8195e-01 -2.6331e+00 -1.1074e-01  3.8271e-02\n",
            "  8.5635e-02 -1.7056e+00 -9.7833e-01  1.8130e+00  1.5086e+00 -3.5239e+00\n",
            " -1.5104e+00 -4.3756e-01 -1.4024e+00  3.8206e-01  2.5983e+00  1.4196e+00\n",
            " -5.1332e-01  2.1280e+00 -1.5393e+00 -3.7143e-01  3.3290e+00 -3.0475e+00\n",
            "  1.1043e+00 -1.4929e+00  1.1566e+00 -1.2335e+00  2.1575e+00  1.4761e+00\n",
            "  7.7081e-01  3.0180e+00 -1.7762e+00  1.0372e+00 -2.5132e+00 -1.3457e+00\n",
            "  5.7445e+00 -2.2810e+00  1.7091e+00 -2.6253e+00 -1.8589e+00 -1.0106e+00\n",
            " -2.6499e+00  1.5363e-01 -3.1414e-01 -5.5227e-01 -1.0618e+00  3.1632e-01\n",
            "  1.6115e+00  1.5533e+00  6.0743e-01  1.2819e-01 -3.1507e-01 -2.9873e+00\n",
            " -2.5450e+00  3.4801e-02 -1.2129e+00  1.9365e-01  2.8118e+00  1.8606e+00\n",
            "  2.0968e+00 -1.1329e+00  2.7094e+00  6.1029e-01  1.1825e+00 -1.5155e+00\n",
            " -2.3947e+00  7.7830e-01 -3.5778e-01  1.7861e+00  8.1221e-01 -9.2864e-01\n",
            " -6.4006e-01  8.1047e-01 -1.3697e+00  4.1603e+00  1.2102e+00  1.8280e+00\n",
            "  5.4124e-01 -1.1996e+00 -6.2871e-01  1.5486e-02 -1.3865e+00 -7.6308e-01\n",
            " -3.3788e-01  9.4906e-01  1.4133e+00 -6.9891e-01  1.0454e+00  7.3367e-01\n",
            "  4.4642e-01 -1.2267e+00  3.9124e-01  2.3565e+00 -2.2171e+00 -1.9194e+00\n",
            "  1.7481e+00  4.7839e-01 -3.6169e-01 -2.2142e+00  2.6424e+00 -2.3072e+00\n",
            " -1.4583e+00 -4.7219e-03  5.5658e-01  1.7730e+00  1.0415e+00  1.4673e+00\n",
            "  8.4926e-01 -2.1306e-01  2.3512e-01 -2.1706e+00 -5.5120e-01  4.0255e-01\n",
            "  4.2331e-01 -1.5328e+00  7.0063e-01  8.0445e-01  1.3166e+00  2.7564e+00\n",
            " -1.9342e+00  1.5141e+00 -6.9278e-01 -1.5425e+00 -2.1596e+00 -2.3332e+00\n",
            " -2.1304e+00  1.2098e+00 -2.3404e+00  8.7899e-01  1.5998e+00  1.6685e+00\n",
            "  1.7393e+00 -4.2142e-01 -7.9255e-01 -3.5900e+00  6.8225e-01 -3.8677e+00]\n",
            "가\n"
          ]
        }
      ]
    },
    {
      "cell_type": "code",
      "metadata": {
        "colab": {
          "base_uri": "https://localhost:8080/"
        },
        "id": "QWlT99wQgkes",
        "outputId": "4a344455-8dbd-4d4f-fd24-51135c2643b1"
      },
      "source": [
        "# Pick a word \n",
        "find_similar_to = '사랑'\n",
        "\n",
        "# Finding out similar words [default= top 10]\n",
        "for similar_word in ko_model.similar_by_word(find_similar_to):\n",
        "    # print(similar_word)\n",
        "    print(\"Word: {0}, Similarity: {1:.2f}\".format(similar_word[0], similar_word[1]))"
      ],
      "execution_count": 19,
      "outputs": [
        {
          "output_type": "stream",
          "name": "stdout",
          "text": [
            "Word: 사랑사랑, Similarity: 0.81\n",
            "Word: 사랑치, Similarity: 0.78\n",
            "Word: 사랑일, Similarity: 0.77\n",
            "Word: 사랑느낌, Similarity: 0.76\n",
            "Word: 사랑이었네, Similarity: 0.76\n",
            "Word: 사랑이여, Similarity: 0.75\n",
            "Word: 사랑병, Similarity: 0.75\n",
            "Word: 사랑인, Similarity: 0.75\n",
            "Word: 사랑맛, Similarity: 0.75\n",
            "Word: 사랑노래, Similarity: 0.74\n"
          ]
        }
      ]
    },
    {
      "cell_type": "code",
      "metadata": {
        "colab": {
          "base_uri": "https://localhost:8080/"
        },
        "id": "ySnEXsYWg_LM",
        "outputId": "3d6014a3-3845-405f-e440-ad139d3f3de5"
      },
      "source": [
        "# Test words \n",
        "word_add = ['동물', '파충류']\n",
        "word_sub = ['뱀']\n",
        "\n",
        "# Word vector addition and subtraction\n",
        "for resultant_word in ko_model.most_similar(\n",
        "    positive=word_add, negative=word_sub\n",
        "):\n",
        "    print(\"Word : {0} , Similarity: {1:.2f}\".format(resultant_word[0], resultant_word[1]))"
      ],
      "execution_count": 20,
      "outputs": [
        {
          "output_type": "stream",
          "name": "stdout",
          "text": [
            "Word : 포유류 , Similarity: 0.72\n",
            "Word : 포유동물 , Similarity: 0.71\n",
            "Word : 절지동물 , Similarity: 0.69\n",
            "Word : 양서류 , Similarity: 0.69\n",
            "Word : 독동물 , Similarity: 0.69\n",
            "Word : 포유류분류 , Similarity: 0.68\n",
            "Word : 무척추동물 , Similarity: 0.68\n",
            "Word : 척추동물분류 , Similarity: 0.68\n",
            "Word : 도시동물 , Similarity: 0.68\n",
            "Word : 동물상 , Similarity: 0.67\n"
          ]
        }
      ]
    },
    {
      "cell_type": "code",
      "metadata": {
        "colab": {
          "base_uri": "https://localhost:8080/"
        },
        "id": "GYVT3KyQsI30",
        "outputId": "c150cf64-321d-4926-8fe4-04cbe8dbd4b3"
      },
      "source": [
        "# 단어간 유사도 확인\n",
        "print(f\"{ko_model.similarity(w1='결혼', w2='이혼')}\")\n",
        "print(f\"{ko_model.similarity(w1='한국', w2='미국')}\")\n",
        "print(f\"{ko_model.similarity(w1='한국', w2='일본')}\")"
      ],
      "execution_count": 46,
      "outputs": [
        {
          "output_type": "stream",
          "name": "stdout",
          "text": [
            "0.7604460716247559\n",
            "0.5521387457847595\n",
            "0.5805118680000305\n"
          ]
        }
      ]
    },
    {
      "cell_type": "markdown",
      "metadata": {
        "id": "CgUMs-4ekfXU"
      },
      "source": [
        "# w2v과 Visualization해서 비교\n",
        "\n",
        "wi.ko.vec에 저장된 88만여개 단어 중 선두 300개 단어를 2차원 상에 맵핑하면 다음과 같은 그림이 보여짐"
      ]
    },
    {
      "cell_type": "code",
      "metadata": {
        "id": "54hxMVBmplD0"
      },
      "source": [
        "words = [\"car\",\"bike\",\"book\",\"magazine\",\"queen\",\"king\"]\n",
        "\n",
        "# fasttext\n",
        "ko_model_words = [ko_model[i] for i in words]\n",
        "\n",
        "pca = PCA(n_components=2)\n",
        "xys = pca.fit_transform(ko_model_words)\n",
        "xys\n",
        "xs = xys[:,0]\n",
        "ys = xys[:,1]"
      ],
      "execution_count": 38,
      "outputs": []
    },
    {
      "cell_type": "code",
      "metadata": {
        "colab": {
          "base_uri": "https://localhost:8080/",
          "height": 729
        },
        "id": "XflmigGFo6NW",
        "outputId": "4282f7a4-6fd5-4fc6-ba91-8ee84846e6c9"
      },
      "source": [
        "import matplotlib.pyplot as plt\n",
        "\n",
        "plt.figure(figsize=(10,10))\n",
        "\n",
        "plt.scatter(xs ,ys ,marker = 'o')\n",
        "for i, v in enumerate(words):\n",
        "  plt.annotate(v, xy=(xs[i], ys[i]))"
      ],
      "execution_count": 42,
      "outputs": [
        {
          "output_type": "display_data",
          "data": {
            "image/png": "[encoded data removed]",
            "text/plain": [
              "<Figure size 720x720 with 1 Axes>"
            ]
          },
          "metadata": {
            "needs_background": "light"
          }
        }
      ]
    },
    {
      "cell_type": "code",
      "metadata": {
        "colab": {
          "base_uri": "https://localhost:8080/"
        },
        "id": "LsvFRAD2rrd_",
        "outputId": "03c577c0-c072-441f-e99b-df1a8d0c7284"
      },
      "source": [
        "# w2v\n",
        "\n",
        "from gensim.models.word2vec import Word2Vec\n",
        "import gensim.downloader as api\n",
        "\n",
        "# 미리 훈련된 word2vec 모델을 다운로드\n",
        "wv = api.load('word2vec-google-news-300')"
      ],
      "execution_count": 43,
      "outputs": [
        {
          "output_type": "stream",
          "name": "stdout",
          "text": [
            "[==================================================] 100.0% 1662.8/1662.8MB downloaded\n"
          ]
        }
      ]
    },
    {
      "cell_type": "code",
      "metadata": {
        "colab": {
          "base_uri": "https://localhost:8080/",
          "height": 728
        },
        "id": "0bwKTaH2rxb1",
        "outputId": "bd3b1364-bcdb-4ea4-a579-a96c37b85626"
      },
      "source": [
        "word2vecs = [wv[i] for i in words]\n",
        "\n",
        "# pca = PCA(n_components=2)\n",
        "xy = pca.fit_transform(word2vecs)\n",
        "x = xy[:,0]\n",
        "y = xy[:,1]\n",
        "\n",
        "plt.figure(figsize=(10,10))\n",
        "\n",
        "plt.scatter(x ,y ,marker = 'o')\n",
        "for i, v in enumerate(words):\n",
        "  plt.annotate(v, xy=(x[i], y[i]))"
      ],
      "execution_count": 44,
      "outputs": [
        {
          "output_type": "display_data",
          "data": {
            "image/png": "[encoded data removed]",
            "text/plain": [
              "<Figure size 720x720 with 1 Axes>"
            ]
          },
          "metadata": {
            "needs_background": "light"
          }
        }
      ]
    }
  ]
}