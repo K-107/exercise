{
  "nbformat": 4,
  "nbformat_minor": 0,
  "metadata": {
    "colab": {
      "name": "7- The_functional_API .ipynb",
      "provenance": [],
      "authorship_tag": "ABX9TyOP5Eip+jP3AnJHcyl96t4s",
      "include_colab_link": true
    },
    "kernelspec": {
      "name": "python3",
      "display_name": "Python 3"
    },
    "language_info": {
      "name": "python"
    }
  },
  "cells": [
    {
      "cell_type": "markdown",
      "metadata": {
        "id": "view-in-github",
        "colab_type": "text"
      },
      "source": [
        "<a href=\"https://colab.research.google.com/github/K-107/exercise/blob/main/7_The_functional_API_.ipynb\" target=\"_parent\"><img src=\"https://colab.research.google.com/assets/colab-badge.svg\" alt=\"Open In Colab\"/></a>"
      ]
    },
    {
      "cell_type": "markdown",
      "metadata": {
        "id": "zymAPzG0GeEz"
      },
      "source": [
        "# 함수형 API"
      ]
    },
    {
      "cell_type": "code",
      "metadata": {
        "colab": {
          "base_uri": "https://localhost:8080/"
        },
        "id": "yXI7Uyt5CDtK",
        "outputId": "6adcf55c-d473-4c22-f99e-3f238ec5d195"
      },
      "source": [
        "from keras import Model, Input, layers\n",
        "# from keras import Sequential은 필요가 없다!\n",
        "\n",
        "# 함수형 API\n",
        "input_tensor = Input(shape=(64,))\n",
        "x = layers.Dense(32, activation='relu')(input_tensor)\n",
        "x = layers.Dense(32, activation='relu')(x)\n",
        "output_tensor = layers.Dense(10, activation='softmax')(x)\n",
        "\n",
        "model = Model(input_tensor, output_tensor)\n",
        "\n",
        "model.summary()"
      ],
      "execution_count": 1,
      "outputs": [
        {
          "output_type": "stream",
          "name": "stdout",
          "text": [
            "Model: \"model\"\n",
            "_________________________________________________________________\n",
            "Layer (type)                 Output Shape              Param #   \n",
            "=================================================================\n",
            "input_1 (InputLayer)         [(None, 64)]              0         \n",
            "_________________________________________________________________\n",
            "dense (Dense)                (None, 32)                2080      \n",
            "_________________________________________________________________\n",
            "dense_1 (Dense)              (None, 32)                1056      \n",
            "_________________________________________________________________\n",
            "dense_2 (Dense)              (None, 10)                330       \n",
            "=================================================================\n",
            "Total params: 3,466\n",
            "Trainable params: 3,466\n",
            "Non-trainable params: 0\n",
            "_________________________________________________________________\n"
          ]
        }
      ]
    },
    {
      "cell_type": "code",
      "metadata": {
        "colab": {
          "base_uri": "https://localhost:8080/"
        },
        "id": "M5UtChb8FC-v",
        "outputId": "11975dba-72d7-40c8-e800-5ec139f1832c"
      },
      "source": [
        "model.compile(optimizer='adam', loss='categorical_crossentropy')\n",
        "\n",
        "import numpy as np\n",
        "x_train = np.random.random((1000, 64))\n",
        "y_train = np.random.random((1000, 10))\n",
        "\n",
        "model.fit(x_train, y_train, epochs=10, batch_size=128)\n",
        "socre = model.evaluate(x_train, y_train)"
      ],
      "execution_count": 2,
      "outputs": [
        {
          "output_type": "stream",
          "name": "stdout",
          "text": [
            "Epoch 1/10\n",
            "8/8 [==============================] - 1s 2ms/step - loss: 12.3538\n",
            "Epoch 2/10\n",
            "8/8 [==============================] - 0s 2ms/step - loss: 12.8679\n",
            "Epoch 3/10\n",
            "8/8 [==============================] - 0s 2ms/step - loss: 13.7206\n",
            "Epoch 4/10\n",
            "8/8 [==============================] - 0s 2ms/step - loss: 14.8097\n",
            "Epoch 5/10\n",
            "8/8 [==============================] - 0s 2ms/step - loss: 16.3541\n",
            "Epoch 6/10\n",
            "8/8 [==============================] - 0s 2ms/step - loss: 19.2004\n",
            "Epoch 7/10\n",
            "8/8 [==============================] - 0s 2ms/step - loss: 23.7912\n",
            "Epoch 8/10\n",
            "8/8 [==============================] - 0s 2ms/step - loss: 29.3482\n",
            "Epoch 9/10\n",
            "8/8 [==============================] - 0s 2ms/step - loss: 35.5823\n",
            "Epoch 10/10\n",
            "8/8 [==============================] - 0s 2ms/step - loss: 43.4963\n",
            "32/32 [==============================] - 0s 924us/step - loss: 48.8352\n"
          ]
        }
      ]
    },
    {
      "cell_type": "markdown",
      "metadata": {
        "id": "Guf9D8wWGVRL"
      },
      "source": [
        "# 2개의 입력을 가진 질문-응답 모델의 함수형 API"
      ]
    },
    {
      "cell_type": "code",
      "metadata": {
        "colab": {
          "base_uri": "https://localhost:8080/"
        },
        "id": "7MkXXnHJFDIJ",
        "outputId": "14dbe98a-43a4-4239-ac20-c3b5839e3c83"
      },
      "source": [
        "from keras import Input, layers, Model\n",
        "'''\n",
        "import하는 순서를 보자면 먼저 Input값을 받고, layers를 만든 다음 Model로 묶어준다!\n",
        "'''\n",
        "\n",
        "text_vocabulary_size = 10000\n",
        "question_vocabulary_size = 10000\n",
        "answer_vocabulary_size = 500\n",
        "\n",
        "text_input = Input(shape=(None,), dtype='int32', name='text')\n",
        "embedded_text = layers.Embedding(text_vocabulary_size, 64)(text_input)\n",
        "encoded_text = layers.SimpleRNN(32)(embedded_text)\n",
        "\n",
        "question_input = Input(shape=(None,), dtype='int32', name='question')\n",
        "embedded_question = layers.Embedding(text_vocabulary_size, 32)(question_input)\n",
        "encoded_question = layers.SimpleRNN(16)(embedded_question)\n",
        "\n",
        "concatenated = layers.concatenate([encoded_text, encoded_question], axis=-1)\n",
        "\n",
        "answer = layers.Dense(answer_vocabulary_size, activation='softmax')(concatenated)\n",
        "\n",
        "model = Model([text_input, question_input], answer)\n",
        "\n",
        "model.summary()"
      ],
      "execution_count": 3,
      "outputs": [
        {
          "output_type": "stream",
          "name": "stdout",
          "text": [
            "Model: \"model_1\"\n",
            "__________________________________________________________________________________________________\n",
            "Layer (type)                    Output Shape         Param #     Connected to                     \n",
            "==================================================================================================\n",
            "text (InputLayer)               [(None, None)]       0                                            \n",
            "__________________________________________________________________________________________________\n",
            "question (InputLayer)           [(None, None)]       0                                            \n",
            "__________________________________________________________________________________________________\n",
            "embedding (Embedding)           (None, None, 64)     640000      text[0][0]                       \n",
            "__________________________________________________________________________________________________\n",
            "embedding_1 (Embedding)         (None, None, 32)     320000      question[0][0]                   \n",
            "__________________________________________________________________________________________________\n",
            "simple_rnn (SimpleRNN)          (None, 32)           3104        embedding[0][0]                  \n",
            "__________________________________________________________________________________________________\n",
            "simple_rnn_1 (SimpleRNN)        (None, 16)           784         embedding_1[0][0]                \n",
            "__________________________________________________________________________________________________\n",
            "concatenate (Concatenate)       (None, 48)           0           simple_rnn[0][0]                 \n",
            "                                                                 simple_rnn_1[0][0]               \n",
            "__________________________________________________________________________________________________\n",
            "dense_3 (Dense)                 (None, 500)          24500       concatenate[0][0]                \n",
            "==================================================================================================\n",
            "Total params: 988,388\n",
            "Trainable params: 988,388\n",
            "Non-trainable params: 0\n",
            "__________________________________________________________________________________________________\n"
          ]
        }
      ]
    },
    {
      "cell_type": "code",
      "metadata": {
        "colab": {
          "base_uri": "https://localhost:8080/"
        },
        "id": "wUftt4hxh3yn",
        "outputId": "dbcfb2c0-6d7d-47aa-ec88-0b0f383256e2"
      },
      "source": [
        "model.compile(optimizer='adam', loss='categorical_crossentropy', metrics=['acc'])\n",
        "\n",
        "import numpy as np\n",
        "# from keras.utils import to_categorical # 코드가 삭제된 듯!\n",
        "from keras.utils.np_utils import to_categorical\n",
        "\n",
        "num_samples = 1000\n",
        "max_length = 100\n",
        "\n",
        "text = np.random.randint(1, text_vocabulary_size, size=(num_samples, max_length))\n",
        "question = np.random.randint(1, question_vocabulary_size, size=(num_samples, max_length))\n",
        "\n",
        "answers = np.random.randint(0, answer_vocabulary_size, size=num_samples)\n",
        "\n",
        "answers = to_categorical(answers)\n",
        "\n",
        "model.fit([text, question], answers, epochs=10, batch_size=128)\n",
        "\n",
        "# model.fit({'text':text, 'question':question}, answers, epochs=10, batch_size=128)"
      ],
      "execution_count": 4,
      "outputs": [
        {
          "output_type": "stream",
          "name": "stdout",
          "text": [
            "Epoch 1/10\n",
            "8/8 [==============================] - 2s 65ms/step - loss: 6.2164 - acc: 0.0020\n",
            "Epoch 2/10\n",
            "8/8 [==============================] - 1s 65ms/step - loss: 6.0006 - acc: 0.4470\n",
            "Epoch 3/10\n",
            "8/8 [==============================] - 1s 73ms/step - loss: 5.7866 - acc: 0.8970\n",
            "Epoch 4/10\n",
            "8/8 [==============================] - 1s 63ms/step - loss: 5.5660 - acc: 0.9950\n",
            "Epoch 5/10\n",
            "8/8 [==============================] - 1s 63ms/step - loss: 5.3521 - acc: 1.0000\n",
            "Epoch 6/10\n",
            "8/8 [==============================] - 0s 62ms/step - loss: 5.1467 - acc: 1.0000\n",
            "Epoch 7/10\n",
            "8/8 [==============================] - 1s 64ms/step - loss: 4.9548 - acc: 1.0000\n",
            "Epoch 8/10\n",
            "8/8 [==============================] - 1s 63ms/step - loss: 4.7789 - acc: 1.0000\n",
            "Epoch 9/10\n",
            "8/8 [==============================] - 0s 62ms/step - loss: 4.6119 - acc: 1.0000\n",
            "Epoch 10/10\n",
            "8/8 [==============================] - 0s 61ms/step - loss: 4.4467 - acc: 1.0000\n"
          ]
        },
        {
          "output_type": "execute_result",
          "data": {
            "text/plain": [
              "<keras.callbacks.History at 0x7f669bd5a450>"
            ]
          },
          "metadata": {},
          "execution_count": 4
        }
      ]
    },
    {
      "cell_type": "code",
      "metadata": {
        "colab": {
          "base_uri": "https://localhost:8080/"
        },
        "id": "NsWJO4ILnPSM",
        "outputId": "b977530f-5d41-4dd1-85f4-79192f94bd36"
      },
      "source": [
        "# 이건 된다.\n",
        "\n",
        "import tensorflow as tf\n",
        "tf.keras.utils.to_categorical"
      ],
      "execution_count": 5,
      "outputs": [
        {
          "output_type": "execute_result",
          "data": {
            "text/plain": [
              "<function keras.utils.np_utils.to_categorical>"
            ]
          },
          "metadata": {},
          "execution_count": 5
        }
      ]
    },
    {
      "cell_type": "markdown",
      "metadata": {
        "id": "eE9rA_tEhPk7"
      },
      "source": [
        "참고! SimpleRNN의 파라미터 수 계산\n",
        "\n",
        "https://ichi.pro/ko/keras-ui-rnn-mich-lstme-daehan-sil-yongjeog-in-gaideu-167190584259004"
      ]
    },
    {
      "cell_type": "code",
      "metadata": {
        "colab": {
          "base_uri": "https://localhost:8080/"
        },
        "id": "EGJPIFWuFDMT",
        "outputId": "4b25873c-dd80-4a5d-fa17-a324e5ff8c9b"
      },
      "source": [
        "from keras.models import Sequential\n",
        "from keras.layers import SimpleRNN\n",
        "\n",
        "model = Sequential()\n",
        "model.add(SimpleRNN(3, input_shape=(2,10)))\n",
        "# model.add(SimpleRNN(3, input_length=2, input_dim=10))와 동일함.\n",
        "model.summary()\n",
        "\n",
        "# 3*3+3*10+3 = 42"
      ],
      "execution_count": 6,
      "outputs": [
        {
          "output_type": "stream",
          "name": "stdout",
          "text": [
            "Model: \"sequential\"\n",
            "_________________________________________________________________\n",
            "Layer (type)                 Output Shape              Param #   \n",
            "=================================================================\n",
            "simple_rnn_2 (SimpleRNN)     (None, 3)                 42        \n",
            "=================================================================\n",
            "Total params: 42\n",
            "Trainable params: 42\n",
            "Non-trainable params: 0\n",
            "_________________________________________________________________\n"
          ]
        }
      ]
    },
    {
      "cell_type": "markdown",
      "metadata": {
        "id": "ZYdAF2k7k_8J"
      },
      "source": [
        "# 다중 출력 모델"
      ]
    },
    {
      "cell_type": "code",
      "metadata": {
        "colab": {
          "base_uri": "https://localhost:8080/"
        },
        "id": "B4Aj6MqBFDYD",
        "outputId": "4ef3068b-4b3a-4f19-b6ee-689562ba2d1b"
      },
      "source": [
        "from keras import Input, layers, Model\n",
        "\n",
        "vocabulary_size = 50000\n",
        "num_income_groups = 10\n",
        "\n",
        "posts_input = Input(shape=(None,), dtype='int32', name='posts')\n",
        "embedded_posts = layers.Embedding(vocabulary_size, 256)(posts_input)\n",
        "x = layers.Conv1D(128, 5, activation='relu')(embedded_posts)\n",
        "x = layers.MaxPooling1D(5)(x) # strides: Integer, or None. Specifies how much the pooling window moves\n",
        "                           # for each pooling step. If None, it will default to pool_size.\n",
        "x = layers.Conv1D(256, 5, activation='relu')(x)\n",
        "x = layers.Conv1D(256, 5, activation='relu')(x)\n",
        "x = layers.MaxPooling1D(5)(x)\n",
        "x = layers.Conv1D(256, 5, activation='relu')(x)\n",
        "x = layers.Conv1D(256, 5, activation='relu')(x)\n",
        "x = layers.GlobalMaxPooling1D()(x)\n",
        "x = layers.Dense(128, activation='relu')(x)\n",
        "\n",
        "age_prediction = layers.Dense(1, name='age')(x)\n",
        "income_prediction = layers.Dense(num_income_groups, activation='softmax', name='income')(x)\n",
        "gender_prediction = layers.Dense(1, activation='sigmoid', name='gender')(x)\n",
        "\n",
        "model = Model(posts_input, [age_prediction, income_prediction, gender_prediction])\n",
        "\n",
        "model.summary()"
      ],
      "execution_count": 11,
      "outputs": [
        {
          "output_type": "stream",
          "name": "stdout",
          "text": [
            "Model: \"model_2\"\n",
            "__________________________________________________________________________________________________\n",
            "Layer (type)                    Output Shape         Param #     Connected to                     \n",
            "==================================================================================================\n",
            "posts (InputLayer)              [(None, None)]       0                                            \n",
            "__________________________________________________________________________________________________\n",
            "embedding_6 (Embedding)         (None, None, 256)    12800000    posts[0][0]                      \n",
            "__________________________________________________________________________________________________\n",
            "conv1d_16 (Conv1D)              (None, None, 128)    163968      embedding_6[0][0]                \n",
            "__________________________________________________________________________________________________\n",
            "max_pooling1d_7 (MaxPooling1D)  (None, None, 128)    0           conv1d_16[0][0]                  \n",
            "__________________________________________________________________________________________________\n",
            "conv1d_17 (Conv1D)              (None, None, 256)    164096      max_pooling1d_7[0][0]            \n",
            "__________________________________________________________________________________________________\n",
            "conv1d_18 (Conv1D)              (None, None, 256)    327936      conv1d_17[0][0]                  \n",
            "__________________________________________________________________________________________________\n",
            "max_pooling1d_8 (MaxPooling1D)  (None, None, 256)    0           conv1d_18[0][0]                  \n",
            "__________________________________________________________________________________________________\n",
            "conv1d_19 (Conv1D)              (None, None, 256)    327936      max_pooling1d_8[0][0]            \n",
            "__________________________________________________________________________________________________\n",
            "conv1d_20 (Conv1D)              (None, None, 256)    327936      conv1d_19[0][0]                  \n",
            "__________________________________________________________________________________________________\n",
            "global_max_pooling1d_2 (GlobalM (None, 256)          0           conv1d_20[0][0]                  \n",
            "__________________________________________________________________________________________________\n",
            "dense_6 (Dense)                 (None, 128)          32896       global_max_pooling1d_2[0][0]     \n",
            "__________________________________________________________________________________________________\n",
            "age (Dense)                     (None, 1)            129         dense_6[0][0]                    \n",
            "__________________________________________________________________________________________________\n",
            "income (Dense)                  (None, 10)           1290        dense_6[0][0]                    \n",
            "__________________________________________________________________________________________________\n",
            "gender (Dense)                  (None, 1)            129         dense_6[0][0]                    \n",
            "==================================================================================================\n",
            "Total params: 14,146,316\n",
            "Trainable params: 14,146,316\n",
            "Non-trainable params: 0\n",
            "__________________________________________________________________________________________________\n"
          ]
        }
      ]
    },
    {
      "cell_type": "code",
      "metadata": {
        "id": "ZOIr3_qPFDbC"
      },
      "source": [
        "# model.compile(optimizer='adam', loss=['mse', 'categorical_crossentropy', 'binary_crossentropy'])\n",
        "# model.compile(optimizer='adam',\n",
        "#               loss={'age':'mse', 'income':'categorical_crossentropy', 'gender':'binary_crossentropy'})\n",
        "\n",
        "model.compile(optimizer='adam',\n",
        "              loss=['mse', 'categorical_crossentropy', 'binary_crossentropy'],\n",
        "              loss_weights=[0.25, 1., 10.,])\n",
        "# model.compile(optimizer='adam',\n",
        "#               loss={'age':'mse', 'income':'categorical_crossentropy', 'gender':'binary_crossentropy'},\n",
        "#               loss_weights={'age': 0.25,\n",
        "#                             'income': 1.,\n",
        "#                             'gender': 10.})"
      ],
      "execution_count": 14,
      "outputs": []
    },
    {
      "cell_type": "code",
      "metadata": {
        "id": "adqtVfauFDdj"
      },
      "source": [
        "model.fit('posts':post, [age_targets, income_targets, gender_targets],\n",
        "          epochs=10, batch_size=64)\n",
        "\n",
        "# model.fit(posts, {'age': age_targets,\n",
        "#                   'income':income_targets,\n",
        "#                   'gender': gender_targets},\n",
        "#           epochs=10, batch_size=64)"
      ],
      "execution_count": null,
      "outputs": []
    },
    {
      "cell_type": "code",
      "metadata": {
        "id": "YKVlIf6gvkM2"
      },
      "source": [
        ""
      ],
      "execution_count": null,
      "outputs": []
    },
    {
      "cell_type": "code",
      "metadata": {
        "id": "VMwVe6CTvkBy"
      },
      "source": [
        ""
      ],
      "execution_count": null,
      "outputs": []
    },
    {
      "cell_type": "code",
      "metadata": {
        "id": "sdZiEFzrvjrn"
      },
      "source": [
        ""
      ],
      "execution_count": null,
      "outputs": []
    }
  ]
}