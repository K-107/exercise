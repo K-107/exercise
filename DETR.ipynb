{
  "nbformat": 4,
  "nbformat_minor": 0,
  "metadata": {
    "colab": {
      "name": "DETR.ipynb",
      "provenance": [],
      "mount_file_id": "1lXrvcMmdRNnsdT_qm-eib_9B9bNAcaX_",
      "authorship_tag": "ABX9TyNOIwOtaidpvmErypxQo5ot",
      "include_colab_link": true
    },
    "kernelspec": {
      "name": "python3",
      "display_name": "Python 3"
    },
    "language_info": {
      "name": "python"
    },
    "accelerator": "GPU"
  },
  "cells": [
    {
      "cell_type": "markdown",
      "metadata": {
        "id": "view-in-github",
        "colab_type": "text"
      },
      "source": [
        "<a href=\"https://colab.research.google.com/github/K-107/exercise/blob/main/DETR.ipynb\" target=\"_parent\"><img src=\"https://colab.research.google.com/assets/colab-badge.svg\" alt=\"Open In Colab\"/></a>"
      ]
    },
    {
      "cell_type": "code",
      "metadata": {
        "id": "mSdmFAIICBa2"
      },
      "source": [
        "from PIL import Image\n",
        "import numpy as np\n",
        "import matplotlib.pyplot as plt\n",
        "%matplotlib inline\n",
        "import os\n",
        "import cv2\n",
        "import torch\n",
        "from torch import nn\n",
        "from torchvision.models import resnet50\n",
        "import tensorflow as tf"
      ],
      "execution_count": 2,
      "outputs": []
    },
    {
      "cell_type": "code",
      "metadata": {
        "id": "NcwHR-XmCHlD"
      },
      "source": [
        "path = '/content/drive/MyDrive/음식인식/img_girl.jpg'\n",
        "img = cv2.imread(path, cv2.IMREAD_ANYCOLOR)\n",
        "np_img = np.array(img)"
      ],
      "execution_count": 47,
      "outputs": []
    },
    {
      "cell_type": "code",
      "metadata": {
        "colab": {
          "base_uri": "https://localhost:8080/"
        },
        "id": "I9LI__wbCVyo",
        "outputId": "2dfa43ed-6dfa-4cea-9c10-983502c310c6"
      },
      "source": [
        "np_img.shape, img.shape"
      ],
      "execution_count": 48,
      "outputs": [
        {
          "output_type": "execute_result",
          "data": {
            "text/plain": [
              "((800, 1200, 3), (800, 1200, 3))"
            ]
          },
          "metadata": {},
          "execution_count": 48
        }
      ]
    },
    {
      "cell_type": "code",
      "metadata": {
        "colab": {
          "base_uri": "https://localhost:8080/"
        },
        "id": "MSL4gKotFoBO",
        "outputId": "7e3681ea-2169-4d37-b7f8-284134096a3c"
      },
      "source": [
        "np_img = np.expand_dims(img, axis=0)\n",
        "np_img.shape"
      ],
      "execution_count": 49,
      "outputs": [
        {
          "output_type": "execute_result",
          "data": {
            "text/plain": [
              "(1, 800, 1200, 3)"
            ]
          },
          "metadata": {},
          "execution_count": 49
        }
      ]
    },
    {
      "cell_type": "code",
      "metadata": {
        "colab": {
          "base_uri": "https://localhost:8080/"
        },
        "id": "oZIlqLW9G0Jr",
        "outputId": "ab88cc43-76fc-4dc1-c701-2900fa5159f4"
      },
      "source": [
        "tf_img = tf.transpose(np_img, perm=[0, 3, 1, 2])\n",
        "np_img = tf_img.numpy()\n",
        "np_img.shape"
      ],
      "execution_count": 50,
      "outputs": [
        {
          "output_type": "execute_result",
          "data": {
            "text/plain": [
              "(1, 3, 800, 1200)"
            ]
          },
          "metadata": {},
          "execution_count": 50
        }
      ]
    },
    {
      "cell_type": "code",
      "metadata": {
        "colab": {
          "base_uri": "https://localhost:8080/"
        },
        "id": "UQi2y1R3Hmj2",
        "outputId": "0fcbaa36-ced5-4120-a013-0920691ddd0d"
      },
      "source": [
        "torch_img = torch.tensor(np_img)\n",
        "torch_img.shape"
      ],
      "execution_count": 58,
      "outputs": [
        {
          "output_type": "execute_result",
          "data": {
            "text/plain": [
              "torch.Size([1, 3, 800, 1200])"
            ]
          },
          "metadata": {},
          "execution_count": 58
        }
      ]
    },
    {
      "cell_type": "code",
      "metadata": {
        "colab": {
          "base_uri": "https://localhost:8080/"
        },
        "id": "HdHb001QI9U8",
        "outputId": "1f347ea4-d51f-4636-cfba-6aa4b9115732"
      },
      "source": [
        "torch_img"
      ],
      "execution_count": 59,
      "outputs": [
        {
          "output_type": "execute_result",
          "data": {
            "text/plain": [
              "tensor([[[[ 44,  29,  22,  ..., 133, 138, 143],\n",
              "          [ 44,  36,  30,  ..., 134, 134, 135],\n",
              "          [ 41,  41,  34,  ..., 131, 129, 129],\n",
              "          ...,\n",
              "          [125, 119, 111,  ...,  94,  91,  93],\n",
              "          [117,  99,  91,  ...,  98,  91,  89],\n",
              "          [ 83,  76,  70,  ...,  99,  89,  82]],\n",
              "\n",
              "         [[ 84,  69,  60,  ..., 155, 158, 162],\n",
              "          [ 84,  76,  68,  ..., 156, 154, 154],\n",
              "          [ 78,  78,  69,  ..., 153, 151, 151],\n",
              "          ...,\n",
              "          [147, 141, 131,  ..., 138, 137, 139],\n",
              "          [139, 121, 111,  ..., 143, 137, 135],\n",
              "          [105,  98,  90,  ..., 144, 135, 128]],\n",
              "\n",
              "         [[ 49,  34,  24,  ..., 130, 135, 141],\n",
              "          [ 49,  41,  32,  ..., 131, 131, 133],\n",
              "          [ 44,  44,  35,  ..., 128, 127, 127],\n",
              "          ...,\n",
              "          [158, 152, 142,  ...,  91,  90,  92],\n",
              "          [151, 132, 122,  ...,  94,  90,  88],\n",
              "          [117, 110, 101,  ...,  95,  88,  81]]]], dtype=torch.uint8)"
            ]
          },
          "metadata": {},
          "execution_count": 59
        }
      ]
    },
    {
      "cell_type": "code",
      "metadata": {
        "colab": {
          "base_uri": "https://localhost:8080/"
        },
        "id": "8d7iITvXI0Tc",
        "outputId": "6a37a166-8c62-4325-f03b-0edfd33ccd7b"
      },
      "source": [
        "torch_img = torch_img.type(torch.LongTensor)\n",
        "torch_img = torch_img/255\n",
        "torch_img"
      ],
      "execution_count": 66,
      "outputs": [
        {
          "output_type": "execute_result",
          "data": {
            "text/plain": [
              "tensor([[[[0.1725, 0.1137, 0.0863,  ..., 0.5216, 0.5412, 0.5608],\n",
              "          [0.1725, 0.1412, 0.1176,  ..., 0.5255, 0.5255, 0.5294],\n",
              "          [0.1608, 0.1608, 0.1333,  ..., 0.5137, 0.5059, 0.5059],\n",
              "          ...,\n",
              "          [0.4902, 0.4667, 0.4353,  ..., 0.3686, 0.3569, 0.3647],\n",
              "          [0.4588, 0.3882, 0.3569,  ..., 0.3843, 0.3569, 0.3490],\n",
              "          [0.3255, 0.2980, 0.2745,  ..., 0.3882, 0.3490, 0.3216]],\n",
              "\n",
              "         [[0.3294, 0.2706, 0.2353,  ..., 0.6078, 0.6196, 0.6353],\n",
              "          [0.3294, 0.2980, 0.2667,  ..., 0.6118, 0.6039, 0.6039],\n",
              "          [0.3059, 0.3059, 0.2706,  ..., 0.6000, 0.5922, 0.5922],\n",
              "          ...,\n",
              "          [0.5765, 0.5529, 0.5137,  ..., 0.5412, 0.5373, 0.5451],\n",
              "          [0.5451, 0.4745, 0.4353,  ..., 0.5608, 0.5373, 0.5294],\n",
              "          [0.4118, 0.3843, 0.3529,  ..., 0.5647, 0.5294, 0.5020]],\n",
              "\n",
              "         [[0.1922, 0.1333, 0.0941,  ..., 0.5098, 0.5294, 0.5529],\n",
              "          [0.1922, 0.1608, 0.1255,  ..., 0.5137, 0.5137, 0.5216],\n",
              "          [0.1725, 0.1725, 0.1373,  ..., 0.5020, 0.4980, 0.4980],\n",
              "          ...,\n",
              "          [0.6196, 0.5961, 0.5569,  ..., 0.3569, 0.3529, 0.3608],\n",
              "          [0.5922, 0.5176, 0.4784,  ..., 0.3686, 0.3529, 0.3451],\n",
              "          [0.4588, 0.4314, 0.3961,  ..., 0.3725, 0.3451, 0.3176]]]])"
            ]
          },
          "metadata": {},
          "execution_count": 66
        }
      ]
    },
    {
      "cell_type": "code",
      "metadata": {
        "id": "AvqVJHe4B4Pw"
      },
      "source": [
        "class DETR(nn.Module):\n",
        "  def __init__(self, num_classes, hidden_dim, nheads, num_encoder_layers, num_decoder_layers):\n",
        "    super().__init__()\n",
        "    # We take only convolutional layers from ResNet-50 model\n",
        "    self.backbone = nn.Sequential(*list(resnet50(pretrained=True).children())[:-2])\n",
        "    self.conv = nn.Conv2d(2048, hidden_dim, 1)\n",
        "    self.transformer = nn.Transformer(hidden_dim, nheads, num_encoder_layers, num_decoder_layers)\n",
        "    self.linear_class = nn.Linear(hidden_dim, num_classes + 1)\n",
        "    self.linear_bbox = nn.Linear(hidden_dim, 4)\n",
        "    self.query_pos = nn.Parameter(torch.rand(100, hidden_dim))\n",
        "    self.row_embed = nn.Parameter(torch.rand(50, hidden_dim // 2))\n",
        "    self.col_embed = nn.Parameter(torch.rand(50, hidden_dim // 2))\n",
        "\n",
        "  def forward(self, inputs):\n",
        "    x = self.backbone(inputs)\n",
        "    h = self.conv(x)\n",
        "    H, W = h.shape[-2:]\n",
        "    pos = torch.cat([\n",
        "    self.col_embed[:W].unsqueeze(0).repeat(H, 1, 1),\n",
        "    self.row_embed[:H].unsqueeze(1).repeat(1, W, 1),\n",
        "    ], dim=-1).flatten(0, 1).unsqueeze(1)\n",
        "    h = self.transformer(pos + h.flatten(2).permute(2, 0, 1),\n",
        "    self.query_pos.unsqueeze(1))\n",
        "    return self.linear_class(h), self.linear_bbox(h).sigmoid()\n",
        "\n",
        "\n",
        "detr = DETR(num_classes=91, hidden_dim=256, nheads=8, num_encoder_layers=6, num_decoder_layers=6)\n",
        "detr.eval()\n",
        "inputs = torch.randn(1, 3, 800, 1200)\n",
        "inputs1 = torch_img\n",
        "logits, bboxes = detr(inputs)\n",
        "logits1, bboxes1 = detr(inputs1)\n"
      ],
      "execution_count": 75,
      "outputs": []
    },
    {
      "cell_type": "code",
      "metadata": {
        "colab": {
          "base_uri": "https://localhost:8080/"
        },
        "id": "QhqAFToKLUzl",
        "outputId": "457ff7fd-38b7-4d4c-9db4-7cd41e9839ca"
      },
      "source": [
        "logits.shape"
      ],
      "execution_count": 76,
      "outputs": [
        {
          "output_type": "execute_result",
          "data": {
            "text/plain": [
              "torch.Size([100, 1, 92])"
            ]
          },
          "metadata": {},
          "execution_count": 76
        }
      ]
    },
    {
      "cell_type": "code",
      "metadata": {
        "colab": {
          "base_uri": "https://localhost:8080/"
        },
        "id": "gIxxfrloLpRk",
        "outputId": "44911506-3a52-40e2-eedd-9b870e965056"
      },
      "source": [
        "logits1.shape"
      ],
      "execution_count": 77,
      "outputs": [
        {
          "output_type": "execute_result",
          "data": {
            "text/plain": [
              "torch.Size([100, 1, 92])"
            ]
          },
          "metadata": {},
          "execution_count": 77
        }
      ]
    },
    {
      "cell_type": "code",
      "metadata": {
        "colab": {
          "base_uri": "https://localhost:8080/"
        },
        "id": "t2MaV3-SOs-b",
        "outputId": "044e331b-2268-4a2b-fbd1-7bd523de9218"
      },
      "source": [
        "a = torch.ones(5)\n",
        "b = a.numpy()\n",
        "print(b)"
      ],
      "execution_count": 91,
      "outputs": [
        {
          "output_type": "stream",
          "name": "stdout",
          "text": [
            "[1. 1. 1. 1. 1.]\n"
          ]
        }
      ]
    },
    {
      "cell_type": "code",
      "metadata": {
        "colab": {
          "base_uri": "https://localhost:8080/"
        },
        "id": "PpMs0t1IOzR6",
        "outputId": "b0830aeb-933e-4a7e-b3ed-7ee5844c0c6b"
      },
      "source": [
        "a"
      ],
      "execution_count": 94,
      "outputs": [
        {
          "output_type": "execute_result",
          "data": {
            "text/plain": [
              "tensor([1., 1., 1., 1., 1.])"
            ]
          },
          "metadata": {},
          "execution_count": 94
        }
      ]
    },
    {
      "cell_type": "code",
      "metadata": {
        "colab": {
          "base_uri": "https://localhost:8080/"
        },
        "id": "IGk9zRqFOwt-",
        "outputId": "5793bfd4-4bd2-4aea-9716-d938edb88ce4"
      },
      "source": [
        "logits1"
      ],
      "execution_count": 92,
      "outputs": [
        {
          "output_type": "execute_result",
          "data": {
            "text/plain": [
              "tensor([[[-1.7012e-01,  2.6034e-01, -5.1403e-02,  ...,  5.5652e-02,\n",
              "           7.0462e-01, -3.1343e-01]],\n",
              "\n",
              "        [[-4.0364e-03,  2.0445e-01, -1.0340e-01,  ...,  1.2523e-01,\n",
              "           6.4167e-01, -3.9646e-01]],\n",
              "\n",
              "        [[-2.1653e-02,  3.6273e-01, -1.1103e-02,  ...,  1.0918e-01,\n",
              "           6.5414e-01, -4.2067e-01]],\n",
              "\n",
              "        ...,\n",
              "\n",
              "        [[-6.6616e-02,  1.4370e-01, -9.6459e-02,  ...,  9.6160e-02,\n",
              "           6.3207e-01, -4.1516e-01]],\n",
              "\n",
              "        [[-1.2988e-01,  1.5655e-01,  1.3377e-02,  ...,  6.2119e-02,\n",
              "           6.8481e-01, -4.5978e-01]],\n",
              "\n",
              "        [[-2.2720e-01,  2.4774e-01, -4.3460e-02,  ...,  5.3901e-04,\n",
              "           6.4076e-01, -3.6974e-01]]], grad_fn=<AddBackward0>)"
            ]
          },
          "metadata": {},
          "execution_count": 92
        }
      ]
    },
    {
      "cell_type": "code",
      "metadata": {
        "colab": {
          "base_uri": "https://localhost:8080/"
        },
        "id": "XYRq75CMPM7w",
        "outputId": "71380c4b-b6c4-49d8-a869-cb193e209d13"
      },
      "source": [
        "torch.argmax(logits1, dim=0)"
      ],
      "execution_count": 102,
      "outputs": [
        {
          "output_type": "execute_result",
          "data": {
            "text/plain": [
              "tensor([[ 6,  2, 93, 43, 71, 22, 42, 33,  2, 69, 92, 45, 23, 91, 88, 92, 71, 92,\n",
              "          8,  8, 50, 70, 61,  5, 84, 28, 46,  7, 17, 25, 42, 12, 56, 51, 45, 19,\n",
              "         37, 47, 92, 27,  3, 65, 55, 58, 42, 52, 52, 85, 96,  8, 33, 23, 86, 36,\n",
              "          6, 91, 38, 36, 66, 68, 37, 15, 95, 59,  6, 42, 94, 33, 27, 92, 92, 70,\n",
              "         81,  1, 64, 29, 28, 46, 28, 86, 36, 66, 25, 21, 95, 65, 81, 85, 20, 19,\n",
              "         77, 46]])"
            ]
          },
          "metadata": {},
          "execution_count": 102
        }
      ]
    },
    {
      "cell_type": "code",
      "metadata": {
        "colab": {
          "base_uri": "https://localhost:8080/"
        },
        "id": "bYL3vNcVMOz9",
        "outputId": "1a6d30ed-394c-4822-be6a-dcd7ff7a30ea"
      },
      "source": [
        "torch.argmax(logits1, dim=2)"
      ],
      "execution_count": 101,
      "outputs": [
        {
          "output_type": "execute_result",
          "data": {
            "text/plain": [
              "tensor([[31],\n",
              "        [31],\n",
              "        [31],\n",
              "        [31],\n",
              "        [31],\n",
              "        [31],\n",
              "        [31],\n",
              "        [31],\n",
              "        [31],\n",
              "        [31],\n",
              "        [31],\n",
              "        [31],\n",
              "        [31],\n",
              "        [31],\n",
              "        [31],\n",
              "        [31],\n",
              "        [31],\n",
              "        [31],\n",
              "        [31],\n",
              "        [73],\n",
              "        [31],\n",
              "        [31],\n",
              "        [31],\n",
              "        [31],\n",
              "        [31],\n",
              "        [31],\n",
              "        [31],\n",
              "        [31],\n",
              "        [31],\n",
              "        [31],\n",
              "        [31],\n",
              "        [31],\n",
              "        [31],\n",
              "        [73],\n",
              "        [31],\n",
              "        [31],\n",
              "        [31],\n",
              "        [31],\n",
              "        [31],\n",
              "        [31],\n",
              "        [31],\n",
              "        [31],\n",
              "        [31],\n",
              "        [31],\n",
              "        [31],\n",
              "        [31],\n",
              "        [31],\n",
              "        [31],\n",
              "        [31],\n",
              "        [31],\n",
              "        [31],\n",
              "        [31],\n",
              "        [31],\n",
              "        [31],\n",
              "        [31],\n",
              "        [31],\n",
              "        [31],\n",
              "        [31],\n",
              "        [31],\n",
              "        [31],\n",
              "        [31],\n",
              "        [31],\n",
              "        [31],\n",
              "        [31],\n",
              "        [31],\n",
              "        [31],\n",
              "        [31],\n",
              "        [31],\n",
              "        [31],\n",
              "        [31],\n",
              "        [31],\n",
              "        [31],\n",
              "        [31],\n",
              "        [31],\n",
              "        [31],\n",
              "        [31],\n",
              "        [31],\n",
              "        [31],\n",
              "        [31],\n",
              "        [31],\n",
              "        [31],\n",
              "        [31],\n",
              "        [31],\n",
              "        [31],\n",
              "        [31],\n",
              "        [31],\n",
              "        [31],\n",
              "        [31],\n",
              "        [31],\n",
              "        [31],\n",
              "        [31],\n",
              "        [31],\n",
              "        [31],\n",
              "        [31],\n",
              "        [31],\n",
              "        [31],\n",
              "        [31],\n",
              "        [31],\n",
              "        [31],\n",
              "        [31]])"
            ]
          },
          "metadata": {},
          "execution_count": 101
        }
      ]
    },
    {
      "cell_type": "code",
      "metadata": {
        "colab": {
          "base_uri": "https://localhost:8080/"
        },
        "id": "AQnER4RtLUw6",
        "outputId": "26cced90-75f7-400f-b327-1934c10b031f"
      },
      "source": [
        "bboxes.shape"
      ],
      "execution_count": 78,
      "outputs": [
        {
          "output_type": "execute_result",
          "data": {
            "text/plain": [
              "torch.Size([100, 1, 4])"
            ]
          },
          "metadata": {},
          "execution_count": 78
        }
      ]
    },
    {
      "cell_type": "code",
      "metadata": {
        "colab": {
          "base_uri": "https://localhost:8080/"
        },
        "id": "AzshcpfcLuSJ",
        "outputId": "b6dc6b64-adf7-4844-952d-124b230d9900"
      },
      "source": [
        "bboxes1.shape"
      ],
      "execution_count": 79,
      "outputs": [
        {
          "output_type": "execute_result",
          "data": {
            "text/plain": [
              "torch.Size([100, 1, 4])"
            ]
          },
          "metadata": {},
          "execution_count": 79
        }
      ]
    },
    {
      "cell_type": "code",
      "metadata": {
        "id": "I8ONp-EtNDwH"
      },
      "source": [
        "# COCO classes\n",
        "CLASSES = [\n",
        "    'N/A', 'person', 'bicycle', 'car', 'motorcycle', 'airplane', 'bus',\n",
        "    'train', 'truck', 'boat', 'traffic light', 'fire hydrant', 'N/A',\n",
        "    'stop sign', 'parking meter', 'bench', 'bird', 'cat', 'dog', 'horse',\n",
        "    'sheep', 'cow', 'elephant', 'bear', 'zebra', 'giraffe', 'N/A', 'backpack',\n",
        "    'umbrella', 'N/A', 'N/A', 'handbag', 'tie', 'suitcase', 'frisbee', 'skis',\n",
        "    'snowboard', 'sports ball', 'kite', 'baseball bat', 'baseball glove',\n",
        "    'skateboard', 'surfboard', 'tennis racket', 'bottle', 'N/A', 'wine glass',\n",
        "    'cup', 'fork', 'knife', 'spoon', 'bowl', 'banana', 'apple', 'sandwich',\n",
        "    'orange', 'broccoli', 'carrot', 'hot dog', 'pizza', 'donut', 'cake',\n",
        "    'chair', 'couch', 'potted plant', 'bed', 'N/A', 'dining table', 'N/A',\n",
        "    'N/A', 'toilet', 'N/A', 'tv', 'laptop', 'mouse', 'remote', 'keyboard',\n",
        "    'cell phone', 'microwave', 'oven', 'toaster', 'sink', 'refrigerator', 'N/A',\n",
        "    'book', 'clock', 'vase', 'scissors', 'teddy bear', 'hair drier',\n",
        "    'toothbrush'\n",
        "]"
      ],
      "execution_count": 82,
      "outputs": []
    },
    {
      "cell_type": "code",
      "metadata": {
        "colab": {
          "base_uri": "https://localhost:8080/"
        },
        "id": "Nw6PQpH2N0Ax",
        "outputId": "e49cece7-cb96-4133-b373-1603d61a7cf1"
      },
      "source": [
        "len(CLASSES)"
      ],
      "execution_count": 83,
      "outputs": [
        {
          "output_type": "execute_result",
          "data": {
            "text/plain": [
              "91"
            ]
          },
          "metadata": {},
          "execution_count": 83
        }
      ]
    },
    {
      "cell_type": "code",
      "metadata": {
        "id": "Aj5PuS6uNDt0"
      },
      "source": [
        "import matplotlib.pyplot as plt\n",
        "\n",
        "def plot_results(pil_img, prob=None, boxes=None):\n",
        "    plt.figure(figsize=(16,10))\n",
        "    plt.imshow(pil_img)\n",
        "    ax = plt.gca()\n",
        "    colors = COLORS * 100\n",
        "    if prob is not None and boxes is not None:\n",
        "      for p, (xmin, ymin, xmax, ymax), c in zip(prob, boxes.tolist(), colors):\n",
        "          ax.add_patch(plt.Rectangle((xmin, ymin), xmax - xmin, ymax - ymin,\n",
        "                                    fill=False, color=c, linewidth=3))\n",
        "          cl = p.argmax()\n",
        "          text = f'{CLASSES[cl]}: {p[cl]:0.2f}'\n",
        "          ax.text(xmin, ymin, text, fontsize=15,\n",
        "                  bbox=dict(facecolor='yellow', alpha=0.5))\n",
        "    plt.axis('off')\n",
        "    plt.show()"
      ],
      "execution_count": null,
      "outputs": []
    },
    {
      "cell_type": "code",
      "metadata": {
        "id": "SVZUjAqONDp5"
      },
      "source": [
        ""
      ],
      "execution_count": null,
      "outputs": []
    }
  ]
}